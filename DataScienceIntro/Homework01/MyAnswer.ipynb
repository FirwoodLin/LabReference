{
 "cells": [
  {
   "cell_type": "markdown",
   "source": [
    "导入所需要的库"
   ],
   "metadata": {
    "collapsed": false,
    "pycharm": {
     "name": "#%% md\n"
    }
   }
  },
  {
   "cell_type": "code",
   "execution_count": 1,
   "outputs": [],
   "source": [
    "import pandas as pd\n",
    "import numpy as np\n",
    "import matplotlib.pyplot as plt\n",
    "import matplotlib\n",
    "from sklearn import preprocessing\n",
    "import seaborn as sns\n",
    "import re"
   ],
   "metadata": {
    "collapsed": false,
    "pycharm": {
     "name": "#%%\n"
    }
   }
  },
  {
   "cell_type": "markdown",
   "source": [
    "读取数据"
   ],
   "metadata": {
    "collapsed": false,
    "pycharm": {
     "name": "#%% md\n"
    }
   }
  },
  {
   "cell_type": "code",
   "execution_count": 2,
   "outputs": [
    {
     "data": {
      "text/plain": "          id  member_id  loan_amnt  funded_amnt  funded_amnt_inv        term   \n0  158303403        NaN      12000        12000            12000   36 months  \\\n1  158628181        NaN      20000        20000            20000   36 months   \n2  159231951        NaN      18000        18000            18000   60 months   \n3  159289397        NaN      10000        10000            10000   36 months   \n4  159296485        NaN       7000         7000             7000   36 months   \n\n  int_rate  installment grade sub_grade  ...   \n0    8.19%       377.09     A        A4  ...  \\\n1    8.81%       634.23     A        A5  ...   \n2   13.08%       410.30     B        B5  ...   \n3   10.33%       324.23     B        B1  ...   \n4   18.62%       255.25     D        D1  ...   \n\n  orig_projected_additional_accrued_interest hardship_payoff_balance_amount   \n0                                        NaN                            NaN  \\\n1                                        NaN                            NaN   \n2                                        NaN                            NaN   \n3                                        NaN                            NaN   \n4                                        NaN                            NaN   \n\n  hardship_last_payment_amount  debt_settlement_flag   \n0                          NaN                     N  \\\n1                          NaN                     N   \n2                          NaN                     N   \n3                          NaN                     N   \n4                          NaN                     N   \n\n  debt_settlement_flag_date settlement_status settlement_date   \n0                       NaN               NaN             NaN  \\\n1                       NaN               NaN             NaN   \n2                       NaN               NaN             NaN   \n3                       NaN               NaN             NaN   \n4                       NaN               NaN             NaN   \n\n  settlement_amount settlement_percentage  settlement_term  \n0               NaN                   NaN              NaN  \n1               NaN                   NaN              NaN  \n2               NaN                   NaN              NaN  \n3               NaN                   NaN              NaN  \n4               NaN                   NaN              NaN  \n\n[5 rows x 150 columns]",
      "text/html": "<div>\n<style scoped>\n    .dataframe tbody tr th:only-of-type {\n        vertical-align: middle;\n    }\n\n    .dataframe tbody tr th {\n        vertical-align: top;\n    }\n\n    .dataframe thead th {\n        text-align: right;\n    }\n</style>\n<table border=\"1\" class=\"dataframe\">\n  <thead>\n    <tr style=\"text-align: right;\">\n      <th></th>\n      <th>id</th>\n      <th>member_id</th>\n      <th>loan_amnt</th>\n      <th>funded_amnt</th>\n      <th>funded_amnt_inv</th>\n      <th>term</th>\n      <th>int_rate</th>\n      <th>installment</th>\n      <th>grade</th>\n      <th>sub_grade</th>\n      <th>...</th>\n      <th>orig_projected_additional_accrued_interest</th>\n      <th>hardship_payoff_balance_amount</th>\n      <th>hardship_last_payment_amount</th>\n      <th>debt_settlement_flag</th>\n      <th>debt_settlement_flag_date</th>\n      <th>settlement_status</th>\n      <th>settlement_date</th>\n      <th>settlement_amount</th>\n      <th>settlement_percentage</th>\n      <th>settlement_term</th>\n    </tr>\n  </thead>\n  <tbody>\n    <tr>\n      <th>0</th>\n      <td>158303403</td>\n      <td>NaN</td>\n      <td>12000</td>\n      <td>12000</td>\n      <td>12000</td>\n      <td>36 months</td>\n      <td>8.19%</td>\n      <td>377.09</td>\n      <td>A</td>\n      <td>A4</td>\n      <td>...</td>\n      <td>NaN</td>\n      <td>NaN</td>\n      <td>NaN</td>\n      <td>N</td>\n      <td>NaN</td>\n      <td>NaN</td>\n      <td>NaN</td>\n      <td>NaN</td>\n      <td>NaN</td>\n      <td>NaN</td>\n    </tr>\n    <tr>\n      <th>1</th>\n      <td>158628181</td>\n      <td>NaN</td>\n      <td>20000</td>\n      <td>20000</td>\n      <td>20000</td>\n      <td>36 months</td>\n      <td>8.81%</td>\n      <td>634.23</td>\n      <td>A</td>\n      <td>A5</td>\n      <td>...</td>\n      <td>NaN</td>\n      <td>NaN</td>\n      <td>NaN</td>\n      <td>N</td>\n      <td>NaN</td>\n      <td>NaN</td>\n      <td>NaN</td>\n      <td>NaN</td>\n      <td>NaN</td>\n      <td>NaN</td>\n    </tr>\n    <tr>\n      <th>2</th>\n      <td>159231951</td>\n      <td>NaN</td>\n      <td>18000</td>\n      <td>18000</td>\n      <td>18000</td>\n      <td>60 months</td>\n      <td>13.08%</td>\n      <td>410.30</td>\n      <td>B</td>\n      <td>B5</td>\n      <td>...</td>\n      <td>NaN</td>\n      <td>NaN</td>\n      <td>NaN</td>\n      <td>N</td>\n      <td>NaN</td>\n      <td>NaN</td>\n      <td>NaN</td>\n      <td>NaN</td>\n      <td>NaN</td>\n      <td>NaN</td>\n    </tr>\n    <tr>\n      <th>3</th>\n      <td>159289397</td>\n      <td>NaN</td>\n      <td>10000</td>\n      <td>10000</td>\n      <td>10000</td>\n      <td>36 months</td>\n      <td>10.33%</td>\n      <td>324.23</td>\n      <td>B</td>\n      <td>B1</td>\n      <td>...</td>\n      <td>NaN</td>\n      <td>NaN</td>\n      <td>NaN</td>\n      <td>N</td>\n      <td>NaN</td>\n      <td>NaN</td>\n      <td>NaN</td>\n      <td>NaN</td>\n      <td>NaN</td>\n      <td>NaN</td>\n    </tr>\n    <tr>\n      <th>4</th>\n      <td>159296485</td>\n      <td>NaN</td>\n      <td>7000</td>\n      <td>7000</td>\n      <td>7000</td>\n      <td>36 months</td>\n      <td>18.62%</td>\n      <td>255.25</td>\n      <td>D</td>\n      <td>D1</td>\n      <td>...</td>\n      <td>NaN</td>\n      <td>NaN</td>\n      <td>NaN</td>\n      <td>N</td>\n      <td>NaN</td>\n      <td>NaN</td>\n      <td>NaN</td>\n      <td>NaN</td>\n      <td>NaN</td>\n      <td>NaN</td>\n    </tr>\n  </tbody>\n</table>\n<p>5 rows × 150 columns</p>\n</div>"
     },
     "execution_count": 2,
     "metadata": {},
     "output_type": "execute_result"
    }
   ],
   "source": [
    "# 使用Pandas的read_csv()函数读取数据\n",
    "dataset = pd.read_csv(\"./input/LoanStats_securev1_2019Q3.csv\", encoding=\"gbk\", low_memory=False)\n",
    "# 查看前五行数据\n",
    "dataset.head(5)"
   ],
   "metadata": {
    "collapsed": false,
    "pycharm": {
     "name": "#%%\n"
    }
   }
  },
  {
   "cell_type": "code",
   "execution_count": 3,
   "outputs": [
    {
     "data": {
      "text/plain": "(143035, 150)"
     },
     "execution_count": 3,
     "metadata": {},
     "output_type": "execute_result"
    }
   ],
   "source": [
    "# 查看数据集中行与列数量。\n",
    "dataset.shape"
   ],
   "metadata": {
    "collapsed": false,
    "pycharm": {
     "name": "#%%\n"
    }
   }
  },
  {
   "cell_type": "code",
   "execution_count": 4,
   "outputs": [
    {
     "data": {
      "text/plain": "      id  member_id  loan_amnt  funded_amnt  funded_amnt_inv   term  int_rate   \n0  False       True      False        False            False  False     False  \\\n1  False       True      False        False            False  False     False   \n2  False       True      False        False            False  False     False   \n3  False       True      False        False            False  False     False   \n4  False       True      False        False            False  False     False   \n\n   installment  grade  sub_grade  ...   \n0        False  False      False  ...  \\\n1        False  False      False  ...   \n2        False  False      False  ...   \n3        False  False      False  ...   \n4        False  False      False  ...   \n\n   orig_projected_additional_accrued_interest  hardship_payoff_balance_amount   \n0                                        True                            True  \\\n1                                        True                            True   \n2                                        True                            True   \n3                                        True                            True   \n4                                        True                            True   \n\n   hardship_last_payment_amount  debt_settlement_flag   \n0                          True                 False  \\\n1                          True                 False   \n2                          True                 False   \n3                          True                 False   \n4                          True                 False   \n\n   debt_settlement_flag_date  settlement_status  settlement_date   \n0                       True               True             True  \\\n1                       True               True             True   \n2                       True               True             True   \n3                       True               True             True   \n4                       True               True             True   \n\n   settlement_amount  settlement_percentage  settlement_term  \n0               True                   True             True  \n1               True                   True             True  \n2               True                   True             True  \n3               True                   True             True  \n4               True                   True             True  \n\n[5 rows x 150 columns]",
      "text/html": "<div>\n<style scoped>\n    .dataframe tbody tr th:only-of-type {\n        vertical-align: middle;\n    }\n\n    .dataframe tbody tr th {\n        vertical-align: top;\n    }\n\n    .dataframe thead th {\n        text-align: right;\n    }\n</style>\n<table border=\"1\" class=\"dataframe\">\n  <thead>\n    <tr style=\"text-align: right;\">\n      <th></th>\n      <th>id</th>\n      <th>member_id</th>\n      <th>loan_amnt</th>\n      <th>funded_amnt</th>\n      <th>funded_amnt_inv</th>\n      <th>term</th>\n      <th>int_rate</th>\n      <th>installment</th>\n      <th>grade</th>\n      <th>sub_grade</th>\n      <th>...</th>\n      <th>orig_projected_additional_accrued_interest</th>\n      <th>hardship_payoff_balance_amount</th>\n      <th>hardship_last_payment_amount</th>\n      <th>debt_settlement_flag</th>\n      <th>debt_settlement_flag_date</th>\n      <th>settlement_status</th>\n      <th>settlement_date</th>\n      <th>settlement_amount</th>\n      <th>settlement_percentage</th>\n      <th>settlement_term</th>\n    </tr>\n  </thead>\n  <tbody>\n    <tr>\n      <th>0</th>\n      <td>False</td>\n      <td>True</td>\n      <td>False</td>\n      <td>False</td>\n      <td>False</td>\n      <td>False</td>\n      <td>False</td>\n      <td>False</td>\n      <td>False</td>\n      <td>False</td>\n      <td>...</td>\n      <td>True</td>\n      <td>True</td>\n      <td>True</td>\n      <td>False</td>\n      <td>True</td>\n      <td>True</td>\n      <td>True</td>\n      <td>True</td>\n      <td>True</td>\n      <td>True</td>\n    </tr>\n    <tr>\n      <th>1</th>\n      <td>False</td>\n      <td>True</td>\n      <td>False</td>\n      <td>False</td>\n      <td>False</td>\n      <td>False</td>\n      <td>False</td>\n      <td>False</td>\n      <td>False</td>\n      <td>False</td>\n      <td>...</td>\n      <td>True</td>\n      <td>True</td>\n      <td>True</td>\n      <td>False</td>\n      <td>True</td>\n      <td>True</td>\n      <td>True</td>\n      <td>True</td>\n      <td>True</td>\n      <td>True</td>\n    </tr>\n    <tr>\n      <th>2</th>\n      <td>False</td>\n      <td>True</td>\n      <td>False</td>\n      <td>False</td>\n      <td>False</td>\n      <td>False</td>\n      <td>False</td>\n      <td>False</td>\n      <td>False</td>\n      <td>False</td>\n      <td>...</td>\n      <td>True</td>\n      <td>True</td>\n      <td>True</td>\n      <td>False</td>\n      <td>True</td>\n      <td>True</td>\n      <td>True</td>\n      <td>True</td>\n      <td>True</td>\n      <td>True</td>\n    </tr>\n    <tr>\n      <th>3</th>\n      <td>False</td>\n      <td>True</td>\n      <td>False</td>\n      <td>False</td>\n      <td>False</td>\n      <td>False</td>\n      <td>False</td>\n      <td>False</td>\n      <td>False</td>\n      <td>False</td>\n      <td>...</td>\n      <td>True</td>\n      <td>True</td>\n      <td>True</td>\n      <td>False</td>\n      <td>True</td>\n      <td>True</td>\n      <td>True</td>\n      <td>True</td>\n      <td>True</td>\n      <td>True</td>\n    </tr>\n    <tr>\n      <th>4</th>\n      <td>False</td>\n      <td>True</td>\n      <td>False</td>\n      <td>False</td>\n      <td>False</td>\n      <td>False</td>\n      <td>False</td>\n      <td>False</td>\n      <td>False</td>\n      <td>False</td>\n      <td>...</td>\n      <td>True</td>\n      <td>True</td>\n      <td>True</td>\n      <td>False</td>\n      <td>True</td>\n      <td>True</td>\n      <td>True</td>\n      <td>True</td>\n      <td>True</td>\n      <td>True</td>\n    </tr>\n  </tbody>\n</table>\n<p>5 rows × 150 columns</p>\n</div>"
     },
     "execution_count": 4,
     "metadata": {},
     "output_type": "execute_result"
    }
   ],
   "source": [
    "# 查看前10行缺失值数据\n",
    "dataset.isnull().head(5)"
   ],
   "metadata": {
    "collapsed": false,
    "pycharm": {
     "name": "#%%\n"
    }
   }
  },
  {
   "cell_type": "code",
   "execution_count": 5,
   "outputs": [
    {
     "data": {
      "text/plain": "                 NA_Ratio\nid                    0.0\nmember_id           100.0\nloan_amnt             0.0\nfunded_amnt           0.0\nfunded_amnt_inv       0.0\nterm                  0.0\nint_rate              0.0\ninstallment           0.0\ngrade                 0.0\nsub_grade             0.0",
      "text/html": "<div>\n<style scoped>\n    .dataframe tbody tr th:only-of-type {\n        vertical-align: middle;\n    }\n\n    .dataframe tbody tr th {\n        vertical-align: top;\n    }\n\n    .dataframe thead th {\n        text-align: right;\n    }\n</style>\n<table border=\"1\" class=\"dataframe\">\n  <thead>\n    <tr style=\"text-align: right;\">\n      <th></th>\n      <th>NA_Ratio</th>\n    </tr>\n  </thead>\n  <tbody>\n    <tr>\n      <th>id</th>\n      <td>0.0</td>\n    </tr>\n    <tr>\n      <th>member_id</th>\n      <td>100.0</td>\n    </tr>\n    <tr>\n      <th>loan_amnt</th>\n      <td>0.0</td>\n    </tr>\n    <tr>\n      <th>funded_amnt</th>\n      <td>0.0</td>\n    </tr>\n    <tr>\n      <th>funded_amnt_inv</th>\n      <td>0.0</td>\n    </tr>\n    <tr>\n      <th>term</th>\n      <td>0.0</td>\n    </tr>\n    <tr>\n      <th>int_rate</th>\n      <td>0.0</td>\n    </tr>\n    <tr>\n      <th>installment</th>\n      <td>0.0</td>\n    </tr>\n    <tr>\n      <th>grade</th>\n      <td>0.0</td>\n    </tr>\n    <tr>\n      <th>sub_grade</th>\n      <td>0.0</td>\n    </tr>\n  </tbody>\n</table>\n</div>"
     },
     "execution_count": 5,
     "metadata": {},
     "output_type": "execute_result"
    }
   ],
   "source": [
    "# 创建一个新的DataFrame数据表来存储每列数据中缺失值所占的百分比\n",
    "# 此数据表只有两列，一列为原来的属性名，另一列为缺失值所占百分比，命名为NA_Ratio\n",
    "na_ratio = pd.DataFrame(dataset.isnull().sum() / len(dataset) * 100, columns=['NA_Ratio'])\n",
    "# 可以使用head()函数查看na_ratio格式\n",
    "na_ratio.head(10)"
   ],
   "metadata": {
    "collapsed": false,
    "pycharm": {
     "name": "#%%\n"
    }
   }
  },
  {
   "cell_type": "code",
   "execution_count": 6,
   "outputs": [
    {
     "data": {
      "text/plain": "                                       NA_Ratio\nhardship_type                        100.000000\nsettlement_term                      100.000000\nsec_app_mths_since_last_major_derog   95.762576",
      "text/html": "<div>\n<style scoped>\n    .dataframe tbody tr th:only-of-type {\n        vertical-align: middle;\n    }\n\n    .dataframe tbody tr th {\n        vertical-align: top;\n    }\n\n    .dataframe thead th {\n        text-align: right;\n    }\n</style>\n<table border=\"1\" class=\"dataframe\">\n  <thead>\n    <tr style=\"text-align: right;\">\n      <th></th>\n      <th>NA_Ratio</th>\n    </tr>\n  </thead>\n  <tbody>\n    <tr>\n      <th>hardship_type</th>\n      <td>100.000000</td>\n    </tr>\n    <tr>\n      <th>settlement_term</th>\n      <td>100.000000</td>\n    </tr>\n    <tr>\n      <th>sec_app_mths_since_last_major_derog</th>\n      <td>95.762576</td>\n    </tr>\n  </tbody>\n</table>\n</div>"
     },
     "execution_count": 6,
     "metadata": {},
     "output_type": "execute_result"
    }
   ],
   "source": [
    "# 在 index 中使用条件语句进行筛选\n",
    "# 使用 sort_values 进行排序 - by=列名,ascending=升序or降序\n",
    "df_na = na_ratio[na_ratio['NA_Ratio'] >= 90].sort_values(by='NA_Ratio', ascending=False)\n",
    "df_na.iloc[20:30]"
   ],
   "metadata": {
    "collapsed": false,
    "pycharm": {
     "name": "#%%\n"
    }
   }
  },
  {
   "cell_type": "code",
   "execution_count": 7,
   "outputs": [],
   "source": [
    "# 将中间结果保存为csv文件，存到output文件夹\n",
    "# 文件不需要提前创建，由pandas自动生成，若已存在该文件，则已存在文件会被覆盖\n",
    "df_na.to_csv(\"./output/df_na.csv\", index=False, )"
   ],
   "metadata": {
    "collapsed": false,
    "pycharm": {
     "name": "#%%\n"
    }
   }
  },
  {
   "cell_type": "code",
   "execution_count": 8,
   "outputs": [
    {
     "data": {
      "text/plain": "<Figure size 800x400 with 1 Axes>",
      "image/png": "[encoded data removed]"
     },
     "metadata": {},
     "output_type": "display_data"
    }
   ],
   "source": [
    "# 设置 dataframe - 下标筛选 0.01~80% 之间的数据 & 排序\n",
    "df_na = na_ratio[(na_ratio['NA_Ratio'] < 80) & (na_ratio['NA_Ratio'] >= 0.01)].sort_values(by='NA_Ratio',\n",
    "                                                                                           ascending=False)\n",
    "# 绘图，使用subplots函数创建图像，\n",
    "# 其中 figsize 用来设置图形的大小，20为图形的宽， 10为图形的高，单位为英寸。\n",
    "# 返回 figure 和 ax\n",
    "fontsize_factor = 0.5  # 对字体和图表进行缩放\n",
    "fig, ax = plt.subplots(figsize=(20 * fontsize_factor * 0.8, 10 * fontsize_factor * 0.8))\n",
    "# barplot指定图形为条形图，绑定x轴和y轴的数据\n",
    "# orient='v'表示竖直展示即数值条方向；palette：调色板，控制不同的颜色风格\n",
    "nar = sns.barplot(x=df_na.index, y=df_na['NA_Ratio'], orient='v', palette=\"Blues_d\")\n",
    "# set_xticklabels 设置 x轴标签 的旋转角度\n",
    "plt.subplots_adjust(left=0.2)  # 向右移动，显示完全标签\n",
    "ax.set_xticklabels(df_na.index, rotation=85, fontsize=20 * fontsize_factor)\n",
    "# 设置y轴的 坐标轴名称\n",
    "ax.set_ylabel('Ratio of Missing Values', fontsize=25 * fontsize_factor)\n",
    "# 设置x轴的 坐标轴名称\n",
    "ax.set_xlabel('Features', fontsize=25 * fontsize_factor)\n",
    "# 设置整个 图的名称\n",
    "ax.set_title('Ratio of Missing Values by Features', fontsize=30 * fontsize_factor)\n",
    "# 设置每个数据条上的小数表示\n",
    "# ax.patches 数据条对象；\n",
    "# get_x()方法获取其左侧的x坐标\n",
    "# ax.text()方法用于在数据条上方添加文本标签\n",
    "# round(value, 2)将缺失值比例保留两位小数\n",
    "# ha='center'和va='bottom'分别表示文本标签的水平居中和垂直底部对齐\n",
    "for loc, value in zip(ax.patches, df_na.NA_Ratio):\n",
    "    ax.text(loc.get_x() + loc.get_width() / 2, loc.get_height() + 0.5, round(value, 2), ha='center', va='bottom',\n",
    "            fontsize=16 * fontsize_factor)\n",
    "# 显示图像\n",
    "plt.show()"
   ],
   "metadata": {
    "collapsed": false,
    "pycharm": {
     "name": "#%%\n"
    }
   }
  },
  {
   "cell_type": "code",
   "execution_count": 9,
   "outputs": [],
   "source": [
    "dataset_dropna = dataset.copy()\n",
    "dataset_dropna.dropna()\n",
    "dataset_dropna.to_csv(\"./output/test1.csv\", index=False)"
   ],
   "metadata": {
    "collapsed": false,
    "pycharm": {
     "name": "#%%\n"
    }
   }
  },
  {
   "cell_type": "code",
   "execution_count": 10,
   "outputs": [
    {
     "name": "stdout",
     "output_type": "stream",
     "text": [
      "需要删除的缺失值较多的列为: ['member_id', 'desc', 'mths_since_last_delinq', 'mths_since_last_record', 'mths_since_last_major_derog', 'annual_inc_joint', 'dti_joint', 'verification_status_joint', 'mths_since_recent_bc_dlq', 'mths_since_recent_revol_delinq', 'revol_bal_joint', 'sec_app_fico_range_low', 'sec_app_fico_range_high', 'sec_app_earliest_cr_line', 'sec_app_inq_last_6mths', 'sec_app_mort_acc', 'sec_app_open_acc', 'sec_app_revol_util', 'sec_app_open_act_il', 'sec_app_num_rev_accts', 'sec_app_chargeoff_within_12_mths', 'sec_app_collections_12_mths_ex_med', 'sec_app_mths_since_last_major_derog', 'hardship_type', 'hardship_reason', 'hardship_status', 'deferral_term', 'hardship_amount', 'hardship_start_date', 'hardship_end_date', 'payment_plan_start_date', 'hardship_length', 'hardship_dpd', 'hardship_loan_status', 'orig_projected_additional_accrued_interest', 'hardship_payoff_balance_amount', 'hardship_last_payment_amount', 'debt_settlement_flag_date', 'settlement_status', 'settlement_date', 'settlement_amount', 'settlement_percentage', 'settlement_term']\n"
     ]
    }
   ],
   "source": [
    "null_index = list(na_ratio[na_ratio['NA_Ratio'] >= 56].index)\n",
    "print(\"需要删除的缺失值较多的列为:\", null_index)"
   ],
   "metadata": {
    "collapsed": false,
    "pycharm": {
     "name": "#%%\n"
    }
   }
  },
  {
   "cell_type": "code",
   "execution_count": 11,
   "outputs": [
    {
     "data": {
      "text/plain": "((143035, 107), (143035, 150))"
     },
     "execution_count": 11,
     "metadata": {},
     "output_type": "execute_result"
    }
   ],
   "source": [
    "# 使用copy()函数拷贝一份原数据的副本\n",
    "dataset_copy = dataset.copy()\n",
    "# 使用drop()函数直接删除先前得到的要删除的列\n",
    "# axis=0时为删除行；axis=1为删除列。inplaces 是否替换原来的 dataframe\n",
    "dataset_copy.drop(null_index, axis=1, inplace=True)\n",
    "# 打印此时数据的大小; 和原有数据进行对比\n",
    "dataset_copy.shape, dataset.shape"
   ],
   "metadata": {
    "collapsed": false,
    "pycharm": {
     "name": "#%%\n"
    }
   }
  },
  {
   "cell_type": "code",
   "execution_count": 12,
   "outputs": [],
   "source": [
    "# 保存一份 dropna 后的文件\n",
    "dataset_copy.to_csv(\"./output/copy.csv\", index=False)"
   ],
   "metadata": {
    "collapsed": false,
    "pycharm": {
     "name": "#%%\n"
    }
   }
  },
  {
   "cell_type": "code",
   "execution_count": 13,
   "outputs": [
    {
     "name": "stdout",
     "output_type": "stream",
     "text": [
      "需要简单填补的缺失值的列为: ['emp_title', 'emp_length', 'il_util', 'mths_since_recent_inq']\n"
     ]
    },
    {
     "data": {
      "text/plain": "               emp_title emp_length  il_util  mths_since_recent_inq\n0                Teacher  10+ years      NaN                   22.0\n1         Remodel expert    3 years     63.0                   16.0\n2  Operations Supervisor    3 years     95.0                    8.0\n3                    NaN   < 1 year     52.0                    5.0\n4         Street sweeper    6 years      NaN                    9.0",
      "text/html": "<div>\n<style scoped>\n    .dataframe tbody tr th:only-of-type {\n        vertical-align: middle;\n    }\n\n    .dataframe tbody tr th {\n        vertical-align: top;\n    }\n\n    .dataframe thead th {\n        text-align: right;\n    }\n</style>\n<table border=\"1\" class=\"dataframe\">\n  <thead>\n    <tr style=\"text-align: right;\">\n      <th></th>\n      <th>emp_title</th>\n      <th>emp_length</th>\n      <th>il_util</th>\n      <th>mths_since_recent_inq</th>\n    </tr>\n  </thead>\n  <tbody>\n    <tr>\n      <th>0</th>\n      <td>Teacher</td>\n      <td>10+ years</td>\n      <td>NaN</td>\n      <td>22.0</td>\n    </tr>\n    <tr>\n      <th>1</th>\n      <td>Remodel expert</td>\n      <td>3 years</td>\n      <td>63.0</td>\n      <td>16.0</td>\n    </tr>\n    <tr>\n      <th>2</th>\n      <td>Operations Supervisor</td>\n      <td>3 years</td>\n      <td>95.0</td>\n      <td>8.0</td>\n    </tr>\n    <tr>\n      <th>3</th>\n      <td>NaN</td>\n      <td>&lt; 1 year</td>\n      <td>52.0</td>\n      <td>5.0</td>\n    </tr>\n    <tr>\n      <th>4</th>\n      <td>Street sweeper</td>\n      <td>6 years</td>\n      <td>NaN</td>\n      <td>9.0</td>\n    </tr>\n  </tbody>\n</table>\n</div>"
     },
     "execution_count": 13,
     "metadata": {},
     "output_type": "execute_result"
    }
   ],
   "source": [
    "# 选出需要简单填补的列\n",
    "less_null_index = list(na_ratio[(na_ratio['NA_Ratio'] <= 56) & (na_ratio['NA_Ratio'] >= 8)].index)\n",
    "print(\"需要简单填补的缺失值的列为:\", less_null_index)\n",
    "dataset_copy[less_null_index].head(5)"
   ],
   "metadata": {
    "collapsed": false,
    "pycharm": {
     "name": "#%%\n"
    }
   }
  },
  {
   "cell_type": "code",
   "execution_count": 14,
   "outputs": [
    {
     "data": {
      "text/plain": "emp_title                 object\nemp_length                object\nil_util                  float64\nmths_since_recent_inq    float64\ndtype: object"
     },
     "execution_count": 14,
     "metadata": {},
     "output_type": "execute_result"
    }
   ],
   "source": [
    "# 查看缺失的数据类型\n",
    "dataset_copy[less_null_index].dtypes"
   ],
   "metadata": {
    "collapsed": false,
    "pycharm": {
     "name": "#%%\n"
    }
   }
  },
  {
   "cell_type": "code",
   "execution_count": 15,
   "outputs": [
    {
     "data": {
      "text/plain": "0"
     },
     "execution_count": 15,
     "metadata": {},
     "output_type": "execute_result"
    }
   ],
   "source": [
    "# 对字符型的填补\n",
    "dataset_copy['emp_title'].fillna(\"workless\", inplace=True)\n",
    "# 查看emp_title列的空缺值数量\n",
    "dataset_copy['emp_title'].isnull().sum()"
   ],
   "metadata": {
    "collapsed": false,
    "pycharm": {
     "name": "#%%\n"
    }
   }
  },
  {
   "cell_type": "code",
   "execution_count": 16,
   "outputs": [
    {
     "data": {
      "text/plain": "          id  loan_amnt  funded_amnt  funded_amnt_inv        term int_rate   \n0  158303403      12000        12000            12000   36 months    8.19%  \\\n1  158628181      20000        20000            20000   36 months    8.81%   \n2  159231951      18000        18000            18000   60 months   13.08%   \n3  159289397      10000        10000            10000   36 months   10.33%   \n4  159296485       7000         7000             7000   36 months   18.62%   \n\n   installment grade sub_grade              emp_title  ... pct_tl_nvr_dlq   \n0       377.09     A        A4                Teacher  ...           93.3  \\\n1       634.23     A        A5         Remodel expert  ...          100.0   \n2       410.30     B        B5  Operations Supervisor  ...          100.0   \n3       324.23     B        B1               workless  ...           94.4   \n4       255.25     D        D1         Street sweeper  ...           78.9   \n\n  percent_bc_gt_75  pub_rec_bankruptcies tax_liens tot_hi_cred_lim   \n0             33.3                     0         0           77713  \\\n1              0.0                     0         0           34900   \n2             33.3                     0         0           47197   \n3              0.0                     1         0           78772   \n4            100.0                     0         0           49928   \n\n  total_bal_ex_mort total_bc_limit total_il_high_credit_limit hardship_flag   \n0             51361          16400                      46313             N  \\\n1             11722          18900                      10000             N   \n2             43223          15000                      30897             N   \n3             25938          26100                      43772             N   \n4             36027           2200                      42128             N   \n\n  debt_settlement_flag  \n0                    N  \n1                    N  \n2                    N  \n3                    N  \n4                    N  \n\n[5 rows x 107 columns]",
      "text/html": "<div>\n<style scoped>\n    .dataframe tbody tr th:only-of-type {\n        vertical-align: middle;\n    }\n\n    .dataframe tbody tr th {\n        vertical-align: top;\n    }\n\n    .dataframe thead th {\n        text-align: right;\n    }\n</style>\n<table border=\"1\" class=\"dataframe\">\n  <thead>\n    <tr style=\"text-align: right;\">\n      <th></th>\n      <th>id</th>\n      <th>loan_amnt</th>\n      <th>funded_amnt</th>\n      <th>funded_amnt_inv</th>\n      <th>term</th>\n      <th>int_rate</th>\n      <th>installment</th>\n      <th>grade</th>\n      <th>sub_grade</th>\n      <th>emp_title</th>\n      <th>...</th>\n      <th>pct_tl_nvr_dlq</th>\n      <th>percent_bc_gt_75</th>\n      <th>pub_rec_bankruptcies</th>\n      <th>tax_liens</th>\n      <th>tot_hi_cred_lim</th>\n      <th>total_bal_ex_mort</th>\n      <th>total_bc_limit</th>\n      <th>total_il_high_credit_limit</th>\n      <th>hardship_flag</th>\n      <th>debt_settlement_flag</th>\n    </tr>\n  </thead>\n  <tbody>\n    <tr>\n      <th>0</th>\n      <td>158303403</td>\n      <td>12000</td>\n      <td>12000</td>\n      <td>12000</td>\n      <td>36 months</td>\n      <td>8.19%</td>\n      <td>377.09</td>\n      <td>A</td>\n      <td>A4</td>\n      <td>Teacher</td>\n      <td>...</td>\n      <td>93.3</td>\n      <td>33.3</td>\n      <td>0</td>\n      <td>0</td>\n      <td>77713</td>\n      <td>51361</td>\n      <td>16400</td>\n      <td>46313</td>\n      <td>N</td>\n      <td>N</td>\n    </tr>\n    <tr>\n      <th>1</th>\n      <td>158628181</td>\n      <td>20000</td>\n      <td>20000</td>\n      <td>20000</td>\n      <td>36 months</td>\n      <td>8.81%</td>\n      <td>634.23</td>\n      <td>A</td>\n      <td>A5</td>\n      <td>Remodel expert</td>\n      <td>...</td>\n      <td>100.0</td>\n      <td>0.0</td>\n      <td>0</td>\n      <td>0</td>\n      <td>34900</td>\n      <td>11722</td>\n      <td>18900</td>\n      <td>10000</td>\n      <td>N</td>\n      <td>N</td>\n    </tr>\n    <tr>\n      <th>2</th>\n      <td>159231951</td>\n      <td>18000</td>\n      <td>18000</td>\n      <td>18000</td>\n      <td>60 months</td>\n      <td>13.08%</td>\n      <td>410.30</td>\n      <td>B</td>\n      <td>B5</td>\n      <td>Operations Supervisor</td>\n      <td>...</td>\n      <td>100.0</td>\n      <td>33.3</td>\n      <td>0</td>\n      <td>0</td>\n      <td>47197</td>\n      <td>43223</td>\n      <td>15000</td>\n      <td>30897</td>\n      <td>N</td>\n      <td>N</td>\n    </tr>\n    <tr>\n      <th>3</th>\n      <td>159289397</td>\n      <td>10000</td>\n      <td>10000</td>\n      <td>10000</td>\n      <td>36 months</td>\n      <td>10.33%</td>\n      <td>324.23</td>\n      <td>B</td>\n      <td>B1</td>\n      <td>workless</td>\n      <td>...</td>\n      <td>94.4</td>\n      <td>0.0</td>\n      <td>1</td>\n      <td>0</td>\n      <td>78772</td>\n      <td>25938</td>\n      <td>26100</td>\n      <td>43772</td>\n      <td>N</td>\n      <td>N</td>\n    </tr>\n    <tr>\n      <th>4</th>\n      <td>159296485</td>\n      <td>7000</td>\n      <td>7000</td>\n      <td>7000</td>\n      <td>36 months</td>\n      <td>18.62%</td>\n      <td>255.25</td>\n      <td>D</td>\n      <td>D1</td>\n      <td>Street sweeper</td>\n      <td>...</td>\n      <td>78.9</td>\n      <td>100.0</td>\n      <td>0</td>\n      <td>0</td>\n      <td>49928</td>\n      <td>36027</td>\n      <td>2200</td>\n      <td>42128</td>\n      <td>N</td>\n      <td>N</td>\n    </tr>\n  </tbody>\n</table>\n<p>5 rows × 107 columns</p>\n</div>"
     },
     "execution_count": 16,
     "metadata": {},
     "output_type": "execute_result"
    }
   ],
   "source": [
    "# 查看填充的结果\n",
    "dataset_copy.head(5)"
   ],
   "metadata": {
    "collapsed": false,
    "pycharm": {
     "name": "#%%\n"
    }
   }
  },
  {
   "cell_type": "markdown",
   "source": [
    "# 简单填补\n",
    "## 使用中位数进行填充\n",
    "涉及知识点\n",
    "1. 正则表达式匹配 - 从字符串中提取数字\n",
    "2. 新建 df 进行中位数求值"
   ],
   "metadata": {
    "collapsed": false,
    "pycharm": {
     "name": "#%% md\n"
    }
   }
  },
  {
   "cell_type": "code",
   "execution_count": 17,
   "outputs": [
    {
     "data": {
      "text/plain": "[10, 3, 3, 1, 6, 10, 8, 5, 9, 10]"
     },
     "execution_count": 17,
     "metadata": {},
     "output_type": "execute_result"
    }
   ],
   "source": [
    "# \\d是匹配数字字符[0-9]，+匹配一个或多个，放在一起是匹配一个或多个数字字符\n",
    "# 'emp_length' 中存放的是 字符串类型的数据，需要提取其中的 数字\n",
    "pattern = re.compile(r'\\d+')\n",
    "# 初始化一个列表\n",
    "result = []\n",
    "# 因为有缺失值的存在，会使得正则表达式失败,使程序报错退出，故而引入异常检测来规避缺失值\n",
    "for i in list(range(0, len(dataset_copy['emp_length']))):\n",
    "    try:\n",
    "        # if i <20:\n",
    "        #     print(pattern.findall(dataset_copy['emp_length'][i])) # 查找到的是列表，所以需要取 [0] 号元素\n",
    "        replace_number = int(pattern.findall(dataset_copy['emp_length'][i])[0])\n",
    "        result.append(replace_number)\n",
    "        # 此处可以直接对原DataFrame的数据进行替换，若此处进行替换操作，会因为DataFrame拷贝操作而导致耗时极长\n",
    "    except:\n",
    "        pass\n",
    "result[:10]  # 前十个 查找到的数字类型数据"
   ],
   "metadata": {
    "collapsed": false,
    "pycharm": {
     "name": "#%%\n"
    }
   }
  },
  {
   "cell_type": "code",
   "execution_count": 18,
   "outputs": [
    {
     "data": {
      "text/plain": "result    5.0\ndtype: float64"
     },
     "execution_count": 18,
     "metadata": {},
     "output_type": "execute_result"
    }
   ],
   "source": [
    "# 创建一个dataframe，用来存放之前正则表达式得到的数字\n",
    "df = pd.DataFrame()\n",
    "df['result'] = result\n",
    "# 使用median函数来求得该列的中位数\n",
    "df.median()"
   ],
   "metadata": {
    "collapsed": false,
    "pycharm": {
     "name": "#%%\n"
    }
   }
  },
  {
   "cell_type": "code",
   "execution_count": 19,
   "outputs": [
    {
     "data": {
      "text/plain": "'5 years'"
     },
     "execution_count": 19,
     "metadata": {},
     "output_type": "execute_result"
    }
   ],
   "source": [
    "# 创建要填补的字符串“5 years”\n",
    "replace_str = str(int(df.median().iloc[0])) + \" years\"\n",
    "# 打印字符串\n",
    "replace_str"
   ],
   "metadata": {
    "collapsed": false,
    "pycharm": {
     "name": "#%%\n"
    }
   }
  },
  {
   "cell_type": "code",
   "execution_count": 20,
   "outputs": [
    {
     "data": {
      "text/plain": "0"
     },
     "execution_count": 20,
     "metadata": {},
     "output_type": "execute_result"
    }
   ],
   "source": [
    "# 使用fillna()函数来填补缺失值\n",
    "dataset_copy['emp_length'].fillna(replace_str, inplace=True)\n",
    "# 查看本列的缺失值数量\n",
    "dataset_copy['emp_length'].isnull().sum()"
   ],
   "metadata": {
    "collapsed": false,
    "pycharm": {
     "name": "#%%\n"
    }
   }
  },
  {
   "cell_type": "code",
   "execution_count": 21,
   "outputs": [
    {
     "data": {
      "text/plain": "          id  loan_amnt  funded_amnt  funded_amnt_inv        term int_rate   \n0  158303403      12000        12000            12000   36 months    8.19%  \\\n1  158628181      20000        20000            20000   36 months    8.81%   \n2  159231951      18000        18000            18000   60 months   13.08%   \n3  159289397      10000        10000            10000   36 months   10.33%   \n4  159296485       7000         7000             7000   36 months   18.62%   \n\n   installment grade sub_grade              emp_title  ... pct_tl_nvr_dlq   \n0       377.09     A        A4                Teacher  ...           93.3  \\\n1       634.23     A        A5         Remodel expert  ...          100.0   \n2       410.30     B        B5  Operations Supervisor  ...          100.0   \n3       324.23     B        B1               workless  ...           94.4   \n4       255.25     D        D1         Street sweeper  ...           78.9   \n\n  percent_bc_gt_75  pub_rec_bankruptcies tax_liens tot_hi_cred_lim   \n0             33.3                     0         0           77713  \\\n1              0.0                     0         0           34900   \n2             33.3                     0         0           47197   \n3              0.0                     1         0           78772   \n4            100.0                     0         0           49928   \n\n  total_bal_ex_mort total_bc_limit total_il_high_credit_limit hardship_flag   \n0             51361          16400                      46313             N  \\\n1             11722          18900                      10000             N   \n2             43223          15000                      30897             N   \n3             25938          26100                      43772             N   \n4             36027           2200                      42128             N   \n\n  debt_settlement_flag  \n0                    N  \n1                    N  \n2                    N  \n3                    N  \n4                    N  \n\n[5 rows x 107 columns]",
      "text/html": "<div>\n<style scoped>\n    .dataframe tbody tr th:only-of-type {\n        vertical-align: middle;\n    }\n\n    .dataframe tbody tr th {\n        vertical-align: top;\n    }\n\n    .dataframe thead th {\n        text-align: right;\n    }\n</style>\n<table border=\"1\" class=\"dataframe\">\n  <thead>\n    <tr style=\"text-align: right;\">\n      <th></th>\n      <th>id</th>\n      <th>loan_amnt</th>\n      <th>funded_amnt</th>\n      <th>funded_amnt_inv</th>\n      <th>term</th>\n      <th>int_rate</th>\n      <th>installment</th>\n      <th>grade</th>\n      <th>sub_grade</th>\n      <th>emp_title</th>\n      <th>...</th>\n      <th>pct_tl_nvr_dlq</th>\n      <th>percent_bc_gt_75</th>\n      <th>pub_rec_bankruptcies</th>\n      <th>tax_liens</th>\n      <th>tot_hi_cred_lim</th>\n      <th>total_bal_ex_mort</th>\n      <th>total_bc_limit</th>\n      <th>total_il_high_credit_limit</th>\n      <th>hardship_flag</th>\n      <th>debt_settlement_flag</th>\n    </tr>\n  </thead>\n  <tbody>\n    <tr>\n      <th>0</th>\n      <td>158303403</td>\n      <td>12000</td>\n      <td>12000</td>\n      <td>12000</td>\n      <td>36 months</td>\n      <td>8.19%</td>\n      <td>377.09</td>\n      <td>A</td>\n      <td>A4</td>\n      <td>Teacher</td>\n      <td>...</td>\n      <td>93.3</td>\n      <td>33.3</td>\n      <td>0</td>\n      <td>0</td>\n      <td>77713</td>\n      <td>51361</td>\n      <td>16400</td>\n      <td>46313</td>\n      <td>N</td>\n      <td>N</td>\n    </tr>\n    <tr>\n      <th>1</th>\n      <td>158628181</td>\n      <td>20000</td>\n      <td>20000</td>\n      <td>20000</td>\n      <td>36 months</td>\n      <td>8.81%</td>\n      <td>634.23</td>\n      <td>A</td>\n      <td>A5</td>\n      <td>Remodel expert</td>\n      <td>...</td>\n      <td>100.0</td>\n      <td>0.0</td>\n      <td>0</td>\n      <td>0</td>\n      <td>34900</td>\n      <td>11722</td>\n      <td>18900</td>\n      <td>10000</td>\n      <td>N</td>\n      <td>N</td>\n    </tr>\n    <tr>\n      <th>2</th>\n      <td>159231951</td>\n      <td>18000</td>\n      <td>18000</td>\n      <td>18000</td>\n      <td>60 months</td>\n      <td>13.08%</td>\n      <td>410.30</td>\n      <td>B</td>\n      <td>B5</td>\n      <td>Operations Supervisor</td>\n      <td>...</td>\n      <td>100.0</td>\n      <td>33.3</td>\n      <td>0</td>\n      <td>0</td>\n      <td>47197</td>\n      <td>43223</td>\n      <td>15000</td>\n      <td>30897</td>\n      <td>N</td>\n      <td>N</td>\n    </tr>\n    <tr>\n      <th>3</th>\n      <td>159289397</td>\n      <td>10000</td>\n      <td>10000</td>\n      <td>10000</td>\n      <td>36 months</td>\n      <td>10.33%</td>\n      <td>324.23</td>\n      <td>B</td>\n      <td>B1</td>\n      <td>workless</td>\n      <td>...</td>\n      <td>94.4</td>\n      <td>0.0</td>\n      <td>1</td>\n      <td>0</td>\n      <td>78772</td>\n      <td>25938</td>\n      <td>26100</td>\n      <td>43772</td>\n      <td>N</td>\n      <td>N</td>\n    </tr>\n    <tr>\n      <th>4</th>\n      <td>159296485</td>\n      <td>7000</td>\n      <td>7000</td>\n      <td>7000</td>\n      <td>36 months</td>\n      <td>18.62%</td>\n      <td>255.25</td>\n      <td>D</td>\n      <td>D1</td>\n      <td>Street sweeper</td>\n      <td>...</td>\n      <td>78.9</td>\n      <td>100.0</td>\n      <td>0</td>\n      <td>0</td>\n      <td>49928</td>\n      <td>36027</td>\n      <td>2200</td>\n      <td>42128</td>\n      <td>N</td>\n      <td>N</td>\n    </tr>\n  </tbody>\n</table>\n<p>5 rows × 107 columns</p>\n</div>"
     },
     "execution_count": 21,
     "metadata": {},
     "output_type": "execute_result"
    }
   ],
   "source": [
    "# 查看填充后的数据\n",
    "dataset_copy.head(5)"
   ],
   "metadata": {
    "collapsed": false,
    "pycharm": {
     "name": "#%%\n"
    }
   }
  },
  {
   "cell_type": "markdown",
   "source": [
    "## 使用平均值进行填充\n",
    "1. 使用`mean()`求平均值\n",
    "2. 使用`.isnull().sum()`计数"
   ],
   "metadata": {
    "collapsed": false,
    "pycharm": {
     "name": "#%% md\n"
    }
   }
  },
  {
   "cell_type": "code",
   "execution_count": 22,
   "outputs": [
    {
     "data": {
      "text/plain": "(69.15476942514213, 0)"
     },
     "execution_count": 22,
     "metadata": {},
     "output_type": "execute_result"
    }
   ],
   "source": [
    "# 使用均值填补贷款帐户的当前总余额占信用限额的比例\n",
    "dataset_copy['il_util'].fillna(dataset_copy['il_util'].mean(), inplace=True)\n",
    "# 查看 平均值 和 本列的缺失值数量\n",
    "dataset_copy['il_util'].mean(), dataset_copy['il_util'].isnull().sum()"
   ],
   "metadata": {
    "collapsed": false,
    "pycharm": {
     "name": "#%%\n"
    }
   }
  },
  {
   "cell_type": "code",
   "execution_count": 23,
   "outputs": [
    {
     "data": {
      "text/plain": "0    69.154769\n1    63.000000\n2    95.000000\n3    52.000000\n4    69.154769\nName: il_util, dtype: float64"
     },
     "execution_count": 23,
     "metadata": {},
     "output_type": "execute_result"
    }
   ],
   "source": [
    "# 查看填充后的数据\n",
    "dataset_copy['il_util'].head(5)"
   ],
   "metadata": {
    "collapsed": false,
    "pycharm": {
     "name": "#%%\n"
    }
   }
  },
  {
   "cell_type": "markdown",
   "source": [
    "## 众数填充\n",
    "1. 使用自己的数据试验众数的求法\n",
    "2. 填充众数\n",
    "### Series 和 dataframe 的区别\n",
    "series 是一维数组，对应表格中的一列数据\n",
    "dataframe 是二维表格"
   ],
   "metadata": {
    "collapsed": false,
    "pycharm": {
     "name": "#%% md\n"
    }
   }
  },
  {
   "cell_type": "code",
   "execution_count": 24,
   "outputs": [
    {
     "name": "stdout",
     "output_type": "stream",
     "text": [
      "   code\n",
      "0     1\n",
      "1     2\n",
      "2     3\n",
      "3     7\n",
      "4     5\n",
      "5     6\n",
      "6     7\n",
      "7     8\n",
      "8     9\n",
      "9     7\n"
     ]
    },
    {
     "data": {
      "text/plain": "0    7\n1    8\nName: code, dtype: int64"
     },
     "execution_count": 24,
     "metadata": {},
     "output_type": "execute_result"
    }
   ],
   "source": [
    "# 打开数据文件\n",
    "dataset_test = pd.read_csv(\"./input/moreMode.csv\", encoding=\"gbk\", low_memory=False)\n",
    "# 查看数据前10行\n",
    "print(dataset_test.head(10))\n",
    "# 获取众数 - 观察到返回的是 series 对象（一维数组）\n",
    "dataset_test[\"code\"].mode()"
   ],
   "metadata": {
    "collapsed": false,
    "pycharm": {
     "name": "#%%\n"
    }
   }
  },
  {
   "cell_type": "code",
   "execution_count": 25,
   "outputs": [
    {
     "data": {
      "text/plain": "0"
     },
     "execution_count": 25,
     "metadata": {},
     "output_type": "execute_result"
    }
   ],
   "source": [
    "# 距离上一次调查的时间用众数填补\n",
    "dataset_copy['mths_since_recent_inq'].fillna(dataset_copy['mths_since_recent_inq'].mode()[0], inplace=True)\n",
    "# 查看本列的缺失值数量\n",
    "dataset_copy['mths_since_recent_inq'].isnull().sum()"
   ],
   "metadata": {
    "collapsed": false,
    "pycharm": {
     "name": "#%%\n"
    }
   }
  },
  {
   "cell_type": "markdown",
   "source": [
    "## 使用字典进行填补\n",
    "计算好需要填补的值后，构造为字典"
   ],
   "metadata": {
    "collapsed": false,
    "pycharm": {
     "name": "#%% md\n"
    }
   }
  },
  {
   "cell_type": "code",
   "execution_count": 26,
   "outputs": [
    {
     "data": {
      "text/plain": "{'emp_title': 'workless',\n 'emp_length': '5 years',\n 'il_util': 69.15476942514213,\n 'mths_since_recent_inq': 1.0}"
     },
     "execution_count": 26,
     "metadata": {},
     "output_type": "execute_result"
    }
   ],
   "source": [
    "dataset_copy_2 = dataset.copy()\n",
    "fill_dict = {\n",
    "    less_null_index[0]: \"workless\",\n",
    "    less_null_index[1]: \"5 years\",\n",
    "    less_null_index[2]: dataset_copy_2[less_null_index[2]].mean(),\n",
    "    less_null_index[3]: dataset_copy_2[less_null_index[3]].mode()[0]\n",
    "}\n",
    "fill_dict"
   ],
   "metadata": {
    "collapsed": false,
    "pycharm": {
     "name": "#%%\n"
    }
   }
  },
  {
   "cell_type": "code",
   "execution_count": 27,
   "outputs": [
    {
     "data": {
      "text/plain": "emp_title                0\nemp_length               0\nil_util                  0\nmths_since_recent_inq    0\ndtype: int64"
     },
     "execution_count": 27,
     "metadata": {},
     "output_type": "execute_result"
    }
   ],
   "source": [
    "# 进行填补\n",
    "dataset_copy_2.fillna(fill_dict, inplace=True)\n",
    "# 查看四列的缺失值数量\n",
    "dataset_copy_2[less_null_index].isnull().sum()"
   ],
   "metadata": {
    "collapsed": false,
    "pycharm": {
     "name": "#%%\n"
    }
   }
  },
  {
   "cell_type": "code",
   "execution_count": 28,
   "outputs": [],
   "source": [
    "# 存储结果\n",
    "dataset_copy.to_csv(\"./output/simpleFill.csv\", index=False)"
   ],
   "metadata": {
    "collapsed": false,
    "pycharm": {
     "name": "#%%\n"
    }
   }
  },
  {
   "cell_type": "markdown",
   "source": [
    "# 向前向后与插值法填补\n",
    "指定`.fillna()`中的`method`参数进行向前/向后填充"
   ],
   "metadata": {
    "collapsed": false,
    "pycharm": {
     "name": "#%% md\n"
    }
   }
  },
  {
   "cell_type": "code",
   "execution_count": 29,
   "outputs": [
    {
     "name": "stdout",
     "output_type": "stream",
     "text": [
      "需要填补的缺失值的列为:\n",
      " ['next_pymnt_d', 'mths_since_rcnt_il', 'mo_sin_old_il_acct']\n",
      "这些列的信息：\n",
      "     next_pymnt_d  mths_since_rcnt_il  mo_sin_old_il_acct\n",
      "490       19-Dec                15.0               137.0\n",
      "491          NaN                 9.0               154.0\n",
      "492       19-Dec                 1.0                66.0\n",
      "493       19-Dec                16.0               290.0\n",
      "494       19-Dec                 9.0                14.0\n",
      "495       19-Dec                14.0                37.0\n",
      "496       19-Dec                13.0               155.0\n",
      "497       19-Dec                 3.0               113.0\n",
      "498       19-Dec                41.0               151.0\n",
      "499       19-Dec                14.0               112.0\n",
      "500       19-Dec                80.0               158.0\n",
      "501          NaN                 6.0               199.0\n",
      "502       19-Dec                60.0                60.0\n",
      "503       19-Dec                13.0                13.0\n",
      "504       19-Dec                14.0                40.0\n",
      "505       19-Dec                28.0               169.0\n",
      "506       19-Dec                14.0               143.0\n",
      "507       19-Dec                41.0               192.0\n",
      "508       19-Dec                 3.0               119.0\n",
      "509       19-Dec                46.0               142.0\n"
     ]
    },
    {
     "data": {
      "text/plain": "next_pymnt_d           object\nmths_since_rcnt_il    float64\nmo_sin_old_il_acct    float64\ndtype: object"
     },
     "execution_count": 29,
     "metadata": {},
     "output_type": "execute_result"
    }
   ],
   "source": [
    "# 首先查看缺失百分比在2.5%到4%的列有哪些\n",
    "less_null_index = list(na_ratio[(na_ratio['NA_Ratio'] <= 4) & (na_ratio['NA_Ratio'] >= 2.5)].index)\n",
    "print(\"需要填补的缺失值的列为:\\n\", less_null_index)\n",
    "print(\"这些列的信息：\\n\", dataset_copy[less_null_index].iloc[490:510])\n",
    "dataset_copy[less_null_index].dtypes"
   ],
   "metadata": {
    "collapsed": false,
    "pycharm": {
     "name": "#%%\n"
    }
   }
  },
  {
   "cell_type": "markdown",
   "source": [
    "## 后值向前填补"
   ],
   "metadata": {
    "collapsed": false,
    "pycharm": {
     "name": "#%% md\n"
    }
   }
  },
  {
   "cell_type": "code",
   "execution_count": 30,
   "outputs": [
    {
     "data": {
      "text/plain": "490    19-Dec\n491    19-Dec\n492    19-Dec\n493    19-Dec\n494    19-Dec\n495    19-Dec\n496    19-Dec\n497    19-Dec\n498    19-Dec\n499    19-Dec\n500    19-Dec\n501    19-Dec\n502    19-Dec\n503    19-Dec\n504    19-Dec\n505    19-Dec\n506    19-Dec\n507    19-Dec\n508    19-Dec\n509    19-Dec\nName: next_pymnt_d, dtype: object"
     },
     "execution_count": 30,
     "metadata": {},
     "output_type": "execute_result"
    }
   ],
   "source": [
    "dataset_copy['next_pymnt_d'] = dataset_copy['next_pymnt_d'].fillna(method=\"bfill\")\n",
    "dataset_copy['next_pymnt_d'][490:510]  # 可以观察到，缺失项已经被填补"
   ],
   "metadata": {
    "collapsed": false,
    "pycharm": {
     "name": "#%%\n"
    }
   }
  },
  {
   "cell_type": "markdown",
   "source": [
    "## 前值向后填补"
   ],
   "metadata": {
    "collapsed": false,
    "pycharm": {
     "name": "#%% md\n"
    }
   }
  },
  {
   "cell_type": "code",
   "execution_count": 31,
   "outputs": [
    {
     "name": "stdout",
     "output_type": "stream",
     "text": [
      "150    108.0\n",
      "151      NaN\n",
      "152     83.0\n",
      "153     45.0\n",
      "154    122.0\n",
      "155    103.0\n",
      "156      NaN\n",
      "157    100.0\n",
      "158    141.0\n",
      "159    101.0\n",
      "160    121.0\n",
      "161    172.0\n",
      "162    170.0\n",
      "163      NaN\n",
      "164    109.0\n",
      "Name: mo_sin_old_il_acct, dtype: float64\n"
     ]
    },
    {
     "data": {
      "text/plain": "6     NaN\n66    NaN\n70    NaN\n138   NaN\n151   NaN\nName: mths_since_rcnt_il, dtype: float64"
     },
     "execution_count": 31,
     "metadata": {},
     "output_type": "execute_result"
    }
   ],
   "source": [
    "# dataset_copy['mths_since_rcnt_il'].isnull() 返回了 series；作为下标 True 的行会留下\n",
    "print(dataset_copy['mo_sin_old_il_acct'][150:165])\n",
    "dataset_copy['mths_since_rcnt_il'][dataset_copy['mths_since_rcnt_il'].isnull()].head(5)\n",
    "# dataset_copy['mths_since_rcnt_il'].isnull()"
   ],
   "metadata": {
    "collapsed": false,
    "pycharm": {
     "name": "#%%\n"
    }
   }
  },
  {
   "cell_type": "code",
   "execution_count": 32,
   "outputs": [
    {
     "data": {
      "text/plain": "150    10.0\n151    10.0\n152    83.0\n153    16.0\n154     2.0\n155     3.0\n156     3.0\n157     1.0\n158    14.0\n159    19.0\n160     2.0\n161     3.0\n162     3.0\n163     3.0\n164    16.0\nName: mths_since_rcnt_il, dtype: float64"
     },
     "execution_count": 32,
     "metadata": {},
     "output_type": "execute_result"
    }
   ],
   "source": [
    "# 进行填补，对比\n",
    "dataset_copy['mths_since_rcnt_il'] = dataset_copy['mths_since_rcnt_il'].fillna(method=\"pad\")\n",
    "dataset_copy['mths_since_rcnt_il'][150:165]"
   ],
   "metadata": {
    "collapsed": false,
    "pycharm": {
     "name": "#%%\n"
    }
   }
  },
  {
   "cell_type": "markdown",
   "source": [
    "## 插值填充"
   ],
   "metadata": {
    "collapsed": false,
    "pycharm": {
     "name": "#%% md\n"
    }
   }
  },
  {
   "cell_type": "code",
   "execution_count": 33,
   "outputs": [
    {
     "data": {
      "text/plain": "150    108.0\n151      NaN\n152     83.0\n153     45.0\n154    122.0\n155    103.0\n156      NaN\n157    100.0\n158    141.0\n159    101.0\n160    121.0\n161    172.0\n162    170.0\n163      NaN\n164    109.0\nName: mo_sin_old_il_acct, dtype: float64"
     },
     "execution_count": 33,
     "metadata": {},
     "output_type": "execute_result"
    }
   ],
   "source": [
    "dataset_copy['mo_sin_old_il_acct'][150:165]  # 原始数据，供参考\n",
    "# dataset_copy['bc_util'][485:500]"
   ],
   "metadata": {
    "collapsed": false,
    "pycharm": {
     "name": "#%%\n"
    }
   }
  },
  {
   "cell_type": "code",
   "execution_count": 34,
   "outputs": [
    {
     "data": {
      "text/plain": "150    108.0\n151     95.5\n152     83.0\n153     45.0\n154    122.0\n155    103.0\n156    101.5\n157    100.0\n158    141.0\n159    101.0\n160    121.0\n161    172.0\n162    170.0\n163    139.5\n164    109.0\nName: mo_sin_old_il_acct, dtype: float64"
     },
     "execution_count": 34,
     "metadata": {},
     "output_type": "execute_result"
    }
   ],
   "source": [
    "# 进行线性插值，对比数据\n",
    "# 默认是 线性插值\n",
    "dataset_copy['mo_sin_old_il_acct'] = dataset_copy['mo_sin_old_il_acct'].interpolate()\n",
    "# 打印150-165行填充后此列的值\n",
    "dataset_copy['mo_sin_old_il_acct'][150:165]\n",
    "# dataset_copy['bc_util'][485:500]"
   ],
   "metadata": {
    "collapsed": false,
    "pycharm": {
     "name": "#%%\n"
    }
   }
  },
  {
   "cell_type": "code",
   "execution_count": 35,
   "outputs": [
    {
     "name": "stdout",
     "output_type": "stream",
     "text": [
      "缺失值列为: ['bc_open_to_buy', 'bc_util', 'mths_since_recent_bc', 'percent_bc_gt_75']\n"
     ]
    },
    {
     "data": {
      "text/plain": "485    10343.0\n486     9139.0\n487     8139.0\n488    10662.0\n489        NaN\n490    28538.0\n491     5220.0\n492        NaN\n493     5966.0\n494     1335.0\n495     2653.0\n496    48263.0\n497    24618.0\n498     6942.0\n499    15630.0\nName: bc_open_to_buy, dtype: float64"
     },
     "execution_count": 35,
     "metadata": {},
     "output_type": "execute_result"
    }
   ],
   "source": [
    "# 选取部分列作为备选，方便接下来进行处理\n",
    "null_index = list(na_ratio[(na_ratio['NA_Ratio'] >= 1) & (na_ratio['NA_Ratio'] < 2.5)].index)\n",
    "print(\"缺失值列为:\", null_index)\n",
    "# 查看原数据\n",
    "dataset_copy['bc_open_to_buy'][485:500]\n",
    "# dataset_copy['bc_open_to_buy'][dataset_copy['bc_open_to_buy'].isnull()].head(10)\n",
    "# dataset_copy['bc_util'][485:500]"
   ],
   "metadata": {
    "collapsed": false,
    "pycharm": {
     "name": "#%%\n"
    }
   }
  },
  {
   "cell_type": "code",
   "execution_count": 36,
   "outputs": [
    {
     "data": {
      "text/plain": "485    10343.000000\n486     9139.000000\n487     8139.000000\n488    10662.000000\n489    24986.611923\n490    28538.000000\n491     5220.000000\n492     1333.578571\n493     5966.000000\n494     1335.000000\n495     2653.000000\n496    48263.000000\n497    24618.000000\n498     6942.000000\n499    15630.000000\nName: bc_open_to_buy, dtype: float64"
     },
     "execution_count": 36,
     "metadata": {},
     "output_type": "execute_result"
    }
   ],
   "source": [
    "# 进行多项式插值，选择二次多项式插值，查看效果\n",
    "# dataset_degree2 = dataset_copy.copy() # 建立副本\n",
    "dataset_degree2 = dataset_copy\n",
    "dataset_degree2['bc_open_to_buy'].interpolate(method=\"polynomial\", order=2, inplace=True)\n",
    "dataset_degree2['bc_open_to_buy'][485:500]\n",
    "# dataset_copy['bc_util'][485:500]"
   ],
   "metadata": {
    "collapsed": false,
    "pycharm": {
     "name": "#%%\n"
    }
   }
  },
  {
   "cell_type": "code",
   "execution_count": 37,
   "outputs": [
    {
     "data": {
      "text/plain": "485    53.0\n486    39.5\n487    88.4\n488    39.1\n489     NaN\n490    54.2\n491    75.3\n492     NaN\n493    78.1\n494    73.8\n495    58.5\n496    24.0\n497    50.0\n498    45.3\n499    32.5\nName: bc_util, dtype: float64"
     },
     "execution_count": 37,
     "metadata": {},
     "output_type": "execute_result"
    }
   ],
   "source": [
    "# 查看原始数据\n",
    "# dataset_degree3 = dataset_copy.copy() # 建立副本\n",
    "dataset_degree3 = dataset_copy\n",
    "dataset_degree3['bc_util'][485:500]\n",
    "# dataset_copy['bc_util'][485:500]"
   ],
   "metadata": {
    "collapsed": false,
    "pycharm": {
     "name": "#%%\n"
    }
   }
  },
  {
   "cell_type": "code",
   "execution_count": 38,
   "outputs": [
    {
     "data": {
      "text/plain": "(485    53.000000\n 486    39.500000\n 487    88.400000\n 488    39.100000\n 489    24.674430\n 490    54.200000\n 491    75.300000\n 492    82.836091\n 493    78.100000\n 494    73.800000\n 495    58.500000\n 496    24.000000\n 497    50.000000\n 498    45.300000\n 499    32.500000\n Name: bc_util, dtype: float64,\n 0)"
     },
     "execution_count": 38,
     "metadata": {},
     "output_type": "execute_result"
    }
   ],
   "source": [
    "# 对前 10000 行进行三次样条插值，查看效果\n",
    "dataset_degree3.loc[:10000, 'bc_util'].interpolate(method=\"spline\", order=3, inplace=True)\n",
    "# dataset_degree3.interpolate(method=\"spline\", order=3, inplace=True)\n",
    "dataset_degree3['bc_util'][485:500], dataset_degree3.loc[:10000, 'bc_util'].isnull().sum()"
   ],
   "metadata": {
    "collapsed": false,
    "pycharm": {
     "name": "#%%\n"
    }
   }
  },
  {
   "cell_type": "code",
   "execution_count": 39,
   "outputs": [
    {
     "data": {
      "text/plain": "0"
     },
     "execution_count": 39,
     "metadata": {},
     "output_type": "execute_result"
    }
   ],
   "source": [
    "# 剩下的所有列的缺失值进行简单的向前填补处理\n",
    "dataset_copy.fillna(method=\"bfill\", inplace=True)\n",
    "dataset_copy.isnull().sum().sum()"
   ],
   "metadata": {
    "collapsed": false,
    "pycharm": {
     "name": "#%%\n"
    }
   }
  },
  {
   "cell_type": "markdown",
   "source": [
    "# 异常值处理\n",
    "主要介绍如何找到缺失值"
   ],
   "metadata": {
    "collapsed": false,
    "pycharm": {
     "name": "#%% md\n"
    }
   }
  },
  {
   "cell_type": "code",
   "execution_count": 40,
   "outputs": [
    {
     "data": {
      "text/plain": "count    143035.000000\nmean         19.007061\nstd          23.287769\nmin           0.000000\n25%           6.000000\n50%          12.000000\n75%          22.000000\nmax         454.000000\nName: mths_since_rcnt_il, dtype: float64"
     },
     "execution_count": 40,
     "metadata": {},
     "output_type": "execute_result"
    }
   ],
   "source": [
    "dataset_copy['mths_since_rcnt_il'].describe()"
   ],
   "metadata": {
    "collapsed": false,
    "pycharm": {
     "name": "#%%\n"
    }
   }
  },
  {
   "cell_type": "markdown",
   "source": [
    "使用盒图查看可疑列"
   ],
   "metadata": {
    "collapsed": false,
    "pycharm": {
     "name": "#%% md\n"
    }
   }
  },
  {
   "cell_type": "code",
   "execution_count": 41,
   "outputs": [
    {
     "data": {
      "text/plain": "<Figure size 640x480 with 1 Axes>",
      "image/png": "[encoded data removed]"
     },
     "metadata": {},
     "output_type": "display_data"
    }
   ],
   "source": [
    "# 设置背景\n",
    "sns.set(style=\"whitegrid\", color_codes=True)\n",
    "# 设置横轴为数值\n",
    "sns.boxplot(x='mths_since_rcnt_il', data=dataset)\n",
    "# 显示图像\n",
    "plt.show()"
   ],
   "metadata": {
    "collapsed": false,
    "pycharm": {
     "name": "#%%\n"
    }
   }
  },
  {
   "cell_type": "code",
   "execution_count": 42,
   "outputs": [
    {
     "data": {
      "text/plain": "12549     431.0\n17363     382.0\n21074     327.0\n21592     401.0\n32163     445.0\n51196     406.0\n65111     426.0\n69109     316.0\n69876     367.0\n81846     340.0\n82736     344.0\n87536     347.0\n99514     366.0\n107050    387.0\n111815    454.0\n123497    407.0\n129483    319.0\nName: mths_since_rcnt_il, dtype: float64"
     },
     "execution_count": 42,
     "metadata": {},
     "output_type": "execute_result"
    }
   ],
   "source": [
    "# 查看异常\n",
    "dataset_copy['mths_since_rcnt_il'][dataset_copy['mths_since_rcnt_il'] > 300]"
   ],
   "metadata": {
    "collapsed": false,
    "pycharm": {
     "name": "#%%\n"
    }
   }
  },
  {
   "cell_type": "code",
   "execution_count": 43,
   "outputs": [
    {
     "name": "stdout",
     "output_type": "stream",
     "text": [
      "删除异常值之前的行数 143035\n",
      "删除异常值之后的行数 143018\n"
     ]
    }
   ],
   "source": [
    "# 使用 drop()函数 来**删除**这些异常值所存在的行\n",
    "print(\"删除异常值之前的行数\", len(dataset_copy['mths_since_rcnt_il']))\n",
    "dataset_copy.drop(list(dataset_copy['mths_since_rcnt_il'][dataset_copy['mths_since_rcnt_il'] > 300].index), axis=0,\n",
    "                  inplace=True)\n",
    "print(\"删除异常值之后的行数\", len(dataset_copy['mths_since_rcnt_il']))"
   ],
   "metadata": {
    "collapsed": false,
    "pycharm": {
     "name": "#%%\n"
    }
   }
  },
  {
   "cell_type": "markdown",
   "source": [
    "# 重复值处理"
   ],
   "metadata": {
    "collapsed": false,
    "pycharm": {
     "name": "#%% md\n"
    }
   }
  },
  {
   "cell_type": "code",
   "execution_count": 44,
   "outputs": [
    {
     "data": {
      "text/plain": "Empty DataFrame\nColumns: [id, loan_amnt, funded_amnt, funded_amnt_inv, term, int_rate, installment, grade, sub_grade, emp_title, emp_length, home_ownership, annual_inc, verification_status, issue_d, loan_status, pymnt_plan, url, purpose, title, zip_code, addr_state, dti, delinq_2yrs, earliest_cr_line, fico_range_low, fico_range_high, inq_last_6mths, open_acc, pub_rec, revol_bal, revol_util, total_acc, initial_list_status, out_prncp, out_prncp_inv, total_pymnt, total_pymnt_inv, total_rec_prncp, total_rec_int, total_rec_late_fee, recoveries, collection_recovery_fee, last_pymnt_d, last_pymnt_amnt, next_pymnt_d, last_credit_pull_d, last_fico_range_high, last_fico_range_low, collections_12_mths_ex_med, policy_code, application_type, acc_now_delinq, tot_coll_amt, tot_cur_bal, open_acc_6m, open_act_il, open_il_12m, open_il_24m, mths_since_rcnt_il, total_bal_il, il_util, open_rv_12m, open_rv_24m, max_bal_bc, all_util, total_rev_hi_lim, inq_fi, total_cu_tl, inq_last_12m, acc_open_past_24mths, avg_cur_bal, bc_open_to_buy, bc_util, chargeoff_within_12_mths, delinq_amnt, mo_sin_old_il_acct, mo_sin_old_rev_tl_op, mo_sin_rcnt_rev_tl_op, mo_sin_rcnt_tl, mort_acc, mths_since_recent_bc, mths_since_recent_inq, num_accts_ever_120_pd, num_actv_bc_tl, num_actv_rev_tl, num_bc_sats, num_bc_tl, num_il_tl, num_op_rev_tl, num_rev_accts, num_rev_tl_bal_gt_0, num_sats, num_tl_120dpd_2m, num_tl_30dpd, num_tl_90g_dpd_24m, num_tl_op_past_12m, pct_tl_nvr_dlq, percent_bc_gt_75, pub_rec_bankruptcies, ...]\nIndex: []\n\n[0 rows x 107 columns]",
      "text/html": "<div>\n<style scoped>\n    .dataframe tbody tr th:only-of-type {\n        vertical-align: middle;\n    }\n\n    .dataframe tbody tr th {\n        vertical-align: top;\n    }\n\n    .dataframe thead th {\n        text-align: right;\n    }\n</style>\n<table border=\"1\" class=\"dataframe\">\n  <thead>\n    <tr style=\"text-align: right;\">\n      <th></th>\n      <th>id</th>\n      <th>loan_amnt</th>\n      <th>funded_amnt</th>\n      <th>funded_amnt_inv</th>\n      <th>term</th>\n      <th>int_rate</th>\n      <th>installment</th>\n      <th>grade</th>\n      <th>sub_grade</th>\n      <th>emp_title</th>\n      <th>...</th>\n      <th>pct_tl_nvr_dlq</th>\n      <th>percent_bc_gt_75</th>\n      <th>pub_rec_bankruptcies</th>\n      <th>tax_liens</th>\n      <th>tot_hi_cred_lim</th>\n      <th>total_bal_ex_mort</th>\n      <th>total_bc_limit</th>\n      <th>total_il_high_credit_limit</th>\n      <th>hardship_flag</th>\n      <th>debt_settlement_flag</th>\n    </tr>\n  </thead>\n  <tbody>\n  </tbody>\n</table>\n<p>0 rows × 107 columns</p>\n</div>"
     },
     "execution_count": 44,
     "metadata": {},
     "output_type": "execute_result"
    }
   ],
   "source": [
    "dataset_copy.reset_index(inplace=True)\n",
    "dataset_copy.drop('index', axis=1, inplace=True)\n",
    "dataset_copy[dataset_copy.duplicated()]"
   ],
   "metadata": {
    "collapsed": false,
    "pycharm": {
     "name": "#%%\n"
    }
   }
  },
  {
   "cell_type": "code",
   "execution_count": 45,
   "outputs": [
    {
     "name": "stdout",
     "output_type": "stream",
     "text": [
      "随机选择的行： 49585\n",
      "粘贴前的行数为： 143018\n",
      "粘贴后的行数为： 143019\n"
     ]
    },
    {
     "data": {
      "text/plain": "               id  loan_amnt  funded_amnt  funded_amnt_inv        term   \n143018  157776240      10000        10000            10000   60 months  \\\n\n       int_rate  installment grade sub_grade              emp_title  ...   \n143018   11.02%       217.53     B        B2  New England Sales Rep  ...  \\\n\n       pct_tl_nvr_dlq percent_bc_gt_75  pub_rec_bankruptcies tax_liens   \n143018           90.9            100.0                     0         0  \\\n\n       tot_hi_cred_lim total_bal_ex_mort total_bc_limit   \n143018          200853             37213           9700  \\\n\n       total_il_high_credit_limit hardship_flag debt_settlement_flag  \n143018                      43666             N                    N  \n\n[1 rows x 107 columns]",
      "text/html": "<div>\n<style scoped>\n    .dataframe tbody tr th:only-of-type {\n        vertical-align: middle;\n    }\n\n    .dataframe tbody tr th {\n        vertical-align: top;\n    }\n\n    .dataframe thead th {\n        text-align: right;\n    }\n</style>\n<table border=\"1\" class=\"dataframe\">\n  <thead>\n    <tr style=\"text-align: right;\">\n      <th></th>\n      <th>id</th>\n      <th>loan_amnt</th>\n      <th>funded_amnt</th>\n      <th>funded_amnt_inv</th>\n      <th>term</th>\n      <th>int_rate</th>\n      <th>installment</th>\n      <th>grade</th>\n      <th>sub_grade</th>\n      <th>emp_title</th>\n      <th>...</th>\n      <th>pct_tl_nvr_dlq</th>\n      <th>percent_bc_gt_75</th>\n      <th>pub_rec_bankruptcies</th>\n      <th>tax_liens</th>\n      <th>tot_hi_cred_lim</th>\n      <th>total_bal_ex_mort</th>\n      <th>total_bc_limit</th>\n      <th>total_il_high_credit_limit</th>\n      <th>hardship_flag</th>\n      <th>debt_settlement_flag</th>\n    </tr>\n  </thead>\n  <tbody>\n    <tr>\n      <th>143018</th>\n      <td>157776240</td>\n      <td>10000</td>\n      <td>10000</td>\n      <td>10000</td>\n      <td>60 months</td>\n      <td>11.02%</td>\n      <td>217.53</td>\n      <td>B</td>\n      <td>B2</td>\n      <td>New England Sales Rep</td>\n      <td>...</td>\n      <td>90.9</td>\n      <td>100.0</td>\n      <td>0</td>\n      <td>0</td>\n      <td>200853</td>\n      <td>37213</td>\n      <td>9700</td>\n      <td>43666</td>\n      <td>N</td>\n      <td>N</td>\n    </tr>\n  </tbody>\n</table>\n<p>1 rows × 107 columns</p>\n</div>"
     },
     "execution_count": 45,
     "metadata": {},
     "output_type": "execute_result"
    }
   ],
   "source": [
    "# 随机选择一行\n",
    "random_number = np.random.randint(0,len(dataset_copy['loan_amnt']))\n",
    "print(\"随机选择的行：\",random_number)\n",
    "print(\"粘贴前的行数为：\",len(dataset_copy['loan_amnt']))\n",
    "duplicated_row = dataset_copy.iloc[random_number]\n",
    "dataset_copy.loc[len(dataset_copy['loan_amnt'])] = duplicated_row\n",
    "print(\"粘贴后的行数为：\",len(dataset_copy['loan_amnt']))\n",
    "dataset_copy[dataset_copy.duplicated()]"
   ],
   "metadata": {
    "collapsed": false,
    "pycharm": {
     "name": "#%%\n"
    }
   }
  },
  {
   "cell_type": "code",
   "execution_count": 46,
   "outputs": [],
   "source": [
    "dataset_copy.drop_duplicates(keep='first',inplace=True)\n",
    "dataset_copy[dataset_copy.duplicated()]\n",
    "dataset_copy.to_csv(\"./output/df_drop_duplicated\")"
   ],
   "metadata": {
    "collapsed": false,
    "pycharm": {
     "name": "#%%\n"
    }
   }
  },
  {
   "cell_type": "markdown",
   "source": [
    "# 数据标准化\n",
    "## Z-Score 标准化"
   ],
   "metadata": {
    "collapsed": false,
    "pycharm": {
     "name": "#%% md\n"
    }
   }
  },
  {
   "cell_type": "code",
   "execution_count": 47,
   "outputs": [
    {
     "data": {
      "text/plain": "0    12000\n1    20000\n2    18000\n3    10000\n4     7000\n5    24000\n6     4000\n7    22975\n8     4000\n9    34025\nName: loan_amnt, dtype: int64"
     },
     "execution_count": 47,
     "metadata": {},
     "output_type": "execute_result"
    }
   ],
   "source": [
    "dataset_copy['loan_amnt'].head(10)"
   ],
   "metadata": {
    "collapsed": false,
    "pycharm": {
     "name": "#%%\n"
    }
   }
  },
  {
   "cell_type": "code",
   "execution_count": 48,
   "outputs": [
    {
     "data": {
      "text/plain": "0   -0.423522\n1    0.349594\n2    0.156315\n3   -0.616800\n4   -0.906719\n5    0.736152\n6   -1.196637\n7    0.637097\n8   -1.196637\n9    1.704963\nName: loan_amnt, dtype: float64"
     },
     "execution_count": 48,
     "metadata": {},
     "output_type": "execute_result"
    }
   ],
   "source": [
    "# z-score标准化，适配数据集获取参数\n",
    "std_scale = preprocessing.StandardScaler().fit(dataset_copy[['loan_amnt']])\n",
    "# 进行标准化，得到标准化的数据\n",
    "np_std = std_scale.transform(dataset_copy[['loan_amnt']])\n",
    "# 将标准化后的数据加到dataset_copy中，替换初始数据\n",
    "dataset_copy[['loan_amnt']] = np_std\n",
    "# 查看此列标准化后的数据\n",
    "dataset_copy['loan_amnt'].head(10)"
   ],
   "metadata": {
    "collapsed": false,
    "pycharm": {
     "name": "#%%\n"
    }
   }
  },
  {
   "cell_type": "markdown",
   "source": [
    "## min-max 标准化"
   ],
   "metadata": {
    "collapsed": false,
    "pycharm": {
     "name": "#%% md\n"
    }
   }
  },
  {
   "cell_type": "code",
   "execution_count": 49,
   "outputs": [
    {
     "data": {
      "text/plain": "0    12000\n1    20000\n2    18000\n3    10000\n4     7000\n5    24000\n6     4000\n7    22975\n8     4000\n9    34025\nName: funded_amnt, dtype: int64"
     },
     "execution_count": 49,
     "metadata": {},
     "output_type": "execute_result"
    }
   ],
   "source": [
    "# 查看原数据\n",
    "dataset_copy['funded_amnt'].head(10)"
   ],
   "metadata": {
    "collapsed": false,
    "pycharm": {
     "name": "#%%\n"
    }
   }
  },
  {
   "cell_type": "code",
   "execution_count": 50,
   "outputs": [
    {
     "data": {
      "text/plain": "0    0.282051\n1    0.487179\n2    0.435897\n3    0.230769\n4    0.153846\n5    0.589744\n6    0.076923\n7    0.563462\n8    0.076923\n9    0.846795\nName: funded_amnt, dtype: float64"
     },
     "execution_count": 50,
     "metadata": {},
     "output_type": "execute_result"
    }
   ],
   "source": [
    "# 0-1标准化，适配数据集，确定参数\n",
    "minmax_scale = preprocessing.MinMaxScaler().fit(dataset_copy[['funded_amnt']])\n",
    "# 进行标准化，得到标准化的数据\n",
    "np_minmax = minmax_scale.transform(dataset_copy[['funded_amnt']])\n",
    "# 将标准化后的数据加到dataset_copy中，替换初始数据\n",
    "dataset_copy[['funded_amnt']] = np_minmax\n",
    "# 查看此列标准化后的数据\n",
    "dataset_copy['funded_amnt'].head(10)"
   ],
   "metadata": {
    "collapsed": false,
    "pycharm": {
     "name": "#%%\n"
    }
   }
  },
  {
   "cell_type": "markdown",
   "source": [
    "## 自行实验两种方法\n",
    "小数定标标准化\n",
    "Logistic 标准化"
   ],
   "metadata": {
    "collapsed": false,
    "pycharm": {
     "name": "#%% md\n"
    }
   }
  },
  {
   "cell_type": "markdown",
   "source": [
    "对`fico_range_low`进行小数定标标准化"
   ],
   "metadata": {
    "collapsed": false,
    "pycharm": {
     "name": "#%% md\n"
    }
   }
  },
  {
   "cell_type": "code",
   "execution_count": 51,
   "outputs": [],
   "source": [
    "dataset_copy['fico_range_low'].head(10)\n",
    "d=np.ceil(np.log10(np.max(abs(dataset_copy['fico_range_low']))))"
   ],
   "metadata": {
    "collapsed": false,
    "pycharm": {
     "name": "#%%\n"
    }
   }
  },
  {
   "cell_type": "code",
   "execution_count": 52,
   "outputs": [
    {
     "data": {
      "text/plain": "0    0.680\n1    0.745\n2    0.660\n3    0.720\n4    0.670\n5    0.660\n6    0.695\n7    0.690\n8    0.710\n9    0.665\nName: fico_range_low, dtype: float64"
     },
     "execution_count": 52,
     "metadata": {},
     "output_type": "execute_result"
    }
   ],
   "source": [
    "dataset_copy['fico_range_low'] /= 10**d\n",
    "dataset_copy['fico_range_low'].head(10)"
   ],
   "metadata": {
    "collapsed": false,
    "pycharm": {
     "name": "#%%\n"
    }
   }
  },
  {
   "cell_type": "markdown",
   "source": [
    "对 loan_amnt（贷款金额）进行 Logistic 标准化"
   ],
   "metadata": {
    "collapsed": false,
    "pycharm": {
     "name": "#%% md\n"
    }
   }
  },
  {
   "cell_type": "code",
   "execution_count": 53,
   "outputs": [
    {
     "data": {
      "text/plain": "0   -0.423522\n1    0.349594\n2    0.156315\n3   -0.616800\n4   -0.906719\n5    0.736152\n6   -1.196637\n7    0.637097\n8   -1.196637\n9    1.704963\nName: loan_amnt, dtype: float64"
     },
     "execution_count": 53,
     "metadata": {},
     "output_type": "execute_result"
    }
   ],
   "source": [
    "dataset_copy['loan_amnt'].head(10)"
   ],
   "metadata": {
    "collapsed": false,
    "pycharm": {
     "name": "#%%\n"
    }
   }
  },
  {
   "cell_type": "code",
   "execution_count": 54,
   "outputs": [
    {
     "data": {
      "text/plain": "0   -0.423522\n1    0.349594\n2    0.156315\n3   -0.616800\n4   -0.906719\n5    0.736152\n6   -1.196637\n7    0.637097\n8   -1.196637\n9    1.704963\nName: loan_amnt, dtype: float64"
     },
     "execution_count": 54,
     "metadata": {},
     "output_type": "execute_result"
    }
   ],
   "source": [
    "# 定义 Logistic 变换函数\n",
    "def logistic_transform(x):\n",
    "    return 1 / (1 + np.exp(-x))\n",
    "# 对 DataFrame 进行原位 Logistic 标准化\n",
    "dataset_copy['loan_amnt'].apply(logistic_transform)\n",
    "dataset_copy['loan_amnt'].head(10)"
   ],
   "metadata": {
    "collapsed": false,
    "pycharm": {
     "name": "#%%\n"
    }
   }
  },
  {
   "cell_type": "markdown",
   "source": [
    "# 数据编码\n",
    "复杂数据简单化\n",
    "## 数字编码"
   ],
   "metadata": {
    "collapsed": false,
    "pycharm": {
     "name": "#%% md\n"
    }
   }
  },
  {
   "cell_type": "code",
   "execution_count": 55,
   "outputs": [
    {
     "data": {
      "text/plain": "0        RENT\n1        RENT\n2        RENT\n3        RENT\n4        RENT\n5    MORTGAGE\n6        RENT\n7        RENT\n8        RENT\n9         OWN\nName: home_ownership, dtype: object"
     },
     "execution_count": 55,
     "metadata": {},
     "output_type": "execute_result"
    }
   ],
   "source": [
    "# 查看原数据\n",
    "dataset_copy['home_ownership'].head(10)"
   ],
   "metadata": {
    "collapsed": false,
    "pycharm": {
     "name": "#%%\n"
    }
   }
  },
  {
   "cell_type": "code",
   "execution_count": 56,
   "outputs": [
    {
     "data": {
      "text/plain": "0    2.0\n1    2.0\n2    2.0\n3    2.0\n4    2.0\n5    0.0\n6    2.0\n7    2.0\n8    2.0\n9    1.0\nName: home_ownership, dtype: float64"
     },
     "execution_count": 56,
     "metadata": {},
     "output_type": "execute_result"
    }
   ],
   "source": [
    "# 数字编码\n",
    "col_dicts = {'home_ownership': {'MORTGAGE': 0,\n",
    "  'OWN': 1,\n",
    "  'RENT': 2,\n",
    "  'others' : 3}}\n",
    "# 进行转换\n",
    "dataset_copy['home_ownership'] = dataset_copy['home_ownership'].map(col_dicts['home_ownership'])\n",
    "# 查看转化后的数据\n",
    "dataset_copy['home_ownership'].head(10)"
   ],
   "metadata": {
    "collapsed": false,
    "pycharm": {
     "name": "#%%\n"
    }
   }
  },
  {
   "cell_type": "code",
   "execution_count": 57,
   "outputs": [],
   "source": [
    "# 保存到磁盘\n",
    "dataset_copy.to_csv(\"./output/digit_code.csv\")"
   ],
   "metadata": {
    "collapsed": false,
    "pycharm": {
     "name": "#%%\n"
    }
   }
  },
  {
   "cell_type": "markdown",
   "source": [
    "## One-Hot 编码和哑变量编码"
   ],
   "metadata": {
    "collapsed": false,
    "pycharm": {
     "name": "#%% md\n"
    }
   }
  },
  {
   "cell_type": "code",
   "execution_count": 58,
   "outputs": [
    {
     "data": {
      "text/plain": "0    1\n1    0\n2    0\n3    0\n4    2\n5    3\n6    0\n7    0\n8    0\n9    0\nName: delinq_2yrs, dtype: int64"
     },
     "execution_count": 58,
     "metadata": {},
     "output_type": "execute_result"
    }
   ],
   "source": [
    "# 查看原始数据\n",
    "dataset_copy['delinq_2yrs'].head(10)"
   ],
   "metadata": {
    "collapsed": false,
    "pycharm": {
     "name": "#%%\n"
    }
   }
  },
  {
   "cell_type": "code",
   "execution_count": 59,
   "outputs": [
    {
     "data": {
      "text/plain": "        delinq_0  delinq_1  delinq_2  delinq_3  delinq_4  delinq_5  delinq_6   \n0          False      True     False     False     False     False     False  \\\n1           True     False     False     False     False     False     False   \n2           True     False     False     False     False     False     False   \n3           True     False     False     False     False     False     False   \n4          False     False      True     False     False     False     False   \n...          ...       ...       ...       ...       ...       ...       ...   \n143013      True     False     False     False     False     False     False   \n143014      True     False     False     False     False     False     False   \n143015      True     False     False     False     False     False     False   \n143016      True     False     False     False     False     False     False   \n143017     False     False      True     False     False     False     False   \n\n        delinq_7  delinq_8  delinq_9  ...  delinq_12  delinq_13  delinq_14   \n0          False     False     False  ...      False      False      False  \\\n1          False     False     False  ...      False      False      False   \n2          False     False     False  ...      False      False      False   \n3          False     False     False  ...      False      False      False   \n4          False     False     False  ...      False      False      False   \n...          ...       ...       ...  ...        ...        ...        ...   \n143013     False     False     False  ...      False      False      False   \n143014     False     False     False  ...      False      False      False   \n143015     False     False     False  ...      False      False      False   \n143016     False     False     False  ...      False      False      False   \n143017     False     False     False  ...      False      False      False   \n\n        delinq_15  delinq_16  delinq_17  delinq_19  delinq_21  delinq_22   \n0           False      False      False      False      False      False  \\\n1           False      False      False      False      False      False   \n2           False      False      False      False      False      False   \n3           False      False      False      False      False      False   \n4           False      False      False      False      False      False   \n...           ...        ...        ...        ...        ...        ...   \n143013      False      False      False      False      False      False   \n143014      False      False      False      False      False      False   \n143015      False      False      False      False      False      False   \n143016      False      False      False      False      False      False   \n143017      False      False      False      False      False      False   \n\n        delinq_26  \n0           False  \n1           False  \n2           False  \n3           False  \n4           False  \n...           ...  \n143013      False  \n143014      False  \n143015      False  \n143016      False  \n143017      False  \n\n[143018 rows x 22 columns]",
      "text/html": "<div>\n<style scoped>\n    .dataframe tbody tr th:only-of-type {\n        vertical-align: middle;\n    }\n\n    .dataframe tbody tr th {\n        vertical-align: top;\n    }\n\n    .dataframe thead th {\n        text-align: right;\n    }\n</style>\n<table border=\"1\" class=\"dataframe\">\n  <thead>\n    <tr style=\"text-align: right;\">\n      <th></th>\n      <th>delinq_0</th>\n      <th>delinq_1</th>\n      <th>delinq_2</th>\n      <th>delinq_3</th>\n      <th>delinq_4</th>\n      <th>delinq_5</th>\n      <th>delinq_6</th>\n      <th>delinq_7</th>\n      <th>delinq_8</th>\n      <th>delinq_9</th>\n      <th>...</th>\n      <th>delinq_12</th>\n      <th>delinq_13</th>\n      <th>delinq_14</th>\n      <th>delinq_15</th>\n      <th>delinq_16</th>\n      <th>delinq_17</th>\n      <th>delinq_19</th>\n      <th>delinq_21</th>\n      <th>delinq_22</th>\n      <th>delinq_26</th>\n    </tr>\n  </thead>\n  <tbody>\n    <tr>\n      <th>0</th>\n      <td>False</td>\n      <td>True</td>\n      <td>False</td>\n      <td>False</td>\n      <td>False</td>\n      <td>False</td>\n      <td>False</td>\n      <td>False</td>\n      <td>False</td>\n      <td>False</td>\n      <td>...</td>\n      <td>False</td>\n      <td>False</td>\n      <td>False</td>\n      <td>False</td>\n      <td>False</td>\n      <td>False</td>\n      <td>False</td>\n      <td>False</td>\n      <td>False</td>\n      <td>False</td>\n    </tr>\n    <tr>\n      <th>1</th>\n      <td>True</td>\n      <td>False</td>\n      <td>False</td>\n      <td>False</td>\n      <td>False</td>\n      <td>False</td>\n      <td>False</td>\n      <td>False</td>\n      <td>False</td>\n      <td>False</td>\n      <td>...</td>\n      <td>False</td>\n      <td>False</td>\n      <td>False</td>\n      <td>False</td>\n      <td>False</td>\n      <td>False</td>\n      <td>False</td>\n      <td>False</td>\n      <td>False</td>\n      <td>False</td>\n    </tr>\n    <tr>\n      <th>2</th>\n      <td>True</td>\n      <td>False</td>\n      <td>False</td>\n      <td>False</td>\n      <td>False</td>\n      <td>False</td>\n      <td>False</td>\n      <td>False</td>\n      <td>False</td>\n      <td>False</td>\n      <td>...</td>\n      <td>False</td>\n      <td>False</td>\n      <td>False</td>\n      <td>False</td>\n      <td>False</td>\n      <td>False</td>\n      <td>False</td>\n      <td>False</td>\n      <td>False</td>\n      <td>False</td>\n    </tr>\n    <tr>\n      <th>3</th>\n      <td>True</td>\n      <td>False</td>\n      <td>False</td>\n      <td>False</td>\n      <td>False</td>\n      <td>False</td>\n      <td>False</td>\n      <td>False</td>\n      <td>False</td>\n      <td>False</td>\n      <td>...</td>\n      <td>False</td>\n      <td>False</td>\n      <td>False</td>\n      <td>False</td>\n      <td>False</td>\n      <td>False</td>\n      <td>False</td>\n      <td>False</td>\n      <td>False</td>\n      <td>False</td>\n    </tr>\n    <tr>\n      <th>4</th>\n      <td>False</td>\n      <td>False</td>\n      <td>True</td>\n      <td>False</td>\n      <td>False</td>\n      <td>False</td>\n      <td>False</td>\n      <td>False</td>\n      <td>False</td>\n      <td>False</td>\n      <td>...</td>\n      <td>False</td>\n      <td>False</td>\n      <td>False</td>\n      <td>False</td>\n      <td>False</td>\n      <td>False</td>\n      <td>False</td>\n      <td>False</td>\n      <td>False</td>\n      <td>False</td>\n    </tr>\n    <tr>\n      <th>...</th>\n      <td>...</td>\n      <td>...</td>\n      <td>...</td>\n      <td>...</td>\n      <td>...</td>\n      <td>...</td>\n      <td>...</td>\n      <td>...</td>\n      <td>...</td>\n      <td>...</td>\n      <td>...</td>\n      <td>...</td>\n      <td>...</td>\n      <td>...</td>\n      <td>...</td>\n      <td>...</td>\n      <td>...</td>\n      <td>...</td>\n      <td>...</td>\n      <td>...</td>\n      <td>...</td>\n    </tr>\n    <tr>\n      <th>143013</th>\n      <td>True</td>\n      <td>False</td>\n      <td>False</td>\n      <td>False</td>\n      <td>False</td>\n      <td>False</td>\n      <td>False</td>\n      <td>False</td>\n      <td>False</td>\n      <td>False</td>\n      <td>...</td>\n      <td>False</td>\n      <td>False</td>\n      <td>False</td>\n      <td>False</td>\n      <td>False</td>\n      <td>False</td>\n      <td>False</td>\n      <td>False</td>\n      <td>False</td>\n      <td>False</td>\n    </tr>\n    <tr>\n      <th>143014</th>\n      <td>True</td>\n      <td>False</td>\n      <td>False</td>\n      <td>False</td>\n      <td>False</td>\n      <td>False</td>\n      <td>False</td>\n      <td>False</td>\n      <td>False</td>\n      <td>False</td>\n      <td>...</td>\n      <td>False</td>\n      <td>False</td>\n      <td>False</td>\n      <td>False</td>\n      <td>False</td>\n      <td>False</td>\n      <td>False</td>\n      <td>False</td>\n      <td>False</td>\n      <td>False</td>\n    </tr>\n    <tr>\n      <th>143015</th>\n      <td>True</td>\n      <td>False</td>\n      <td>False</td>\n      <td>False</td>\n      <td>False</td>\n      <td>False</td>\n      <td>False</td>\n      <td>False</td>\n      <td>False</td>\n      <td>False</td>\n      <td>...</td>\n      <td>False</td>\n      <td>False</td>\n      <td>False</td>\n      <td>False</td>\n      <td>False</td>\n      <td>False</td>\n      <td>False</td>\n      <td>False</td>\n      <td>False</td>\n      <td>False</td>\n    </tr>\n    <tr>\n      <th>143016</th>\n      <td>True</td>\n      <td>False</td>\n      <td>False</td>\n      <td>False</td>\n      <td>False</td>\n      <td>False</td>\n      <td>False</td>\n      <td>False</td>\n      <td>False</td>\n      <td>False</td>\n      <td>...</td>\n      <td>False</td>\n      <td>False</td>\n      <td>False</td>\n      <td>False</td>\n      <td>False</td>\n      <td>False</td>\n      <td>False</td>\n      <td>False</td>\n      <td>False</td>\n      <td>False</td>\n    </tr>\n    <tr>\n      <th>143017</th>\n      <td>False</td>\n      <td>False</td>\n      <td>True</td>\n      <td>False</td>\n      <td>False</td>\n      <td>False</td>\n      <td>False</td>\n      <td>False</td>\n      <td>False</td>\n      <td>False</td>\n      <td>...</td>\n      <td>False</td>\n      <td>False</td>\n      <td>False</td>\n      <td>False</td>\n      <td>False</td>\n      <td>False</td>\n      <td>False</td>\n      <td>False</td>\n      <td>False</td>\n      <td>False</td>\n    </tr>\n  </tbody>\n</table>\n<p>143018 rows × 22 columns</p>\n</div>"
     },
     "execution_count": 59,
     "metadata": {},
     "output_type": "execute_result"
    }
   ],
   "source": [
    "# 独热编码 k 列\n",
    "targets_onehot = pd.get_dummies(dataset_copy['delinq_2yrs'], prefix='delinq')\n",
    "targets_onehot"
   ],
   "metadata": {
    "collapsed": false,
    "pycharm": {
     "name": "#%%\n"
    }
   }
  },
  {
   "cell_type": "code",
   "execution_count": 60,
   "outputs": [
    {
     "data": {
      "text/plain": "        delinq_1  delinq_2  delinq_3  delinq_4  delinq_5  delinq_6  delinq_7   \n0           True     False     False     False     False     False     False  \\\n1          False     False     False     False     False     False     False   \n2          False     False     False     False     False     False     False   \n3          False     False     False     False     False     False     False   \n4          False      True     False     False     False     False     False   \n...          ...       ...       ...       ...       ...       ...       ...   \n143013     False     False     False     False     False     False     False   \n143014     False     False     False     False     False     False     False   \n143015     False     False     False     False     False     False     False   \n143016     False     False     False     False     False     False     False   \n143017     False      True     False     False     False     False     False   \n\n        delinq_8  delinq_9  delinq_10  ...  delinq_12  delinq_13  delinq_14   \n0          False     False      False  ...      False      False      False  \\\n1          False     False      False  ...      False      False      False   \n2          False     False      False  ...      False      False      False   \n3          False     False      False  ...      False      False      False   \n4          False     False      False  ...      False      False      False   \n...          ...       ...        ...  ...        ...        ...        ...   \n143013     False     False      False  ...      False      False      False   \n143014     False     False      False  ...      False      False      False   \n143015     False     False      False  ...      False      False      False   \n143016     False     False      False  ...      False      False      False   \n143017     False     False      False  ...      False      False      False   \n\n        delinq_15  delinq_16  delinq_17  delinq_19  delinq_21  delinq_22   \n0           False      False      False      False      False      False  \\\n1           False      False      False      False      False      False   \n2           False      False      False      False      False      False   \n3           False      False      False      False      False      False   \n4           False      False      False      False      False      False   \n...           ...        ...        ...        ...        ...        ...   \n143013      False      False      False      False      False      False   \n143014      False      False      False      False      False      False   \n143015      False      False      False      False      False      False   \n143016      False      False      False      False      False      False   \n143017      False      False      False      False      False      False   \n\n        delinq_26  \n0           False  \n1           False  \n2           False  \n3           False  \n4           False  \n...           ...  \n143013      False  \n143014      False  \n143015      False  \n143016      False  \n143017      False  \n\n[143018 rows x 21 columns]",
      "text/html": "<div>\n<style scoped>\n    .dataframe tbody tr th:only-of-type {\n        vertical-align: middle;\n    }\n\n    .dataframe tbody tr th {\n        vertical-align: top;\n    }\n\n    .dataframe thead th {\n        text-align: right;\n    }\n</style>\n<table border=\"1\" class=\"dataframe\">\n  <thead>\n    <tr style=\"text-align: right;\">\n      <th></th>\n      <th>delinq_1</th>\n      <th>delinq_2</th>\n      <th>delinq_3</th>\n      <th>delinq_4</th>\n      <th>delinq_5</th>\n      <th>delinq_6</th>\n      <th>delinq_7</th>\n      <th>delinq_8</th>\n      <th>delinq_9</th>\n      <th>delinq_10</th>\n      <th>...</th>\n      <th>delinq_12</th>\n      <th>delinq_13</th>\n      <th>delinq_14</th>\n      <th>delinq_15</th>\n      <th>delinq_16</th>\n      <th>delinq_17</th>\n      <th>delinq_19</th>\n      <th>delinq_21</th>\n      <th>delinq_22</th>\n      <th>delinq_26</th>\n    </tr>\n  </thead>\n  <tbody>\n    <tr>\n      <th>0</th>\n      <td>True</td>\n      <td>False</td>\n      <td>False</td>\n      <td>False</td>\n      <td>False</td>\n      <td>False</td>\n      <td>False</td>\n      <td>False</td>\n      <td>False</td>\n      <td>False</td>\n      <td>...</td>\n      <td>False</td>\n      <td>False</td>\n      <td>False</td>\n      <td>False</td>\n      <td>False</td>\n      <td>False</td>\n      <td>False</td>\n      <td>False</td>\n      <td>False</td>\n      <td>False</td>\n    </tr>\n    <tr>\n      <th>1</th>\n      <td>False</td>\n      <td>False</td>\n      <td>False</td>\n      <td>False</td>\n      <td>False</td>\n      <td>False</td>\n      <td>False</td>\n      <td>False</td>\n      <td>False</td>\n      <td>False</td>\n      <td>...</td>\n      <td>False</td>\n      <td>False</td>\n      <td>False</td>\n      <td>False</td>\n      <td>False</td>\n      <td>False</td>\n      <td>False</td>\n      <td>False</td>\n      <td>False</td>\n      <td>False</td>\n    </tr>\n    <tr>\n      <th>2</th>\n      <td>False</td>\n      <td>False</td>\n      <td>False</td>\n      <td>False</td>\n      <td>False</td>\n      <td>False</td>\n      <td>False</td>\n      <td>False</td>\n      <td>False</td>\n      <td>False</td>\n      <td>...</td>\n      <td>False</td>\n      <td>False</td>\n      <td>False</td>\n      <td>False</td>\n      <td>False</td>\n      <td>False</td>\n      <td>False</td>\n      <td>False</td>\n      <td>False</td>\n      <td>False</td>\n    </tr>\n    <tr>\n      <th>3</th>\n      <td>False</td>\n      <td>False</td>\n      <td>False</td>\n      <td>False</td>\n      <td>False</td>\n      <td>False</td>\n      <td>False</td>\n      <td>False</td>\n      <td>False</td>\n      <td>False</td>\n      <td>...</td>\n      <td>False</td>\n      <td>False</td>\n      <td>False</td>\n      <td>False</td>\n      <td>False</td>\n      <td>False</td>\n      <td>False</td>\n      <td>False</td>\n      <td>False</td>\n      <td>False</td>\n    </tr>\n    <tr>\n      <th>4</th>\n      <td>False</td>\n      <td>True</td>\n      <td>False</td>\n      <td>False</td>\n      <td>False</td>\n      <td>False</td>\n      <td>False</td>\n      <td>False</td>\n      <td>False</td>\n      <td>False</td>\n      <td>...</td>\n      <td>False</td>\n      <td>False</td>\n      <td>False</td>\n      <td>False</td>\n      <td>False</td>\n      <td>False</td>\n      <td>False</td>\n      <td>False</td>\n      <td>False</td>\n      <td>False</td>\n    </tr>\n    <tr>\n      <th>...</th>\n      <td>...</td>\n      <td>...</td>\n      <td>...</td>\n      <td>...</td>\n      <td>...</td>\n      <td>...</td>\n      <td>...</td>\n      <td>...</td>\n      <td>...</td>\n      <td>...</td>\n      <td>...</td>\n      <td>...</td>\n      <td>...</td>\n      <td>...</td>\n      <td>...</td>\n      <td>...</td>\n      <td>...</td>\n      <td>...</td>\n      <td>...</td>\n      <td>...</td>\n      <td>...</td>\n    </tr>\n    <tr>\n      <th>143013</th>\n      <td>False</td>\n      <td>False</td>\n      <td>False</td>\n      <td>False</td>\n      <td>False</td>\n      <td>False</td>\n      <td>False</td>\n      <td>False</td>\n      <td>False</td>\n      <td>False</td>\n      <td>...</td>\n      <td>False</td>\n      <td>False</td>\n      <td>False</td>\n      <td>False</td>\n      <td>False</td>\n      <td>False</td>\n      <td>False</td>\n      <td>False</td>\n      <td>False</td>\n      <td>False</td>\n    </tr>\n    <tr>\n      <th>143014</th>\n      <td>False</td>\n      <td>False</td>\n      <td>False</td>\n      <td>False</td>\n      <td>False</td>\n      <td>False</td>\n      <td>False</td>\n      <td>False</td>\n      <td>False</td>\n      <td>False</td>\n      <td>...</td>\n      <td>False</td>\n      <td>False</td>\n      <td>False</td>\n      <td>False</td>\n      <td>False</td>\n      <td>False</td>\n      <td>False</td>\n      <td>False</td>\n      <td>False</td>\n      <td>False</td>\n    </tr>\n    <tr>\n      <th>143015</th>\n      <td>False</td>\n      <td>False</td>\n      <td>False</td>\n      <td>False</td>\n      <td>False</td>\n      <td>False</td>\n      <td>False</td>\n      <td>False</td>\n      <td>False</td>\n      <td>False</td>\n      <td>...</td>\n      <td>False</td>\n      <td>False</td>\n      <td>False</td>\n      <td>False</td>\n      <td>False</td>\n      <td>False</td>\n      <td>False</td>\n      <td>False</td>\n      <td>False</td>\n      <td>False</td>\n    </tr>\n    <tr>\n      <th>143016</th>\n      <td>False</td>\n      <td>False</td>\n      <td>False</td>\n      <td>False</td>\n      <td>False</td>\n      <td>False</td>\n      <td>False</td>\n      <td>False</td>\n      <td>False</td>\n      <td>False</td>\n      <td>...</td>\n      <td>False</td>\n      <td>False</td>\n      <td>False</td>\n      <td>False</td>\n      <td>False</td>\n      <td>False</td>\n      <td>False</td>\n      <td>False</td>\n      <td>False</td>\n      <td>False</td>\n    </tr>\n    <tr>\n      <th>143017</th>\n      <td>False</td>\n      <td>True</td>\n      <td>False</td>\n      <td>False</td>\n      <td>False</td>\n      <td>False</td>\n      <td>False</td>\n      <td>False</td>\n      <td>False</td>\n      <td>False</td>\n      <td>...</td>\n      <td>False</td>\n      <td>False</td>\n      <td>False</td>\n      <td>False</td>\n      <td>False</td>\n      <td>False</td>\n      <td>False</td>\n      <td>False</td>\n      <td>False</td>\n      <td>False</td>\n    </tr>\n  </tbody>\n</table>\n<p>143018 rows × 21 columns</p>\n</div>"
     },
     "execution_count": 60,
     "metadata": {},
     "output_type": "execute_result"
    }
   ],
   "source": [
    "# 哑变量 k-1 列\n",
    "targets_dummy = pd.get_dummies(dataset_copy['delinq_2yrs'], prefix='delinq',drop_first =True)\n",
    "targets_dummy"
   ],
   "metadata": {
    "collapsed": false,
    "pycharm": {
     "name": "#%%\n"
    }
   }
  },
  {
   "cell_type": "markdown",
   "source": [
    "# 数据保存\n",
    "使用原生方法或者 pandas 方法"
   ],
   "metadata": {
    "collapsed": false,
    "pycharm": {
     "name": "#%% md\n"
    }
   }
  },
  {
   "cell_type": "code",
   "execution_count": 61,
   "outputs": [
    {
     "name": "stdout",
     "output_type": "stream",
     "text": [
      "id,loan_amnt,funded_amnt,funded_amnt_inv,term,int_rate,installment,grade,sub_grade,emp_title,emp_length,home_ownership,annual_inc,verification_status,issue_d,loan_status,pymnt_plan,url,purpose,title,zip_code,addr_state,dti,delinq_2yrs,earliest_cr_line,fico_range_low,fico_range_high,inq_last_6mths,open_acc,pub_rec,revol_bal,revol_util,total_acc,initial_list_status,out_prncp,out_prncp_inv,total_pymnt,total_pymnt_inv,total_rec_prncp,total_rec_int,total_rec_late_fee,recoveries,collection_recovery_fee,last_pymnt_d,last_pymnt_amnt,next_pymnt_d,last_credit_pull_d,last_fico_range_high,last_fico_range_low,collections_12_mths_ex_med,policy_code,application_type,acc_now_delinq,tot_coll_amt,tot_cur_bal,open_acc_6m,open_act_il,open_il_12m,open_il_24m,mths_since_rcnt_il,total_bal_il,il_util,open_rv_12m,open_rv_24m,max_bal_bc,all_util,total_rev_hi_lim,inq_fi,total_cu_tl,inq_last_12m,acc_open_past_24mths,avg_cur_bal,bc_open_to_buy,bc_util,chargeoff_within_12_mths,delinq_amnt,mo_sin_old_il_acct,mo_sin_old_rev_tl_op,mo_sin_rcnt_rev_tl_op,mo_sin_rcnt_tl,mort_acc,mths_since_recent_bc,mths_since_recent_inq,num_accts_ever_120_pd,num_actv_bc_tl,num_actv_rev_tl,num_bc_sats,num_bc_tl,num_il_tl,num_op_rev_tl,num_rev_accts,num_rev_tl_bal_gt_0,num_sats,num_tl_120dpd_2m,num_tl_30dpd,num_tl_90g_dpd_24m,num_tl_op_past_12m,pct_tl_nvr_dlq,percent_bc_gt_75,pub_rec_bankruptcies,tax_liens,tot_hi_cred_lim,total_bal_ex_mort,total_bc_limit,total_il_high_credit_limit,hardship_flag,debt_settlement_flag\n",
      "158303403,-0.4235215443721572,0.282051282051282,12000, 36 months,8.19%,377.09,A,A4,Teacher,10+ years,2.0,84000.0,Source Verified,19-Sep,Current,n,https://lendingclub.com/browse/loanDetail.action?loan_id=158303403,debt_consolidation,Debt consolidation,937xx,CA,10.86,1,Jan-96,0.68,684,0,5,0,22489,71.60%,15,w,11713.0,11713.0,371.63,371.63,287.0,84.63,0.0,0.0,0,19-Nov,377.09,19-Dec,19-Nov,699,695,0,1,Individual,0,0,51361,0,1,0,0,35.0,28872,69.15476942514213,0,0,5724,72.0,31400,0,3,0,0,10272.0,8440.0,48.5,0,0,171.0,284,44,35,0,44.0,22.0,0,2,3,3,4,10,4,5,3,5,0.0,0,0,0,93.3,33.3,0,0,77713,51361,16400,46313,N,N\n",
      "158628181,0.34959412852555244,0.4871794871794871,20000, 36 months,8.81%,634.23,A,A5,Remodel expert,3 years,2.0,44000.0,Not Verified,19-Sep,Current,n,https://lendingclub.com/browse/loanDetail.action?loan_id=158628181,debt_consolidation,Debt consolidation,891xx,NV,13.72,0,6-Feb,0.745,749,0,6,0,5435,21.80%,12,w,18947.67,18947.67,1258.67,1258.67,1052.33,206.34,0.0,0.0,0,19-Nov,634.23,19-Dec,19-Nov,764,760,0,1,Individual,0,0,11722,0,1,0,1,16.0,6287,63.0,2,2,2042,34.0,24900,1,0,0,3,1954.0,15077.0,20.2,0,0,163.0,161,7,7,0,7.0,16.0,0,3,4,3,4,5,5,7,4,6,0.0,0,0,2,100.0,0.0,0,0,34900,11722,18900,10000,N,N\n",
      "159231951,0.156315210301125,0.43589743589743585,18000, 60 months,13.08%,410.3,B,B5,Operations Supervisor,3 years,2.0,50000.0,Source Verified,19-Sep,Current,n,https://lendingclub.com/browse/loanDetail.action?loan_id=159231951,debt_consolidation,Debt consolidation,750xx,TX,14.47,0,10-Sep,0.66,664,0,13,0,13973,85.70%,13,w,17785.9,17785.9,397.22,397.22,214.1,183.12,0.0,0.0,0,19-Oct,410.3,19-Dec,19-Nov,684,680,0,1,Individual,0,0,43223,1,9,0,0,48.0,29250,95.0,2,2,10372,92.0,16300,0,0,2,2,3325.0,2052.0,86.3,0,0,108.0,40,1,1,0,1.0,8.0,0,3,4,3,3,9,4,4,4,13,0.0,0,0,2,100.0,33.3,0,0,47197,43223,15000,30897,N,N\n"
     ]
    }
   ],
   "source": [
    "columns = list(dataset_copy.columns)\n",
    "with open(\"./output/finish.csv\",\"w\") as fw:\n",
    "    columns_write = \"\"\n",
    "        ## 写入列名\n",
    "    for column in columns:\n",
    "        columns_write = columns_write+\",\"+column\n",
    "    columns_write = columns_write[1:]\n",
    "    print(columns_write)\n",
    "    fw.write(columns_write+\"\\n\")\n",
    "    ## 写入内容\n",
    "    for i in range(0,len(dataset_copy['loan_amnt'])):\n",
    "        str_write = \"\"\n",
    "        for column in columns:\n",
    "            str_write = str_write+\",\"+str(dataset_copy[column][i])\n",
    "        str_write = str_write[1:]\n",
    "        ## 输出查看\n",
    "        if i<3:\n",
    "            print(str_write)\n",
    "        fw.write(str_write+\"\\n\")"
   ],
   "metadata": {
    "collapsed": false,
    "pycharm": {
     "name": "#%%\n"
    }
   }
  },
  {
   "cell_type": "code",
   "execution_count": 62,
   "outputs": [],
   "source": [
    "dataset_copy.to_csv(\"./output/finish2.csv\",index = False)"
   ],
   "metadata": {
    "collapsed": false,
    "pycharm": {
     "name": "#%%\n"
    }
   }
  }
 ],
 "metadata": {
  "kernelspec": {
   "display_name": "Python 3",
   "language": "python",
   "name": "python3"
  },
  "language_info": {
   "codemirror_mode": {
    "name": "ipython",
    "version": 2
   },
   "file_extension": ".py",
   "mimetype": "text/x-python",
   "name": "python",
   "nbconvert_exporter": "python",
   "pygments_lexer": "ipython2",
   "version": "2.7.6"
  }
 },
 "nbformat": 4,
 "nbformat_minor": 0
}