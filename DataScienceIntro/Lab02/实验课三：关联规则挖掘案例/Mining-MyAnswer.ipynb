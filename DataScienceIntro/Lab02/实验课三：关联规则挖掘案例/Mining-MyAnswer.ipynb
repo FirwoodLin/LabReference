{
 "cells": [
  {
   "cell_type": "code",
   "execution_count": 62,
   "metadata": {
    "collapsed": true,
    "pycharm": {
     "name": "#%%\n"
    }
   },
   "outputs": [],
   "source": [
    "import pandas as pd\n",
    "from mlxtend.frequent_patterns import apriori\n",
    "from mlxtend.frequent_patterns import association_rules"
   ]
  },
  {
   "cell_type": "markdown",
   "source": [
    "# 读取数据"
   ],
   "metadata": {
    "collapsed": false,
    "pycharm": {
     "name": "#%% md\n"
    }
   }
  },
  {
   "cell_type": "code",
   "execution_count": 63,
   "outputs": [
    {
     "data": {
      "text/plain": "'虾,杏仁,鳄梨,混合蔬菜,绿葡萄,全麦面粉,山药,农家干酪,功能饮料,番茄汁,低脂酸奶,绿茶,蜂蜜,沙拉,矿泉水,三文鱼,抗氧化剂果汁,冷冻果汁,菠菜,橄榄油\\n'"
     },
     "execution_count": 63,
     "metadata": {},
     "output_type": "execute_result"
    }
   ],
   "source": [
    "# 打开文件\n",
    "origin_data = open(\"./input/data.txt\", \"r\", encoding='utf-8')\n",
    "# 读取一行数据\n",
    "line = origin_data.readline()\n",
    "line"
   ],
   "metadata": {
    "collapsed": false,
    "pycharm": {
     "name": "#%%\n"
    }
   }
  },
  {
   "cell_type": "markdown",
   "source": [
    "# 数据处理"
   ],
   "metadata": {
    "collapsed": false,
    "pycharm": {
     "name": "#%% md\n"
    }
   }
  },
  {
   "cell_type": "code",
   "execution_count": 64,
   "outputs": [],
   "source": [
    "# 创建空列表\n",
    "title_list = []\n",
    "# 迭代所有行，直到把文件所有行读完\n",
    "while line:\n",
    "    # 去掉换行符\n",
    "    line = line.strip()\n",
    "    # 把一行数据按照“，”隔开为一个个商品名\n",
    "    product_items = line.split(',')\n",
    "    # 将这些商品名都加入到列表中\n",
    "    for item in product_items:\n",
    "        title_list.append(item)\n",
    "    # 读取下一行，继续迭代\n",
    "    line = origin_data.readline()"
   ],
   "metadata": {
    "collapsed": false,
    "pycharm": {
     "name": "#%%\n"
    }
   }
  },
  {
   "cell_type": "code",
   "execution_count": 65,
   "outputs": [
    {
     "data": {
      "text/plain": "{'三文鱼',\n '三明治',\n '亚麻籽',\n '低脂蛋黄酱',\n '低脂酸奶',\n '全麦大米',\n '全麦意大利面',\n '全麦面粉',\n '农家干酪',\n '冷冻果汁',\n '冷冻蔬菜',\n '功能饮料',\n '口香糖',\n '喷水器',\n '土豆泥',\n '培根',\n '大米',\n '奶油',\n '奶酪粉',\n '婴儿食品',\n '宠物食品',\n '山药',\n '巧克力',\n '巧克力方块蛋糕',\n '巧克力面包',\n '帕尔马干酪',\n '意大利细面条',\n '意大利面',\n '抗氧化剂果汁',\n '新鲜面包',\n '无麸质面包',\n '杀虫剂',\n '杂志',\n '杏仁',\n '松饼',\n '橄榄油',\n '气泡水',\n '汉堡',\n '汉堡酱',\n '汤',\n '沙拉',\n '油',\n '法国红酒',\n '洗发水',\n '浓奶酪',\n '淡奶油',\n '混合蔬菜',\n '火腿',\n '火鸡',\n '炸薯条',\n '烧烤酱',\n '热狗',\n '煎饼',\n '燕麦片',\n '牙膏',\n '牛奶',\n '玉米',\n '甜点酒',\n '甜瓜',\n '番茄汁',\n '番茄酱',\n '白奶酪',\n '白葡萄酒',\n '盐',\n '矿泉水',\n '碎牛肉',\n '糖果棒',\n '红茶',\n '红酒',\n '绿茶',\n '绿葡萄',\n '绿豆',\n '肉丸',\n '胡椒粉',\n '胡萝卜',\n '能量条',\n '脱脂牛奶',\n '腌菜',\n '芦笋',\n '花椰菜',\n '苏打水',\n '苹果酒',\n '茄子',\n '茶',\n '草莓',\n '菠菜',\n '蓝莓',\n '薄肉片',\n '薄荷糖',\n '薄荷绿茶',\n '蘑菇奶油酱',\n '虾',\n '蛋白质米条',\n '蛋糕',\n '蛋黄酱',\n '蜂蜜',\n '衣服配件',\n '西红柿',\n '西葫芦',\n '谷物',\n '身体喷雾',\n '辣椒',\n '酸奶蛋糕',\n '酸辣酱',\n '金枪鱼',\n '青葱',\n '食用油',\n '餐巾纸',\n '饼干',\n '香槟',\n '鳄梨',\n '鸡肉',\n '鸡蛋',\n '黄油',\n '黑巧克力',\n '黑莓'}"
     },
     "execution_count": 65,
     "metadata": {},
     "output_type": "execute_result"
    }
   ],
   "source": [
    "# 使用set数据结构去重\n",
    "title_list = set(title_list)\n",
    "# 打印商品列表\n",
    "title_list"
   ],
   "metadata": {
    "collapsed": false,
    "pycharm": {
     "name": "#%%\n"
    }
   }
  },
  {
   "cell_type": "code",
   "execution_count": 66,
   "outputs": [
    {
     "name": "stdout",
     "output_type": "stream",
     "text": [
      "共有 116 种商品\n"
     ]
    }
   ],
   "source": [
    "# 查看列表长度，即为数据集的列数。\n",
    "print(\"共有\", len(title_list) ,\"种商品\")"
   ],
   "metadata": {
    "collapsed": false,
    "pycharm": {
     "name": "#%%\n"
    }
   }
  },
  {
   "cell_type": "code",
   "execution_count": 67,
   "outputs": [],
   "source": [
    "# 关闭文件\n",
    "origin_data.close()"
   ],
   "metadata": {
    "collapsed": false,
    "pycharm": {
     "name": "#%%\n"
    }
   }
  },
  {
   "cell_type": "markdown",
   "source": [
    "## 数据转换"
   ],
   "metadata": {
    "collapsed": false,
    "pycharm": {
     "name": "#%% md\n"
    }
   }
  },
  {
   "cell_type": "code",
   "execution_count": 68,
   "outputs": [
    {
     "name": "stdout",
     "output_type": "stream",
     "text": [
      "初始形状 (0, 116)\n"
     ]
    },
    {
     "data": {
      "text/plain": "Empty DataFrame\nColumns: [苹果酒, 草莓, 沙拉, 奶酪粉, 鸡肉, 牙膏, 番茄酱, 食用油, 红酒, 西红柿, 黑巧克力, 奶油, 肉丸, 培根, 腌菜, 花椰菜, 薄荷糖, 冷冻果汁, 抗氧化剂果汁, 酸奶蛋糕, 全麦大米, 蓝莓, 火腿, 牛奶, 农家干酪, 蛋糕, 甜点酒, 糖果棒, 巧克力方块蛋糕, 蜂蜜, 燕麦片, 混合蔬菜, 白葡萄酒, 谷物, 喷水器, 煎饼, 新鲜面包, 苏打水, 淡奶油, 蛋白质米条, 蘑菇奶油酱, 能量条, 芦笋, 菠菜, 薄肉片, 甜瓜, 黑莓, 鳄梨, 绿葡萄, 饼干, 酸辣酱, 橄榄油, 汤, 汉堡, 气泡水, 油, 三明治, 蛋黄酱, 全麦面粉, 绿茶, 衣服配件, 玉米, 低脂蛋黄酱, 山药, 胡萝卜, 亚麻籽, 杀虫剂, 金枪鱼, 矿泉水, 汉堡酱, 杏仁, 脱脂牛奶, 西葫芦, 低脂酸奶, 宠物食品, 三文鱼, 杂志, 巧克力, 帕尔马干酪, 热狗, 意大利细面条, 香槟, 烧烤酱, 土豆泥, 绿豆, 辣椒, 功能饮料, 胡椒粉, 虾, 鸡蛋, 青葱, 茄子, 浓奶酪, 口香糖, 巧克力面包, 炸薯条, 盐, 红茶, 火鸡, 冷冻蔬菜, ...]\nIndex: []\n\n[0 rows x 116 columns]",
      "text/html": "<div>\n<style scoped>\n    .dataframe tbody tr th:only-of-type {\n        vertical-align: middle;\n    }\n\n    .dataframe tbody tr th {\n        vertical-align: top;\n    }\n\n    .dataframe thead th {\n        text-align: right;\n    }\n</style>\n<table border=\"1\" class=\"dataframe\">\n  <thead>\n    <tr style=\"text-align: right;\">\n      <th></th>\n      <th>苹果酒</th>\n      <th>草莓</th>\n      <th>沙拉</th>\n      <th>奶酪粉</th>\n      <th>鸡肉</th>\n      <th>牙膏</th>\n      <th>番茄酱</th>\n      <th>食用油</th>\n      <th>红酒</th>\n      <th>西红柿</th>\n      <th>...</th>\n      <th>碎牛肉</th>\n      <th>松饼</th>\n      <th>身体喷雾</th>\n      <th>法国红酒</th>\n      <th>无麸质面包</th>\n      <th>番茄汁</th>\n      <th>意大利面</th>\n      <th>白奶酪</th>\n      <th>洗发水</th>\n      <th>大米</th>\n    </tr>\n  </thead>\n  <tbody>\n  </tbody>\n</table>\n<p>0 rows × 116 columns</p>\n</div>"
     },
     "execution_count": 68,
     "metadata": {},
     "output_type": "execute_result"
    }
   ],
   "source": [
    "# 存放处理后的数据集\n",
    "changed_data = pd.DataFrame(columns=list(title_list))\n",
    "print(\"初始形状\",changed_data.shape)\n",
    "changed_data"
   ],
   "metadata": {
    "collapsed": false,
    "pycharm": {
     "name": "#%%\n"
    }
   }
  },
  {
   "cell_type": "code",
   "execution_count": 69,
   "outputs": [],
   "source": [
    "# 打开文件\n",
    "origin_data = open(\"./input/data.txt\", \"r\", encoding='utf-8')"
   ],
   "metadata": {
    "collapsed": false,
    "pycharm": {
     "name": "#%%\n"
    }
   }
  },
  {
   "cell_type": "code",
   "execution_count": 70,
   "outputs": [],
   "source": [
    "# 读取一行数据\n",
    "line = origin_data.readline()\n",
    "# flag =0\n",
    "# 迭代所有行，直到把文件所有行读完\n",
    "while line:\n",
    "    # 去掉换行符\n",
    "    line = line.strip()\n",
    "    customer = {}\n",
    "    # 把一行数据根据“，”隔开为一个个商品名\n",
    "    product_items = line.split(',')\n",
    "    # 逐个查看是否购买商品\n",
    "    for item in title_list:\n",
    "        if item in product_items:\n",
    "            customer[item] = 1\n",
    "        else:\n",
    "            customer[item] = 0\n",
    "    # print(customer)\n",
    "    # 添加行\n",
    "    # changed_data = pd.concat([changed_data, pd.DataFrame.from_dict( customer,orient='index')],ignore_index=False)\n",
    "    changed_data = pd.concat([changed_data, pd.DataFrame(customer, index=[0])], axis=0, ignore_index=True)\n",
    "    # 读取下一行\n",
    "    line = origin_data.readline()\n",
    "    # 终止循环\n",
    "    # flag +=1\n",
    "    # if flag >=10:\n",
    "    #     break"
   ],
   "metadata": {
    "collapsed": false,
    "pycharm": {
     "name": "#%%\n"
    }
   }
  },
  {
   "cell_type": "code",
   "execution_count": 71,
   "outputs": [
    {
     "name": "stdout",
     "output_type": "stream",
     "text": [
      "结束形状 (7501, 116)\n"
     ]
    },
    {
     "data": {
      "text/plain": "  苹果酒 草莓 沙拉 奶酪粉 鸡肉 牙膏 番茄酱 食用油 红酒 西红柿  ... 碎牛肉 松饼 身体喷雾 法国红酒 无麸质面包 番茄汁 意大利面 白奶酪   \n0   0  0  1   0  0  0   0   0  0   0  ...   0  0    0    0     0   1    0   0  \\\n1   0  0  0   0  0  0   0   0  0   0  ...   0  0    0    0     0   0    0   0   \n2   0  0  0   0  0  0   0   0  0   0  ...   0  0    0    0     0   0    0   0   \n3   0  0  0   0  0  0   0   0  0   0  ...   0  0    0    0     0   0    0   0   \n4   0  0  0   0  0  0   0   0  0   0  ...   0  0    0    0     0   0    0   0   \n\n  洗发水 大米  \n0   0  0  \n1   0  0  \n2   0  0  \n3   0  0  \n4   0  0  \n\n[5 rows x 116 columns]",
      "text/html": "<div>\n<style scoped>\n    .dataframe tbody tr th:only-of-type {\n        vertical-align: middle;\n    }\n\n    .dataframe tbody tr th {\n        vertical-align: top;\n    }\n\n    .dataframe thead th {\n        text-align: right;\n    }\n</style>\n<table border=\"1\" class=\"dataframe\">\n  <thead>\n    <tr style=\"text-align: right;\">\n      <th></th>\n      <th>苹果酒</th>\n      <th>草莓</th>\n      <th>沙拉</th>\n      <th>奶酪粉</th>\n      <th>鸡肉</th>\n      <th>牙膏</th>\n      <th>番茄酱</th>\n      <th>食用油</th>\n      <th>红酒</th>\n      <th>西红柿</th>\n      <th>...</th>\n      <th>碎牛肉</th>\n      <th>松饼</th>\n      <th>身体喷雾</th>\n      <th>法国红酒</th>\n      <th>无麸质面包</th>\n      <th>番茄汁</th>\n      <th>意大利面</th>\n      <th>白奶酪</th>\n      <th>洗发水</th>\n      <th>大米</th>\n    </tr>\n  </thead>\n  <tbody>\n    <tr>\n      <th>0</th>\n      <td>0</td>\n      <td>0</td>\n      <td>1</td>\n      <td>0</td>\n      <td>0</td>\n      <td>0</td>\n      <td>0</td>\n      <td>0</td>\n      <td>0</td>\n      <td>0</td>\n      <td>...</td>\n      <td>0</td>\n      <td>0</td>\n      <td>0</td>\n      <td>0</td>\n      <td>0</td>\n      <td>1</td>\n      <td>0</td>\n      <td>0</td>\n      <td>0</td>\n      <td>0</td>\n    </tr>\n    <tr>\n      <th>1</th>\n      <td>0</td>\n      <td>0</td>\n      <td>0</td>\n      <td>0</td>\n      <td>0</td>\n      <td>0</td>\n      <td>0</td>\n      <td>0</td>\n      <td>0</td>\n      <td>0</td>\n      <td>...</td>\n      <td>0</td>\n      <td>0</td>\n      <td>0</td>\n      <td>0</td>\n      <td>0</td>\n      <td>0</td>\n      <td>0</td>\n      <td>0</td>\n      <td>0</td>\n      <td>0</td>\n    </tr>\n    <tr>\n      <th>2</th>\n      <td>0</td>\n      <td>0</td>\n      <td>0</td>\n      <td>0</td>\n      <td>0</td>\n      <td>0</td>\n      <td>0</td>\n      <td>0</td>\n      <td>0</td>\n      <td>0</td>\n      <td>...</td>\n      <td>0</td>\n      <td>0</td>\n      <td>0</td>\n      <td>0</td>\n      <td>0</td>\n      <td>0</td>\n      <td>0</td>\n      <td>0</td>\n      <td>0</td>\n      <td>0</td>\n    </tr>\n    <tr>\n      <th>3</th>\n      <td>0</td>\n      <td>0</td>\n      <td>0</td>\n      <td>0</td>\n      <td>0</td>\n      <td>0</td>\n      <td>0</td>\n      <td>0</td>\n      <td>0</td>\n      <td>0</td>\n      <td>...</td>\n      <td>0</td>\n      <td>0</td>\n      <td>0</td>\n      <td>0</td>\n      <td>0</td>\n      <td>0</td>\n      <td>0</td>\n      <td>0</td>\n      <td>0</td>\n      <td>0</td>\n    </tr>\n    <tr>\n      <th>4</th>\n      <td>0</td>\n      <td>0</td>\n      <td>0</td>\n      <td>0</td>\n      <td>0</td>\n      <td>0</td>\n      <td>0</td>\n      <td>0</td>\n      <td>0</td>\n      <td>0</td>\n      <td>...</td>\n      <td>0</td>\n      <td>0</td>\n      <td>0</td>\n      <td>0</td>\n      <td>0</td>\n      <td>0</td>\n      <td>0</td>\n      <td>0</td>\n      <td>0</td>\n      <td>0</td>\n    </tr>\n  </tbody>\n</table>\n<p>5 rows × 116 columns</p>\n</div>"
     },
     "execution_count": 71,
     "metadata": {},
     "output_type": "execute_result"
    }
   ],
   "source": [
    "# 打印前五行数据\n",
    "print(\"结束形状\",changed_data.shape)\n",
    "changed_data.head()"
   ],
   "metadata": {
    "collapsed": false,
    "pycharm": {
     "name": "#%%\n"
    }
   }
  },
  {
   "cell_type": "code",
   "execution_count": 72,
   "outputs": [],
   "source": [
    "# 将处理后的数据集保存\n",
    "changed_data.to_excel(\"./output/changed_data.xlsx\", index=False)"
   ],
   "metadata": {
    "collapsed": false,
    "pycharm": {
     "name": "#%%\n"
    }
   }
  },
  {
   "cell_type": "markdown",
   "source": [
    "# 关联规则挖掘"
   ],
   "metadata": {
    "collapsed": false,
    "pycharm": {
     "name": "#%% md\n"
    }
   }
  },
  {
   "cell_type": "code",
   "execution_count": 73,
   "outputs": [
    {
     "data": {
      "text/plain": "    support  itemsets\n0  0.129583      (牛奶)\n1  0.132116      (绿茶)\n2  0.238368     (矿泉水)\n3  0.163845     (巧克力)\n4  0.174110  (意大利细面条)\n5  0.179709      (鸡蛋)\n6  0.170911     (炸薯条)",
      "text/html": "<div>\n<style scoped>\n    .dataframe tbody tr th:only-of-type {\n        vertical-align: middle;\n    }\n\n    .dataframe tbody tr th {\n        vertical-align: top;\n    }\n\n    .dataframe thead th {\n        text-align: right;\n    }\n</style>\n<table border=\"1\" class=\"dataframe\">\n  <thead>\n    <tr style=\"text-align: right;\">\n      <th></th>\n      <th>support</th>\n      <th>itemsets</th>\n    </tr>\n  </thead>\n  <tbody>\n    <tr>\n      <th>0</th>\n      <td>0.129583</td>\n      <td>(牛奶)</td>\n    </tr>\n    <tr>\n      <th>1</th>\n      <td>0.132116</td>\n      <td>(绿茶)</td>\n    </tr>\n    <tr>\n      <th>2</th>\n      <td>0.238368</td>\n      <td>(矿泉水)</td>\n    </tr>\n    <tr>\n      <th>3</th>\n      <td>0.163845</td>\n      <td>(巧克力)</td>\n    </tr>\n    <tr>\n      <th>4</th>\n      <td>0.174110</td>\n      <td>(意大利细面条)</td>\n    </tr>\n    <tr>\n      <th>5</th>\n      <td>0.179709</td>\n      <td>(鸡蛋)</td>\n    </tr>\n    <tr>\n      <th>6</th>\n      <td>0.170911</td>\n      <td>(炸薯条)</td>\n    </tr>\n  </tbody>\n</table>\n</div>"
     },
     "execution_count": 73,
     "metadata": {},
     "output_type": "execute_result"
    }
   ],
   "source": [
    "frequent_itemsets = apriori(changed_data.astype('bool'), min_support=0.11, use_colnames=True,max_len=3)\n",
    "frequent_itemsets"
   ],
   "metadata": {
    "collapsed": false,
    "pycharm": {
     "name": "#%%\n"
    }
   }
  },
  {
   "cell_type": "code",
   "execution_count": 74,
   "outputs": [
    {
     "data": {
      "text/plain": "    support itemsets\n0  0.238368    (矿泉水)",
      "text/html": "<div>\n<style scoped>\n    .dataframe tbody tr th:only-of-type {\n        vertical-align: middle;\n    }\n\n    .dataframe tbody tr th {\n        vertical-align: top;\n    }\n\n    .dataframe thead th {\n        text-align: right;\n    }\n</style>\n<table border=\"1\" class=\"dataframe\">\n  <thead>\n    <tr style=\"text-align: right;\">\n      <th></th>\n      <th>support</th>\n      <th>itemsets</th>\n    </tr>\n  </thead>\n  <tbody>\n    <tr>\n      <th>0</th>\n      <td>0.238368</td>\n      <td>(矿泉水)</td>\n    </tr>\n  </tbody>\n</table>\n</div>"
     },
     "execution_count": 74,
     "metadata": {},
     "output_type": "execute_result"
    }
   ],
   "source": [
    "frequent_itemsets = apriori(changed_data.astype('bool'), min_support=0.2, use_colnames=True,max_len=4)\n",
    "frequent_itemsets"
   ],
   "metadata": {
    "collapsed": false,
    "pycharm": {
     "name": "#%%\n"
    }
   }
  }
 ],
 "metadata": {
  "kernelspec": {
   "display_name": "Python 3",
   "language": "python",
   "name": "python3"
  },
  "language_info": {
   "codemirror_mode": {
    "name": "ipython",
    "version": 2
   },
   "file_extension": ".py",
   "mimetype": "text/x-python",
   "name": "python",
   "nbconvert_exporter": "python",
   "pygments_lexer": "ipython2",
   "version": "2.7.6"
  }
 },
 "nbformat": 4,
 "nbformat_minor": 0
}