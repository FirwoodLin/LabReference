{
 "cells": [
  {
   "cell_type": "code",
   "execution_count": 17,
   "metadata": {
    "collapsed": true,
    "pycharm": {
     "name": "#%%\n"
    }
   },
   "outputs": [],
   "source": [
    "import pandas as pd\n",
    "from sklearn.preprocessing import LabelEncoder\n",
    "from sklearn.model_selection import train_test_split\n",
    "from sklearn.linear_model import LogisticRegression\n",
    "from sklearn.metrics import classification_report"
   ]
  },
  {
   "cell_type": "code",
   "execution_count": 18,
   "outputs": [
    {
     "data": {
      "text/plain": "  buying  maint doors persons lug_boot safety acceptance\n0  vhigh  vhigh     2       2    small    low      unacc\n1  vhigh  vhigh     2       2    small    med      unacc\n2  vhigh  vhigh     2       2    small   high      unacc\n3  vhigh  vhigh     2       2      med    low      unacc\n4  vhigh  vhigh     2       2      med    med      unacc",
      "text/html": "<div>\n<style scoped>\n    .dataframe tbody tr th:only-of-type {\n        vertical-align: middle;\n    }\n\n    .dataframe tbody tr th {\n        vertical-align: top;\n    }\n\n    .dataframe thead th {\n        text-align: right;\n    }\n</style>\n<table border=\"1\" class=\"dataframe\">\n  <thead>\n    <tr style=\"text-align: right;\">\n      <th></th>\n      <th>buying</th>\n      <th>maint</th>\n      <th>doors</th>\n      <th>persons</th>\n      <th>lug_boot</th>\n      <th>safety</th>\n      <th>acceptance</th>\n    </tr>\n  </thead>\n  <tbody>\n    <tr>\n      <th>0</th>\n      <td>vhigh</td>\n      <td>vhigh</td>\n      <td>2</td>\n      <td>2</td>\n      <td>small</td>\n      <td>low</td>\n      <td>unacc</td>\n    </tr>\n    <tr>\n      <th>1</th>\n      <td>vhigh</td>\n      <td>vhigh</td>\n      <td>2</td>\n      <td>2</td>\n      <td>small</td>\n      <td>med</td>\n      <td>unacc</td>\n    </tr>\n    <tr>\n      <th>2</th>\n      <td>vhigh</td>\n      <td>vhigh</td>\n      <td>2</td>\n      <td>2</td>\n      <td>small</td>\n      <td>high</td>\n      <td>unacc</td>\n    </tr>\n    <tr>\n      <th>3</th>\n      <td>vhigh</td>\n      <td>vhigh</td>\n      <td>2</td>\n      <td>2</td>\n      <td>med</td>\n      <td>low</td>\n      <td>unacc</td>\n    </tr>\n    <tr>\n      <th>4</th>\n      <td>vhigh</td>\n      <td>vhigh</td>\n      <td>2</td>\n      <td>2</td>\n      <td>med</td>\n      <td>med</td>\n      <td>unacc</td>\n    </tr>\n  </tbody>\n</table>\n</div>"
     },
     "execution_count": 18,
     "metadata": {},
     "output_type": "execute_result"
    }
   ],
   "source": [
    "# 读入数据\n",
    "car = pd.read_csv(\"./input/car.csv\")\n",
    "# 打印数据集的前五行\n",
    "car.head(5)"
   ],
   "metadata": {
    "collapsed": false,
    "pycharm": {
     "name": "#%%\n"
    }
   }
  },
  {
   "cell_type": "code",
   "execution_count": 19,
   "outputs": [
    {
     "data": {
      "text/plain": "(1728, 7)"
     },
     "execution_count": 19,
     "metadata": {},
     "output_type": "execute_result"
    }
   ],
   "source": [
    "# 查看数据集大小\n",
    "car.shape"
   ],
   "metadata": {
    "collapsed": false,
    "pycharm": {
     "name": "#%%\n"
    }
   }
  },
  {
   "cell_type": "markdown",
   "source": [
    "离散型变量，使用 `value_counts()` 统计各种取值的分布"
   ],
   "metadata": {
    "collapsed": false,
    "pycharm": {
     "name": "#%% md\n"
    }
   }
  },
  {
   "cell_type": "code",
   "execution_count": 20,
   "outputs": [
    {
     "data": {
      "text/plain": "acceptance\nunacc    1210\nacc       384\ngood       69\nvgood      65\nName: count, dtype: int64"
     },
     "execution_count": 20,
     "metadata": {},
     "output_type": "execute_result"
    }
   ],
   "source": [
    "# 查看各个取值的数量分布\n",
    "car[\"acceptance\"].value_counts()"
   ],
   "metadata": {
    "collapsed": false,
    "pycharm": {
     "name": "#%%\n"
    }
   }
  },
  {
   "cell_type": "markdown",
   "source": [
    "car 的第一维长度 `car.shape[0]`；获取各个取值的"
   ],
   "metadata": {
    "collapsed": false,
    "pycharm": {
     "name": "#%% md\n"
    }
   }
  },
  {
   "cell_type": "code",
   "execution_count": 21,
   "outputs": [
    {
     "data": {
      "text/plain": "acceptance\nunacc    0.700231\nacc      0.222222\ngood     0.039931\nvgood    0.037616\nName: count, dtype: float64"
     },
     "execution_count": 21,
     "metadata": {},
     "output_type": "execute_result"
    }
   ],
   "source": [
    "(car[\"acceptance\"].value_counts() + 0.0) / car.shape[0]"
   ],
   "metadata": {
    "collapsed": false,
    "pycharm": {
     "name": "#%%\n"
    }
   }
  },
  {
   "cell_type": "markdown",
   "source": [
    "## 数字编码"
   ],
   "metadata": {
    "collapsed": false,
    "pycharm": {
     "name": "#%% md\n"
    }
   }
  },
  {
   "cell_type": "code",
   "execution_count": 22,
   "outputs": [
    {
     "data": {
      "text/plain": "0    3\n1    3\n2    3\n3    3\n4    3\nName: buying, dtype: int64"
     },
     "execution_count": 22,
     "metadata": {},
     "output_type": "execute_result"
    }
   ],
   "source": [
    "# 创建要进行数字编码的数据集\n",
    "car_num_encoded = car.copy()\n",
    "# 根据编码规则创建编码字典\n",
    "buying_dict = {\"low\": 0, \"med\": 1, \"high\": 2, \"vhigh\": 3}\n",
    "# 进行编码\n",
    "car_num_encoded[\"buying\"] = car_num_encoded[\"buying\"].map(buying_dict)\n",
    "# 查看编码列的前五行，查看编码结果\n",
    "car_num_encoded[\"buying\"].head(5)"
   ],
   "metadata": {
    "collapsed": false,
    "pycharm": {
     "name": "#%%\n"
    }
   }
  },
  {
   "cell_type": "code",
   "execution_count": 23,
   "outputs": [],
   "source": [
    "# maint特征数字编码\n",
    "maint_dict = {\"low\": 0, \"med\": 1, \"high\": 2, \"vhigh\": 3}\n",
    "car_num_encoded[\"maint\"] = car_num_encoded[\"maint\"].map(maint_dict)\n",
    "\n",
    "# lug_boot特征数字编码\n",
    "lug_boot_dict = {\"small\": 0, \"med\": 1, \"big\": 2}\n",
    "car_num_encoded[\"lug_boot\"] = car_num_encoded[\"lug_boot\"].map(lug_boot_dict)\n",
    "\n",
    "# safety特征数字编码\n",
    "safety_dict = {\"low\": 0, \"med\": 1, \"high\": 2}\n",
    "car_num_encoded[\"safety\"] = car_num_encoded[\"safety\"].map(safety_dict)"
   ],
   "metadata": {
    "collapsed": false,
    "pycharm": {
     "name": "#%%\n"
    }
   }
  },
  {
   "cell_type": "code",
   "execution_count": 24,
   "outputs": [
    {
     "data": {
      "text/plain": "   buying  maint doors persons  lug_boot  safety acceptance\n0       3      3     2       2         0       0      unacc\n1       3      3     2       2         0       1      unacc\n2       3      3     2       2         0       2      unacc\n3       3      3     2       2         1       0      unacc\n4       3      3     2       2         1       1      unacc",
      "text/html": "<div>\n<style scoped>\n    .dataframe tbody tr th:only-of-type {\n        vertical-align: middle;\n    }\n\n    .dataframe tbody tr th {\n        vertical-align: top;\n    }\n\n    .dataframe thead th {\n        text-align: right;\n    }\n</style>\n<table border=\"1\" class=\"dataframe\">\n  <thead>\n    <tr style=\"text-align: right;\">\n      <th></th>\n      <th>buying</th>\n      <th>maint</th>\n      <th>doors</th>\n      <th>persons</th>\n      <th>lug_boot</th>\n      <th>safety</th>\n      <th>acceptance</th>\n    </tr>\n  </thead>\n  <tbody>\n    <tr>\n      <th>0</th>\n      <td>3</td>\n      <td>3</td>\n      <td>2</td>\n      <td>2</td>\n      <td>0</td>\n      <td>0</td>\n      <td>unacc</td>\n    </tr>\n    <tr>\n      <th>1</th>\n      <td>3</td>\n      <td>3</td>\n      <td>2</td>\n      <td>2</td>\n      <td>0</td>\n      <td>1</td>\n      <td>unacc</td>\n    </tr>\n    <tr>\n      <th>2</th>\n      <td>3</td>\n      <td>3</td>\n      <td>2</td>\n      <td>2</td>\n      <td>0</td>\n      <td>2</td>\n      <td>unacc</td>\n    </tr>\n    <tr>\n      <th>3</th>\n      <td>3</td>\n      <td>3</td>\n      <td>2</td>\n      <td>2</td>\n      <td>1</td>\n      <td>0</td>\n      <td>unacc</td>\n    </tr>\n    <tr>\n      <th>4</th>\n      <td>3</td>\n      <td>3</td>\n      <td>2</td>\n      <td>2</td>\n      <td>1</td>\n      <td>1</td>\n      <td>unacc</td>\n    </tr>\n  </tbody>\n</table>\n</div>"
     },
     "execution_count": 24,
     "metadata": {},
     "output_type": "execute_result"
    }
   ],
   "source": [
    "# 查看编码后的前五行\n",
    "car_num_encoded.head(5)"
   ],
   "metadata": {
    "collapsed": false,
    "pycharm": {
     "name": "#%%\n"
    }
   }
  },
  {
   "cell_type": "code",
   "execution_count": 25,
   "outputs": [
    {
     "name": "stdout",
     "output_type": "stream",
     "text": [
      "doors\n",
      "2    432\n",
      "3    432\n",
      "4    432\n",
      "6    432\n",
      "Name: count, dtype: int64\n",
      "persons\n",
      "2    576\n",
      "4    576\n",
      "6    576\n",
      "Name: count, dtype: int64\n"
     ]
    }
   ],
   "source": [
    "# 将车门数量一列中，5more替换为6\n",
    "car_num_encoded.doors.replace(\"5more\", \"6\", inplace=True)\n",
    "# 将核载人数一列中，more替换为6\n",
    "car_num_encoded.persons.replace(\"more\", \"6\", inplace=True)\n",
    "# 查看两个属性取值的分布情况。\n",
    "print(car_num_encoded[\"doors\"].value_counts())\n",
    "print(car_num_encoded[\"persons\"].value_counts())"
   ],
   "metadata": {
    "collapsed": false,
    "pycharm": {
     "name": "#%%\n"
    }
   }
  },
  {
   "cell_type": "code",
   "execution_count": 26,
   "outputs": [
    {
     "name": "stdout",
     "output_type": "stream",
     "text": [
      "object object\n",
      "int32 int32\n"
     ]
    }
   ],
   "source": [
    "# 查看数据类型\n",
    "print(car_num_encoded.doors.dtype, car_num_encoded.persons.dtype)\n",
    "# 将车门数量属性类型变更为整型\n",
    "car_num_encoded[\"doors\"] = car_num_encoded[\"doors\"].astype(\"int\")\n",
    "# 将核载人数属性类型变更为整型\n",
    "car_num_encoded[\"persons\"] = car_num_encoded[\"persons\"].astype(\"int\")\n",
    "# 再次查看两个特征的数据类型：\n",
    "print(car_num_encoded.doors.dtype, car_num_encoded.persons.dtype)"
   ],
   "metadata": {
    "collapsed": false,
    "pycharm": {
     "name": "#%%\n"
    }
   }
  },
  {
   "cell_type": "code",
   "execution_count": 27,
   "outputs": [
    {
     "data": {
      "text/plain": "   buying  maint  doors  persons  lug_boot  safety acceptance\n0       3      3      2        2         0       0      unacc\n1       3      3      2        2         0       1      unacc\n2       3      3      2        2         0       2      unacc\n3       3      3      2        2         1       0      unacc\n4       3      3      2        2         1       1      unacc",
      "text/html": "<div>\n<style scoped>\n    .dataframe tbody tr th:only-of-type {\n        vertical-align: middle;\n    }\n\n    .dataframe tbody tr th {\n        vertical-align: top;\n    }\n\n    .dataframe thead th {\n        text-align: right;\n    }\n</style>\n<table border=\"1\" class=\"dataframe\">\n  <thead>\n    <tr style=\"text-align: right;\">\n      <th></th>\n      <th>buying</th>\n      <th>maint</th>\n      <th>doors</th>\n      <th>persons</th>\n      <th>lug_boot</th>\n      <th>safety</th>\n      <th>acceptance</th>\n    </tr>\n  </thead>\n  <tbody>\n    <tr>\n      <th>0</th>\n      <td>3</td>\n      <td>3</td>\n      <td>2</td>\n      <td>2</td>\n      <td>0</td>\n      <td>0</td>\n      <td>unacc</td>\n    </tr>\n    <tr>\n      <th>1</th>\n      <td>3</td>\n      <td>3</td>\n      <td>2</td>\n      <td>2</td>\n      <td>0</td>\n      <td>1</td>\n      <td>unacc</td>\n    </tr>\n    <tr>\n      <th>2</th>\n      <td>3</td>\n      <td>3</td>\n      <td>2</td>\n      <td>2</td>\n      <td>0</td>\n      <td>2</td>\n      <td>unacc</td>\n    </tr>\n    <tr>\n      <th>3</th>\n      <td>3</td>\n      <td>3</td>\n      <td>2</td>\n      <td>2</td>\n      <td>1</td>\n      <td>0</td>\n      <td>unacc</td>\n    </tr>\n    <tr>\n      <th>4</th>\n      <td>3</td>\n      <td>3</td>\n      <td>2</td>\n      <td>2</td>\n      <td>1</td>\n      <td>1</td>\n      <td>unacc</td>\n    </tr>\n  </tbody>\n</table>\n</div>"
     },
     "execution_count": 27,
     "metadata": {},
     "output_type": "execute_result"
    }
   ],
   "source": [
    "# 查看初步编码后的数据\n",
    "car_num_encoded.head(5)"
   ],
   "metadata": {
    "collapsed": false,
    "pycharm": {
     "name": "#%%\n"
    }
   }
  },
  {
   "cell_type": "code",
   "execution_count": 28,
   "outputs": [
    {
     "data": {
      "text/plain": "array(['high', 'low', 'med', 'vhigh'], dtype=object)"
     },
     "execution_count": 28,
     "metadata": {},
     "output_type": "execute_result"
    }
   ],
   "source": [
    "# 对库中的编码函数\n",
    "# 创建编码器\n",
    "buying_encoder = LabelEncoder()\n",
    "# 适配数据集并完成编码\n",
    "encoded_buying = buying_encoder.fit_transform(car[\"buying\"])\n",
    "# 查看原数据和编码的对应关系：\n",
    "buying_encoder.inverse_transform([0, 1, 2, 3])"
   ],
   "metadata": {
    "collapsed": false,
    "pycharm": {
     "name": "#%%\n"
    }
   }
  },
  {
   "cell_type": "markdown",
   "source": [
    "# One-hot 编码"
   ],
   "metadata": {
    "collapsed": false,
    "pycharm": {
     "name": "#%% md\n"
    }
   }
  },
  {
   "cell_type": "code",
   "execution_count": 29,
   "outputs": [
    {
     "data": {
      "text/plain": "   buying_high  buying_low  buying_med  buying_vhigh\n0        False       False       False          True\n1        False       False       False          True\n2        False       False       False          True\n3        False       False       False          True\n4        False       False       False          True",
      "text/html": "<div>\n<style scoped>\n    .dataframe tbody tr th:only-of-type {\n        vertical-align: middle;\n    }\n\n    .dataframe tbody tr th {\n        vertical-align: top;\n    }\n\n    .dataframe thead th {\n        text-align: right;\n    }\n</style>\n<table border=\"1\" class=\"dataframe\">\n  <thead>\n    <tr style=\"text-align: right;\">\n      <th></th>\n      <th>buying_high</th>\n      <th>buying_low</th>\n      <th>buying_med</th>\n      <th>buying_vhigh</th>\n    </tr>\n  </thead>\n  <tbody>\n    <tr>\n      <th>0</th>\n      <td>False</td>\n      <td>False</td>\n      <td>False</td>\n      <td>True</td>\n    </tr>\n    <tr>\n      <th>1</th>\n      <td>False</td>\n      <td>False</td>\n      <td>False</td>\n      <td>True</td>\n    </tr>\n    <tr>\n      <th>2</th>\n      <td>False</td>\n      <td>False</td>\n      <td>False</td>\n      <td>True</td>\n    </tr>\n    <tr>\n      <th>3</th>\n      <td>False</td>\n      <td>False</td>\n      <td>False</td>\n      <td>True</td>\n    </tr>\n    <tr>\n      <th>4</th>\n      <td>False</td>\n      <td>False</td>\n      <td>False</td>\n      <td>True</td>\n    </tr>\n  </tbody>\n</table>\n</div>"
     },
     "execution_count": 29,
     "metadata": {},
     "output_type": "execute_result"
    }
   ],
   "source": [
    "pd.get_dummies(car[\"buying\"], prefix=\"buying\").head(5)"
   ],
   "metadata": {
    "collapsed": false,
    "pycharm": {
     "name": "#%%\n"
    }
   }
  },
  {
   "cell_type": "code",
   "execution_count": 30,
   "outputs": [
    {
     "data": {
      "text/plain": "   buying__high  buying__low  buying__med  buying__vhigh  maint__high   \n0         False        False        False           True        False  \\\n1         False        False        False           True        False   \n2         False        False        False           True        False   \n3         False        False        False           True        False   \n4         False        False        False           True        False   \n\n   maint__low  maint__med  maint__vhigh  doors__2  doors__3  ...  persons__2   \n0       False       False          True      True     False  ...        True  \\\n1       False       False          True      True     False  ...        True   \n2       False       False          True      True     False  ...        True   \n3       False       False          True      True     False  ...        True   \n4       False       False          True      True     False  ...        True   \n\n   persons__4  persons__more  lug_boot__big  lug_boot__med  lug_boot__small   \n0       False          False          False          False             True  \\\n1       False          False          False          False             True   \n2       False          False          False          False             True   \n3       False          False          False           True            False   \n4       False          False          False           True            False   \n\n   safety__high  safety__low  safety__med  acceptance  \n0         False         True        False       unacc  \n1         False        False         True       unacc  \n2          True        False        False       unacc  \n3         False         True        False       unacc  \n4         False        False         True       unacc  \n\n[5 rows x 22 columns]",
      "text/html": "<div>\n<style scoped>\n    .dataframe tbody tr th:only-of-type {\n        vertical-align: middle;\n    }\n\n    .dataframe tbody tr th {\n        vertical-align: top;\n    }\n\n    .dataframe thead th {\n        text-align: right;\n    }\n</style>\n<table border=\"1\" class=\"dataframe\">\n  <thead>\n    <tr style=\"text-align: right;\">\n      <th></th>\n      <th>buying__high</th>\n      <th>buying__low</th>\n      <th>buying__med</th>\n      <th>buying__vhigh</th>\n      <th>maint__high</th>\n      <th>maint__low</th>\n      <th>maint__med</th>\n      <th>maint__vhigh</th>\n      <th>doors__2</th>\n      <th>doors__3</th>\n      <th>...</th>\n      <th>persons__2</th>\n      <th>persons__4</th>\n      <th>persons__more</th>\n      <th>lug_boot__big</th>\n      <th>lug_boot__med</th>\n      <th>lug_boot__small</th>\n      <th>safety__high</th>\n      <th>safety__low</th>\n      <th>safety__med</th>\n      <th>acceptance</th>\n    </tr>\n  </thead>\n  <tbody>\n    <tr>\n      <th>0</th>\n      <td>False</td>\n      <td>False</td>\n      <td>False</td>\n      <td>True</td>\n      <td>False</td>\n      <td>False</td>\n      <td>False</td>\n      <td>True</td>\n      <td>True</td>\n      <td>False</td>\n      <td>...</td>\n      <td>True</td>\n      <td>False</td>\n      <td>False</td>\n      <td>False</td>\n      <td>False</td>\n      <td>True</td>\n      <td>False</td>\n      <td>True</td>\n      <td>False</td>\n      <td>unacc</td>\n    </tr>\n    <tr>\n      <th>1</th>\n      <td>False</td>\n      <td>False</td>\n      <td>False</td>\n      <td>True</td>\n      <td>False</td>\n      <td>False</td>\n      <td>False</td>\n      <td>True</td>\n      <td>True</td>\n      <td>False</td>\n      <td>...</td>\n      <td>True</td>\n      <td>False</td>\n      <td>False</td>\n      <td>False</td>\n      <td>False</td>\n      <td>True</td>\n      <td>False</td>\n      <td>False</td>\n      <td>True</td>\n      <td>unacc</td>\n    </tr>\n    <tr>\n      <th>2</th>\n      <td>False</td>\n      <td>False</td>\n      <td>False</td>\n      <td>True</td>\n      <td>False</td>\n      <td>False</td>\n      <td>False</td>\n      <td>True</td>\n      <td>True</td>\n      <td>False</td>\n      <td>...</td>\n      <td>True</td>\n      <td>False</td>\n      <td>False</td>\n      <td>False</td>\n      <td>False</td>\n      <td>True</td>\n      <td>True</td>\n      <td>False</td>\n      <td>False</td>\n      <td>unacc</td>\n    </tr>\n    <tr>\n      <th>3</th>\n      <td>False</td>\n      <td>False</td>\n      <td>False</td>\n      <td>True</td>\n      <td>False</td>\n      <td>False</td>\n      <td>False</td>\n      <td>True</td>\n      <td>True</td>\n      <td>False</td>\n      <td>...</td>\n      <td>True</td>\n      <td>False</td>\n      <td>False</td>\n      <td>False</td>\n      <td>True</td>\n      <td>False</td>\n      <td>False</td>\n      <td>True</td>\n      <td>False</td>\n      <td>unacc</td>\n    </tr>\n    <tr>\n      <th>4</th>\n      <td>False</td>\n      <td>False</td>\n      <td>False</td>\n      <td>True</td>\n      <td>False</td>\n      <td>False</td>\n      <td>False</td>\n      <td>True</td>\n      <td>True</td>\n      <td>False</td>\n      <td>...</td>\n      <td>True</td>\n      <td>False</td>\n      <td>False</td>\n      <td>False</td>\n      <td>True</td>\n      <td>False</td>\n      <td>False</td>\n      <td>False</td>\n      <td>True</td>\n      <td>unacc</td>\n    </tr>\n  </tbody>\n</table>\n<p>5 rows × 22 columns</p>\n</div>"
     },
     "execution_count": 30,
     "metadata": {},
     "output_type": "execute_result"
    }
   ],
   "source": [
    "# 新建dataframe存储编码后的数据\n",
    "car_onehot_encoded = pd.DataFrame()\n",
    "# 对各个特征依次编码\n",
    "for col in [\"buying\", \"maint\", \"doors\", \"persons\", \"lug_boot\", \"safety\"]:\n",
    "    col_encoded = pd.get_dummies(car[col], prefix=col + \"_\")\n",
    "    car_onehot_encoded = pd.concat([car_onehot_encoded, col_encoded], axis=1)\n",
    "# 在数据后，加上目标特征列\n",
    "car_onehot_encoded = pd.concat([car_onehot_encoded, car[\"acceptance\"]], axis=1)\n",
    "# 查看编码后的数据集\n",
    "car_onehot_encoded.head(5)"
   ],
   "metadata": {
    "collapsed": false,
    "pycharm": {
     "name": "#%%\n"
    }
   }
  },
  {
   "cell_type": "code",
   "execution_count": 31,
   "outputs": [],
   "source": [
    "car_onehot_encoded.to_csv(\"./output/one-hot.csv\")"
   ],
   "metadata": {
    "collapsed": false,
    "pycharm": {
     "name": "#%%\n"
    }
   }
  }
 ],
 "metadata": {
  "kernelspec": {
   "display_name": "Python 3",
   "language": "python",
   "name": "python3"
  },
  "language_info": {
   "codemirror_mode": {
    "name": "ipython",
    "version": 2
   },
   "file_extension": ".py",
   "mimetype": "text/x-python",
   "name": "python",
   "nbconvert_exporter": "python",
   "pygments_lexer": "ipython2",
   "version": "2.7.6"
  }
 },
 "nbformat": 4,
 "nbformat_minor": 0
}