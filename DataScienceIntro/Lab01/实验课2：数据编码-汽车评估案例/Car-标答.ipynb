{
 "cells": [
  {
   "cell_type": "code",
   "execution_count": 1,
   "id": "01e5df5e",
   "metadata": {
    "pycharm": {
     "name": "#%%\n"
    }
   },
   "outputs": [],
   "source": [
    "import pandas as pd"
   ]
  },
  {
   "cell_type": "code",
   "execution_count": 2,
   "id": "aaef663f",
   "metadata": {
    "pycharm": {
     "name": "#%%\n"
    }
   },
   "outputs": [],
   "source": [
    "from sklearn.preprocessing import LabelEncoder"
   ]
  },
  {
   "cell_type": "code",
   "execution_count": 3,
   "id": "4bfc8408",
   "metadata": {
    "pycharm": {
     "name": "#%%\n"
    }
   },
   "outputs": [],
   "source": [
    "from sklearn.model_selection import train_test_split"
   ]
  },
  {
   "cell_type": "code",
   "execution_count": 4,
   "id": "92c08942",
   "metadata": {
    "pycharm": {
     "name": "#%%\n"
    }
   },
   "outputs": [],
   "source": [
    "from sklearn.linear_model import LogisticRegression"
   ]
  },
  {
   "cell_type": "code",
   "execution_count": 5,
   "id": "95be69fe",
   "metadata": {
    "pycharm": {
     "name": "#%%\n"
    }
   },
   "outputs": [],
   "source": [
    "from sklearn.metrics import classification_report"
   ]
  },
  {
   "cell_type": "code",
   "execution_count": 6,
   "id": "905c1054",
   "metadata": {
    "pycharm": {
     "name": "#%%\n"
    }
   },
   "outputs": [
    {
     "data": {
      "text/html": [
       "<div>\n",
       "<style scoped>\n",
       "    .dataframe tbody tr th:only-of-type {\n",
       "        vertical-align: middle;\n",
       "    }\n",
       "\n",
       "    .dataframe tbody tr th {\n",
       "        vertical-align: top;\n",
       "    }\n",
       "\n",
       "    .dataframe thead th {\n",
       "        text-align: right;\n",
       "    }\n",
       "</style>\n",
       "<table border=\"1\" class=\"dataframe\">\n",
       "  <thead>\n",
       "    <tr style=\"text-align: right;\">\n",
       "      <th></th>\n",
       "      <th>buying</th>\n",
       "      <th>maint</th>\n",
       "      <th>doors</th>\n",
       "      <th>persons</th>\n",
       "      <th>lug_boot</th>\n",
       "      <th>safety</th>\n",
       "      <th>acceptance</th>\n",
       "    </tr>\n",
       "  </thead>\n",
       "  <tbody>\n",
       "    <tr>\n",
       "      <th>0</th>\n",
       "      <td>vhigh</td>\n",
       "      <td>vhigh</td>\n",
       "      <td>2</td>\n",
       "      <td>2</td>\n",
       "      <td>small</td>\n",
       "      <td>low</td>\n",
       "      <td>unacc</td>\n",
       "    </tr>\n",
       "    <tr>\n",
       "      <th>1</th>\n",
       "      <td>vhigh</td>\n",
       "      <td>vhigh</td>\n",
       "      <td>2</td>\n",
       "      <td>2</td>\n",
       "      <td>small</td>\n",
       "      <td>med</td>\n",
       "      <td>unacc</td>\n",
       "    </tr>\n",
       "    <tr>\n",
       "      <th>2</th>\n",
       "      <td>vhigh</td>\n",
       "      <td>vhigh</td>\n",
       "      <td>2</td>\n",
       "      <td>2</td>\n",
       "      <td>small</td>\n",
       "      <td>high</td>\n",
       "      <td>unacc</td>\n",
       "    </tr>\n",
       "    <tr>\n",
       "      <th>3</th>\n",
       "      <td>vhigh</td>\n",
       "      <td>vhigh</td>\n",
       "      <td>2</td>\n",
       "      <td>2</td>\n",
       "      <td>med</td>\n",
       "      <td>low</td>\n",
       "      <td>unacc</td>\n",
       "    </tr>\n",
       "    <tr>\n",
       "      <th>4</th>\n",
       "      <td>vhigh</td>\n",
       "      <td>vhigh</td>\n",
       "      <td>2</td>\n",
       "      <td>2</td>\n",
       "      <td>med</td>\n",
       "      <td>med</td>\n",
       "      <td>unacc</td>\n",
       "    </tr>\n",
       "  </tbody>\n",
       "</table>\n",
       "</div>"
      ],
      "text/plain": [
       "  buying  maint doors persons lug_boot safety acceptance\n",
       "0  vhigh  vhigh     2       2    small    low      unacc\n",
       "1  vhigh  vhigh     2       2    small    med      unacc\n",
       "2  vhigh  vhigh     2       2    small   high      unacc\n",
       "3  vhigh  vhigh     2       2      med    low      unacc\n",
       "4  vhigh  vhigh     2       2      med    med      unacc"
      ]
     },
     "execution_count": 6,
     "metadata": {},
     "output_type": "execute_result"
    }
   ],
   "source": [
    "# 读入数据\n",
    "car = pd.read_csv(\"D:/input/car.csv\")\n",
    "# 打印数据集的前五行\n",
    "car.head(5)"
   ]
  },
  {
   "cell_type": "code",
   "execution_count": 7,
   "id": "693b1a57",
   "metadata": {
    "pycharm": {
     "name": "#%%\n"
    }
   },
   "outputs": [
    {
     "data": {
      "text/plain": [
       "(1728, 7)"
      ]
     },
     "execution_count": 7,
     "metadata": {},
     "output_type": "execute_result"
    }
   ],
   "source": [
    "# 查看数据集大小\n",
    "car.shape"
   ]
  },
  {
   "cell_type": "code",
   "execution_count": 8,
   "id": "3b98b8ca",
   "metadata": {
    "pycharm": {
     "name": "#%%\n"
    }
   },
   "outputs": [
    {
     "name": "stdout",
     "output_type": "stream",
     "text": [
      "unacc    1210\n",
      "acc       384\n",
      "good       69\n",
      "vgood      65\n",
      "Name: acceptance, dtype: int64\n"
     ]
    }
   ],
   "source": [
    "# 查看各个取值的数量分布\n",
    "print(car[\"acceptance\"].value_counts())"
   ]
  },
  {
   "cell_type": "code",
   "execution_count": 9,
   "id": "48503d78",
   "metadata": {
    "pycharm": {
     "name": "#%%\n"
    }
   },
   "outputs": [
    {
     "name": "stdout",
     "output_type": "stream",
     "text": [
      "unacc    0.700231\n",
      "acc      0.222222\n",
      "good     0.039931\n",
      "vgood    0.037616\n",
      "Name: acceptance, dtype: float64\n"
     ]
    }
   ],
   "source": [
    "# 查看各个取值的比例分布\n",
    "print((car[\"acceptance\"].value_counts() + 0.0) / car.shape[0])"
   ]
  },
  {
   "cell_type": "code",
   "execution_count": 10,
   "id": "56e91b55",
   "metadata": {
    "pycharm": {
     "name": "#%%\n"
    }
   },
   "outputs": [],
   "source": [
    "# 创建要进行数字编码的数据集\n",
    "car_num_encoded = car.copy()\n",
    "# 根据编码规则创建编码字典\n",
    "buying_dict = {\"low\": 0, \"med\": 1, \"high\": 2, \"vhigh\": 3}\n",
    "# 进行编码\n",
    "car_num_encoded[\"buying\"] = car_num_encoded[\"buying\"].map(buying_dict)"
   ]
  },
  {
   "cell_type": "code",
   "execution_count": 11,
   "id": "10adacc5",
   "metadata": {
    "pycharm": {
     "name": "#%%\n"
    }
   },
   "outputs": [
    {
     "data": {
      "text/plain": [
       "0    3\n",
       "1    3\n",
       "2    3\n",
       "3    3\n",
       "4    3\n",
       "Name: buying, dtype: int64"
      ]
     },
     "execution_count": 11,
     "metadata": {},
     "output_type": "execute_result"
    }
   ],
   "source": [
    "# 查看编码列的前五行\n",
    "car_num_encoded[\"buying\"].head(5)"
   ]
  },
  {
   "cell_type": "code",
   "execution_count": 12,
   "id": "af92df73",
   "metadata": {
    "pycharm": {
     "name": "#%%\n"
    }
   },
   "outputs": [],
   "source": [
    "# maint特征数字编码\n",
    "maint_dict = {\"low\": 0, \"med\": 1, \"high\": 2, \"vhigh\": 3}\n",
    "car_num_encoded[\"maint\"] = car_num_encoded[\"maint\"].map(maint_dict)"
   ]
  },
  {
   "cell_type": "code",
   "execution_count": 13,
   "id": "ada6bdb9",
   "metadata": {
    "pycharm": {
     "name": "#%%\n"
    }
   },
   "outputs": [],
   "source": [
    "# lug_boot特征数字编码\n",
    "lug_boot_dict = {\"small\": 0, \"med\": 1, \"big\": 2}\n",
    "car_num_encoded[\"lug_boot\"] = car_num_encoded[\"lug_boot\"].map(lug_boot_dict)"
   ]
  },
  {
   "cell_type": "code",
   "execution_count": 14,
   "id": "ec09cc2c",
   "metadata": {
    "pycharm": {
     "name": "#%%\n"
    }
   },
   "outputs": [],
   "source": [
    "# safety特征数字编码\n",
    "safety_dict = {\"low\": 0, \"med\": 1, \"high\": 2}\n",
    "car_num_encoded[\"safety\"] = car_num_encoded[\"safety\"].map(safety_dict)"
   ]
  },
  {
   "cell_type": "code",
   "execution_count": 15,
   "id": "91c6d41a",
   "metadata": {
    "pycharm": {
     "name": "#%%\n"
    }
   },
   "outputs": [
    {
     "data": {
      "text/html": [
       "<div>\n",
       "<style scoped>\n",
       "    .dataframe tbody tr th:only-of-type {\n",
       "        vertical-align: middle;\n",
       "    }\n",
       "\n",
       "    .dataframe tbody tr th {\n",
       "        vertical-align: top;\n",
       "    }\n",
       "\n",
       "    .dataframe thead th {\n",
       "        text-align: right;\n",
       "    }\n",
       "</style>\n",
       "<table border=\"1\" class=\"dataframe\">\n",
       "  <thead>\n",
       "    <tr style=\"text-align: right;\">\n",
       "      <th></th>\n",
       "      <th>buying</th>\n",
       "      <th>maint</th>\n",
       "      <th>doors</th>\n",
       "      <th>persons</th>\n",
       "      <th>lug_boot</th>\n",
       "      <th>safety</th>\n",
       "      <th>acceptance</th>\n",
       "    </tr>\n",
       "  </thead>\n",
       "  <tbody>\n",
       "    <tr>\n",
       "      <th>0</th>\n",
       "      <td>3</td>\n",
       "      <td>3</td>\n",
       "      <td>2</td>\n",
       "      <td>2</td>\n",
       "      <td>0</td>\n",
       "      <td>0</td>\n",
       "      <td>unacc</td>\n",
       "    </tr>\n",
       "    <tr>\n",
       "      <th>1</th>\n",
       "      <td>3</td>\n",
       "      <td>3</td>\n",
       "      <td>2</td>\n",
       "      <td>2</td>\n",
       "      <td>0</td>\n",
       "      <td>1</td>\n",
       "      <td>unacc</td>\n",
       "    </tr>\n",
       "    <tr>\n",
       "      <th>2</th>\n",
       "      <td>3</td>\n",
       "      <td>3</td>\n",
       "      <td>2</td>\n",
       "      <td>2</td>\n",
       "      <td>0</td>\n",
       "      <td>2</td>\n",
       "      <td>unacc</td>\n",
       "    </tr>\n",
       "    <tr>\n",
       "      <th>3</th>\n",
       "      <td>3</td>\n",
       "      <td>3</td>\n",
       "      <td>2</td>\n",
       "      <td>2</td>\n",
       "      <td>1</td>\n",
       "      <td>0</td>\n",
       "      <td>unacc</td>\n",
       "    </tr>\n",
       "    <tr>\n",
       "      <th>4</th>\n",
       "      <td>3</td>\n",
       "      <td>3</td>\n",
       "      <td>2</td>\n",
       "      <td>2</td>\n",
       "      <td>1</td>\n",
       "      <td>1</td>\n",
       "      <td>unacc</td>\n",
       "    </tr>\n",
       "  </tbody>\n",
       "</table>\n",
       "</div>"
      ],
      "text/plain": [
       "   buying  maint doors persons  lug_boot  safety acceptance\n",
       "0       3      3     2       2         0       0      unacc\n",
       "1       3      3     2       2         0       1      unacc\n",
       "2       3      3     2       2         0       2      unacc\n",
       "3       3      3     2       2         1       0      unacc\n",
       "4       3      3     2       2         1       1      unacc"
      ]
     },
     "execution_count": 15,
     "metadata": {},
     "output_type": "execute_result"
    }
   ],
   "source": [
    "# 查看编码后的数据前五行\n",
    "car_num_encoded.head(5)"
   ]
  },
  {
   "cell_type": "code",
   "execution_count": 16,
   "id": "53a657b7",
   "metadata": {
    "pycharm": {
     "name": "#%%\n"
    }
   },
   "outputs": [],
   "source": [
    "# 将车门数量一列中，5more替换为6\n",
    "car_num_encoded.doors.replace(\"5more\", \"6\", inplace=True)\n",
    "# 将核载人数一列中，more替换为6\n",
    "car_num_encoded.persons.replace(\"more\", \"6\", inplace=True)"
   ]
  },
  {
   "cell_type": "code",
   "execution_count": 17,
   "id": "f2ac01d8",
   "metadata": {
    "pycharm": {
     "name": "#%%\n"
    }
   },
   "outputs": [
    {
     "name": "stdout",
     "output_type": "stream",
     "text": [
      "3    432\n",
      "6    432\n",
      "2    432\n",
      "4    432\n",
      "Name: doors, dtype: int64\n"
     ]
    }
   ],
   "source": [
    "print(car_num_encoded[\"doors\"].value_counts())"
   ]
  },
  {
   "cell_type": "code",
   "execution_count": 18,
   "id": "ac7b1cd2",
   "metadata": {
    "pycharm": {
     "name": "#%%\n"
    }
   },
   "outputs": [
    {
     "name": "stdout",
     "output_type": "stream",
     "text": [
      "6    576\n",
      "2    576\n",
      "4    576\n",
      "Name: persons, dtype: int64\n"
     ]
    }
   ],
   "source": [
    "print(car_num_encoded[\"persons\"].value_counts())"
   ]
  },
  {
   "cell_type": "code",
   "execution_count": 19,
   "id": "b3808a70",
   "metadata": {
    "pycharm": {
     "name": "#%%\n"
    }
   },
   "outputs": [
    {
     "name": "stdout",
     "output_type": "stream",
     "text": [
      "object object\n"
     ]
    }
   ],
   "source": [
    "print(car_num_encoded.doors.dtype, car_num_encoded.persons.dtype)"
   ]
  },
  {
   "cell_type": "code",
   "execution_count": 20,
   "id": "95b65971",
   "metadata": {
    "pycharm": {
     "name": "#%%\n"
    }
   },
   "outputs": [],
   "source": [
    "# 将车门数量属性类型变更为整型\n",
    "car_num_encoded[\"doors\"] = car_num_encoded[\"doors\"].astype(\"int\")\n",
    "# 将核载人数属性类型变更为整型\n",
    "car_num_encoded[\"persons\"] = car_num_encoded[\"persons\"].astype(\"int\")"
   ]
  },
  {
   "cell_type": "code",
   "execution_count": 21,
   "id": "ae01e324",
   "metadata": {
    "pycharm": {
     "name": "#%%\n"
    }
   },
   "outputs": [
    {
     "name": "stdout",
     "output_type": "stream",
     "text": [
      "int32 int32\n"
     ]
    }
   ],
   "source": [
    "print(car_num_encoded.doors.dtype, car_num_encoded.persons.dtype)"
   ]
  },
  {
   "cell_type": "code",
   "execution_count": 22,
   "id": "000c039e",
   "metadata": {
    "pycharm": {
     "name": "#%%\n"
    }
   },
   "outputs": [
    {
     "data": {
      "text/html": [
       "<div>\n",
       "<style scoped>\n",
       "    .dataframe tbody tr th:only-of-type {\n",
       "        vertical-align: middle;\n",
       "    }\n",
       "\n",
       "    .dataframe tbody tr th {\n",
       "        vertical-align: top;\n",
       "    }\n",
       "\n",
       "    .dataframe thead th {\n",
       "        text-align: right;\n",
       "    }\n",
       "</style>\n",
       "<table border=\"1\" class=\"dataframe\">\n",
       "  <thead>\n",
       "    <tr style=\"text-align: right;\">\n",
       "      <th></th>\n",
       "      <th>buying</th>\n",
       "      <th>maint</th>\n",
       "      <th>doors</th>\n",
       "      <th>persons</th>\n",
       "      <th>lug_boot</th>\n",
       "      <th>safety</th>\n",
       "      <th>acceptance</th>\n",
       "    </tr>\n",
       "  </thead>\n",
       "  <tbody>\n",
       "    <tr>\n",
       "      <th>0</th>\n",
       "      <td>3</td>\n",
       "      <td>3</td>\n",
       "      <td>2</td>\n",
       "      <td>2</td>\n",
       "      <td>0</td>\n",
       "      <td>0</td>\n",
       "      <td>unacc</td>\n",
       "    </tr>\n",
       "    <tr>\n",
       "      <th>1</th>\n",
       "      <td>3</td>\n",
       "      <td>3</td>\n",
       "      <td>2</td>\n",
       "      <td>2</td>\n",
       "      <td>0</td>\n",
       "      <td>1</td>\n",
       "      <td>unacc</td>\n",
       "    </tr>\n",
       "    <tr>\n",
       "      <th>2</th>\n",
       "      <td>3</td>\n",
       "      <td>3</td>\n",
       "      <td>2</td>\n",
       "      <td>2</td>\n",
       "      <td>0</td>\n",
       "      <td>2</td>\n",
       "      <td>unacc</td>\n",
       "    </tr>\n",
       "    <tr>\n",
       "      <th>3</th>\n",
       "      <td>3</td>\n",
       "      <td>3</td>\n",
       "      <td>2</td>\n",
       "      <td>2</td>\n",
       "      <td>1</td>\n",
       "      <td>0</td>\n",
       "      <td>unacc</td>\n",
       "    </tr>\n",
       "    <tr>\n",
       "      <th>4</th>\n",
       "      <td>3</td>\n",
       "      <td>3</td>\n",
       "      <td>2</td>\n",
       "      <td>2</td>\n",
       "      <td>1</td>\n",
       "      <td>1</td>\n",
       "      <td>unacc</td>\n",
       "    </tr>\n",
       "  </tbody>\n",
       "</table>\n",
       "</div>"
      ],
      "text/plain": [
       "   buying  maint  doors  persons  lug_boot  safety acceptance\n",
       "0       3      3      2        2         0       0      unacc\n",
       "1       3      3      2        2         0       1      unacc\n",
       "2       3      3      2        2         0       2      unacc\n",
       "3       3      3      2        2         1       0      unacc\n",
       "4       3      3      2        2         1       1      unacc"
      ]
     },
     "execution_count": 22,
     "metadata": {},
     "output_type": "execute_result"
    }
   ],
   "source": [
    "car_num_encoded.head(5)"
   ]
  },
  {
   "cell_type": "code",
   "execution_count": 23,
   "id": "e5d0d8cf",
   "metadata": {
    "pycharm": {
     "name": "#%%\n"
    }
   },
   "outputs": [],
   "source": [
    "# 创建编码器\n",
    "buying_encoder = LabelEncoder()\n",
    "# 适配数据集并完成编码\n",
    "encoded_buying = buying_encoder.fit_transform(car[\"buying\"])"
   ]
  },
  {
   "cell_type": "code",
   "execution_count": 24,
   "id": "a558cc44",
   "metadata": {
    "pycharm": {
     "name": "#%%\n"
    }
   },
   "outputs": [
    {
     "data": {
      "text/plain": [
       "array(['high', 'low', 'med', 'vhigh'], dtype=object)"
      ]
     },
     "execution_count": 24,
     "metadata": {},
     "output_type": "execute_result"
    }
   ],
   "source": [
    "buying_encoder.inverse_transform([0, 1, 2, 3])"
   ]
  },
  {
   "cell_type": "code",
   "execution_count": 25,
   "id": "fc85a0b0",
   "metadata": {
    "pycharm": {
     "name": "#%%\n"
    }
   },
   "outputs": [
    {
     "data": {
      "text/html": [
       "<div>\n",
       "<style scoped>\n",
       "    .dataframe tbody tr th:only-of-type {\n",
       "        vertical-align: middle;\n",
       "    }\n",
       "\n",
       "    .dataframe tbody tr th {\n",
       "        vertical-align: top;\n",
       "    }\n",
       "\n",
       "    .dataframe thead th {\n",
       "        text-align: right;\n",
       "    }\n",
       "</style>\n",
       "<table border=\"1\" class=\"dataframe\">\n",
       "  <thead>\n",
       "    <tr style=\"text-align: right;\">\n",
       "      <th></th>\n",
       "      <th>buying__high</th>\n",
       "      <th>buying__low</th>\n",
       "      <th>buying__med</th>\n",
       "      <th>buying__vhigh</th>\n",
       "    </tr>\n",
       "  </thead>\n",
       "  <tbody>\n",
       "    <tr>\n",
       "      <th>0</th>\n",
       "      <td>0</td>\n",
       "      <td>0</td>\n",
       "      <td>0</td>\n",
       "      <td>1</td>\n",
       "    </tr>\n",
       "    <tr>\n",
       "      <th>1</th>\n",
       "      <td>0</td>\n",
       "      <td>0</td>\n",
       "      <td>0</td>\n",
       "      <td>1</td>\n",
       "    </tr>\n",
       "    <tr>\n",
       "      <th>2</th>\n",
       "      <td>0</td>\n",
       "      <td>0</td>\n",
       "      <td>0</td>\n",
       "      <td>1</td>\n",
       "    </tr>\n",
       "    <tr>\n",
       "      <th>3</th>\n",
       "      <td>0</td>\n",
       "      <td>0</td>\n",
       "      <td>0</td>\n",
       "      <td>1</td>\n",
       "    </tr>\n",
       "    <tr>\n",
       "      <th>4</th>\n",
       "      <td>0</td>\n",
       "      <td>0</td>\n",
       "      <td>0</td>\n",
       "      <td>1</td>\n",
       "    </tr>\n",
       "  </tbody>\n",
       "</table>\n",
       "</div>"
      ],
      "text/plain": [
       "   buying__high  buying__low  buying__med  buying__vhigh\n",
       "0             0            0            0              1\n",
       "1             0            0            0              1\n",
       "2             0            0            0              1\n",
       "3             0            0            0              1\n",
       "4             0            0            0              1"
      ]
     },
     "execution_count": 25,
     "metadata": {},
     "output_type": "execute_result"
    }
   ],
   "source": [
    "pd.get_dummies(car[\"buying\"], prefix=\"buying_\").head(5)"
   ]
  },
  {
   "cell_type": "code",
   "execution_count": 26,
   "id": "2fb17eec",
   "metadata": {
    "pycharm": {
     "name": "#%%\n"
    }
   },
   "outputs": [],
   "source": [
    "car_onehot_encoded = pd.DataFrame()"
   ]
  },
  {
   "cell_type": "code",
   "execution_count": 27,
   "id": "dfe267a0",
   "metadata": {
    "pycharm": {
     "name": "#%%\n"
    }
   },
   "outputs": [],
   "source": [
    "for col in [\"buying\", \"maint\", \"doors\", \"persons\", \"lug_boot\", \"safety\"]:\n",
    "    col_encoded = pd.get_dummies(car[col], prefix=col + \"_\")\n",
    "    car_onehot_encoded = pd.concat([car_onehot_encoded, col_encoded], axis=1)"
   ]
  },
  {
   "cell_type": "code",
   "execution_count": 28,
   "id": "f3683633",
   "metadata": {
    "pycharm": {
     "name": "#%%\n"
    }
   },
   "outputs": [],
   "source": [
    "car_onehot_encoded = pd.concat([car_onehot_encoded, car[\"acceptance\"]], axis=1)"
   ]
  },
  {
   "cell_type": "code",
   "execution_count": 29,
   "id": "1ec200ab",
   "metadata": {
    "pycharm": {
     "name": "#%%\n"
    }
   },
   "outputs": [
    {
     "data": {
      "text/html": [
       "<div>\n",
       "<style scoped>\n",
       "    .dataframe tbody tr th:only-of-type {\n",
       "        vertical-align: middle;\n",
       "    }\n",
       "\n",
       "    .dataframe tbody tr th {\n",
       "        vertical-align: top;\n",
       "    }\n",
       "\n",
       "    .dataframe thead th {\n",
       "        text-align: right;\n",
       "    }\n",
       "</style>\n",
       "<table border=\"1\" class=\"dataframe\">\n",
       "  <thead>\n",
       "    <tr style=\"text-align: right;\">\n",
       "      <th></th>\n",
       "      <th>buying__high</th>\n",
       "      <th>buying__low</th>\n",
       "      <th>buying__med</th>\n",
       "      <th>buying__vhigh</th>\n",
       "      <th>maint__high</th>\n",
       "      <th>maint__low</th>\n",
       "      <th>maint__med</th>\n",
       "      <th>maint__vhigh</th>\n",
       "      <th>doors__2</th>\n",
       "      <th>doors__3</th>\n",
       "      <th>...</th>\n",
       "      <th>persons__2</th>\n",
       "      <th>persons__4</th>\n",
       "      <th>persons__more</th>\n",
       "      <th>lug_boot__big</th>\n",
       "      <th>lug_boot__med</th>\n",
       "      <th>lug_boot__small</th>\n",
       "      <th>safety__high</th>\n",
       "      <th>safety__low</th>\n",
       "      <th>safety__med</th>\n",
       "      <th>acceptance</th>\n",
       "    </tr>\n",
       "  </thead>\n",
       "  <tbody>\n",
       "    <tr>\n",
       "      <th>0</th>\n",
       "      <td>0</td>\n",
       "      <td>0</td>\n",
       "      <td>0</td>\n",
       "      <td>1</td>\n",
       "      <td>0</td>\n",
       "      <td>0</td>\n",
       "      <td>0</td>\n",
       "      <td>1</td>\n",
       "      <td>1</td>\n",
       "      <td>0</td>\n",
       "      <td>...</td>\n",
       "      <td>1</td>\n",
       "      <td>0</td>\n",
       "      <td>0</td>\n",
       "      <td>0</td>\n",
       "      <td>0</td>\n",
       "      <td>1</td>\n",
       "      <td>0</td>\n",
       "      <td>1</td>\n",
       "      <td>0</td>\n",
       "      <td>unacc</td>\n",
       "    </tr>\n",
       "    <tr>\n",
       "      <th>1</th>\n",
       "      <td>0</td>\n",
       "      <td>0</td>\n",
       "      <td>0</td>\n",
       "      <td>1</td>\n",
       "      <td>0</td>\n",
       "      <td>0</td>\n",
       "      <td>0</td>\n",
       "      <td>1</td>\n",
       "      <td>1</td>\n",
       "      <td>0</td>\n",
       "      <td>...</td>\n",
       "      <td>1</td>\n",
       "      <td>0</td>\n",
       "      <td>0</td>\n",
       "      <td>0</td>\n",
       "      <td>0</td>\n",
       "      <td>1</td>\n",
       "      <td>0</td>\n",
       "      <td>0</td>\n",
       "      <td>1</td>\n",
       "      <td>unacc</td>\n",
       "    </tr>\n",
       "    <tr>\n",
       "      <th>2</th>\n",
       "      <td>0</td>\n",
       "      <td>0</td>\n",
       "      <td>0</td>\n",
       "      <td>1</td>\n",
       "      <td>0</td>\n",
       "      <td>0</td>\n",
       "      <td>0</td>\n",
       "      <td>1</td>\n",
       "      <td>1</td>\n",
       "      <td>0</td>\n",
       "      <td>...</td>\n",
       "      <td>1</td>\n",
       "      <td>0</td>\n",
       "      <td>0</td>\n",
       "      <td>0</td>\n",
       "      <td>0</td>\n",
       "      <td>1</td>\n",
       "      <td>1</td>\n",
       "      <td>0</td>\n",
       "      <td>0</td>\n",
       "      <td>unacc</td>\n",
       "    </tr>\n",
       "    <tr>\n",
       "      <th>3</th>\n",
       "      <td>0</td>\n",
       "      <td>0</td>\n",
       "      <td>0</td>\n",
       "      <td>1</td>\n",
       "      <td>0</td>\n",
       "      <td>0</td>\n",
       "      <td>0</td>\n",
       "      <td>1</td>\n",
       "      <td>1</td>\n",
       "      <td>0</td>\n",
       "      <td>...</td>\n",
       "      <td>1</td>\n",
       "      <td>0</td>\n",
       "      <td>0</td>\n",
       "      <td>0</td>\n",
       "      <td>1</td>\n",
       "      <td>0</td>\n",
       "      <td>0</td>\n",
       "      <td>1</td>\n",
       "      <td>0</td>\n",
       "      <td>unacc</td>\n",
       "    </tr>\n",
       "    <tr>\n",
       "      <th>4</th>\n",
       "      <td>0</td>\n",
       "      <td>0</td>\n",
       "      <td>0</td>\n",
       "      <td>1</td>\n",
       "      <td>0</td>\n",
       "      <td>0</td>\n",
       "      <td>0</td>\n",
       "      <td>1</td>\n",
       "      <td>1</td>\n",
       "      <td>0</td>\n",
       "      <td>...</td>\n",
       "      <td>1</td>\n",
       "      <td>0</td>\n",
       "      <td>0</td>\n",
       "      <td>0</td>\n",
       "      <td>1</td>\n",
       "      <td>0</td>\n",
       "      <td>0</td>\n",
       "      <td>0</td>\n",
       "      <td>1</td>\n",
       "      <td>unacc</td>\n",
       "    </tr>\n",
       "  </tbody>\n",
       "</table>\n",
       "<p>5 rows × 22 columns</p>\n",
       "</div>"
      ],
      "text/plain": [
       "   buying__high  buying__low  buying__med  buying__vhigh  maint__high  \\\n",
       "0             0            0            0              1            0   \n",
       "1             0            0            0              1            0   \n",
       "2             0            0            0              1            0   \n",
       "3             0            0            0              1            0   \n",
       "4             0            0            0              1            0   \n",
       "\n",
       "   maint__low  maint__med  maint__vhigh  doors__2  doors__3  ...  persons__2  \\\n",
       "0           0           0             1         1         0  ...           1   \n",
       "1           0           0             1         1         0  ...           1   \n",
       "2           0           0             1         1         0  ...           1   \n",
       "3           0           0             1         1         0  ...           1   \n",
       "4           0           0             1         1         0  ...           1   \n",
       "\n",
       "   persons__4  persons__more  lug_boot__big  lug_boot__med  lug_boot__small  \\\n",
       "0           0              0              0              0                1   \n",
       "1           0              0              0              0                1   \n",
       "2           0              0              0              0                1   \n",
       "3           0              0              0              1                0   \n",
       "4           0              0              0              1                0   \n",
       "\n",
       "   safety__high  safety__low  safety__med  acceptance  \n",
       "0             0            1            0       unacc  \n",
       "1             0            0            1       unacc  \n",
       "2             1            0            0       unacc  \n",
       "3             0            1            0       unacc  \n",
       "4             0            0            1       unacc  \n",
       "\n",
       "[5 rows x 22 columns]"
      ]
     },
     "execution_count": 29,
     "metadata": {},
     "output_type": "execute_result"
    }
   ],
   "source": [
    "car_onehot_encoded.head(5)"
   ]
  },
  {
   "cell_type": "code",
   "execution_count": 30,
   "id": "27073262",
   "metadata": {
    "pycharm": {
     "name": "#%%\n"
    }
   },
   "outputs": [],
   "source": [
    "# 数字编码数据集进行划分\n",
    "x_num = car_num_encoded.iloc[:,:6]\n",
    "y_num = car_num_encoded[\"acceptance\"]\n",
    "# 将百分之七十数据作为训练集，剩余作为测试集。按照acceptance进行分成抽样，确保测试集和训练集满意程度分布情况一致\n",
    "x_train_num, x_test_num, y_train_num, y_test_num = train_test_split(x_num, y_num, test_size=0.3, stratify=y_num, random_state=42)"
   ]
  },
  {
   "cell_type": "code",
   "execution_count": 31,
   "id": "ad8155b4",
   "metadata": {
    "pycharm": {
     "name": "#%%\n"
    }
   },
   "outputs": [
    {
     "name": "stdout",
     "output_type": "stream",
     "text": [
      "unacc    0.700579\n",
      "acc      0.222498\n",
      "good     0.039702\n",
      "vgood    0.037221\n",
      "Name: acceptance, dtype: float64\n",
      "unacc    0.699422\n",
      "acc      0.221580\n",
      "good     0.040462\n",
      "vgood    0.038536\n",
      "Name: acceptance, dtype: float64\n"
     ]
    }
   ],
   "source": [
    "# 输出训练集各个取值样本所占比例\n",
    "print (y_train_num.value_counts()/len(y_train_num))\n",
    "# 输出测试集各个取值样本所占比例\n",
    "print (y_test_num.value_counts()/len(y_test_num))"
   ]
  },
  {
   "cell_type": "code",
   "execution_count": 32,
   "id": "8c7bf5f9",
   "metadata": {
    "pycharm": {
     "name": "#%%\n"
    }
   },
   "outputs": [],
   "source": [
    "# one-hot编码数据集进行划分\n",
    "x_onehot = car_onehot_encoded.iloc[:,:21]\n",
    "y_onehot = car_onehot_encoded[\"acceptance\"]\n",
    "# 将百分之七十数据作为训练集，剩余作为测试集。按照acceptance进行分成抽样，确保测试集和训练集满意程度分布情况一致\n",
    "x_train_onehot, x_test_onehot, y_train_onehot, y_test_onehot = train_test_split(x_onehot, y_onehot, test_size=0.3, stratify=y_onehot, random_state=42)"
   ]
  },
  {
   "cell_type": "code",
   "execution_count": 38,
   "id": "6cd317d1",
   "metadata": {
    "pycharm": {
     "name": "#%%\n"
    }
   },
   "outputs": [
    {
     "name": "stdout",
     "output_type": "stream",
     "text": [
      "unacc    0.700579\n",
      "acc      0.222498\n",
      "good     0.039702\n",
      "vgood    0.037221\n",
      "Name: acceptance, dtype: float64\n",
      "unacc    0.699422\n",
      "acc      0.221580\n",
      "good     0.040462\n",
      "vgood    0.038536\n",
      "Name: acceptance, dtype: float64\n"
     ]
    }
   ],
   "source": [
    "# 输出训练集各个取值样本所占比例\n",
    "print (y_train_onehot.value_counts()/len(y_train_onehot))\n",
    "# 输出测试集各个取值样本所占比例\n",
    "print (y_test_onehot.value_counts()/len(y_test_onehot))"
   ]
  },
  {
   "cell_type": "code",
   "execution_count": 33,
   "id": "353af241",
   "metadata": {
    "pycharm": {
     "name": "#%%\n"
    }
   },
   "outputs": [],
   "source": [
    "# 创建逻辑回归模型模型\n",
    "num_model = LogisticRegression(max_iter=5000)\n",
    "onehot_model = LogisticRegression(max_iter=5000)"
   ]
  },
  {
   "cell_type": "code",
   "execution_count": 34,
   "id": "0bb99aa7",
   "metadata": {
    "pycharm": {
     "name": "#%%\n"
    }
   },
   "outputs": [
    {
     "data": {
      "text/plain": [
       "LogisticRegression(max_iter=5000)"
      ]
     },
     "execution_count": 34,
     "metadata": {},
     "output_type": "execute_result"
    }
   ],
   "source": [
    "# 分别用数字编码的数据集和one-hot编码的数据集训练模型\n",
    "num_model.fit(x_train_num, y_train_num)\n",
    "onehot_model.fit(x_train_onehot, y_train_onehot)"
   ]
  },
  {
   "cell_type": "code",
   "execution_count": 35,
   "id": "ccef1261",
   "metadata": {
    "pycharm": {
     "name": "#%%\n"
    }
   },
   "outputs": [],
   "source": [
    "# 获取数据编码对应模型的预测结果\n",
    "y_pred_num = num_model.predict(x_test_num)\n",
    "# 获取one-hot编码对应模型的预测结果\n",
    "y_pred_onehot = onehot_model.predict(x_test_onehot)"
   ]
  },
  {
   "cell_type": "code",
   "execution_count": 36,
   "id": "6fdea107",
   "metadata": {
    "pycharm": {
     "name": "#%%\n"
    }
   },
   "outputs": [
    {
     "name": "stdout",
     "output_type": "stream",
     "text": [
      "              precision    recall  f1-score   support\n",
      "\n",
      "         acc       0.65      0.50      0.57       115\n",
      "        good       0.67      0.57      0.62        21\n",
      "       unacc       0.87      0.94      0.90       363\n",
      "       vgood       0.76      0.65      0.70        20\n",
      "\n",
      "    accuracy                           0.82       519\n",
      "   macro avg       0.74      0.67      0.70       519\n",
      "weighted avg       0.81      0.82      0.81       519\n",
      "\n"
     ]
    }
   ],
   "source": [
    "# 查看数字编码训练模型的性能\n",
    "print(classification_report(y_test_num, y_pred_num))"
   ]
  },
  {
   "cell_type": "code",
   "execution_count": 37,
   "id": "aa916238",
   "metadata": {
    "pycharm": {
     "name": "#%%\n"
    }
   },
   "outputs": [
    {
     "name": "stdout",
     "output_type": "stream",
     "text": [
      "              precision    recall  f1-score   support\n",
      "\n",
      "         acc       0.79      0.84      0.82       115\n",
      "        good       0.69      0.43      0.53        21\n",
      "       unacc       0.96      0.97      0.97       363\n",
      "       vgood       0.95      0.90      0.92        20\n",
      "\n",
      "    accuracy                           0.92       519\n",
      "   macro avg       0.85      0.78      0.81       519\n",
      "weighted avg       0.91      0.92      0.91       519\n",
      "\n"
     ]
    }
   ],
   "source": [
    "# 查看onehot编码训练模型的性能\n",
    "print(classification_report(y_test_onehot, y_pred_onehot))"
   ]
  },
  {
   "cell_type": "code",
   "execution_count": 39,
   "id": "20e206ef",
   "metadata": {
    "pycharm": {
     "name": "#%%\n"
    }
   },
   "outputs": [],
   "source": [
    "car_onehot_encoded.to_csv(\"D:/output/one-hot.csv\")"
   ]
  },
  {
   "cell_type": "code",
   "execution_count": null,
   "id": "931aa35d",
   "metadata": {
    "pycharm": {
     "name": "#%%\n"
    }
   },
   "outputs": [],
   "source": []
  }
 ],
 "metadata": {
  "kernelspec": {
   "display_name": "Python 3",
   "language": "python",
   "name": "python3"
  },
  "language_info": {
   "codemirror_mode": {
    "name": "ipython",
    "version": 3
   },
   "file_extension": ".py",
   "mimetype": "text/x-python",
   "name": "python",
   "nbconvert_exporter": "python",
   "pygments_lexer": "ipython3",
   "version": "3.8.8"
  }
 },
 "nbformat": 4,
 "nbformat_minor": 5
}