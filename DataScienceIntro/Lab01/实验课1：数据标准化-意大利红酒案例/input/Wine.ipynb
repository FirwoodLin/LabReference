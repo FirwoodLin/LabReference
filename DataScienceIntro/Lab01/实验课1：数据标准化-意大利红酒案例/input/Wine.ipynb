{
 "cells": [
  {
   "cell_type": "code",
   "execution_count": 1,
   "id": "186683c6",
   "metadata": {},
   "outputs": [],
   "source": [
    "# 导入依赖包\n",
    "import pandas as pd"
   ]
  },
  {
   "cell_type": "code",
   "execution_count": 2,
   "id": "73ff0a57",
   "metadata": {},
   "outputs": [],
   "source": [
    "import numpy as np"
   ]
  },
  {
   "cell_type": "code",
   "execution_count": 3,
   "id": "cf7e81e5",
   "metadata": {},
   "outputs": [],
   "source": [
    "from sklearn import preprocessing"
   ]
  },
  {
   "cell_type": "code",
   "execution_count": 4,
   "id": "82e8d671",
   "metadata": {},
   "outputs": [],
   "source": [
    "import seaborn as sns"
   ]
  },
  {
   "cell_type": "code",
   "execution_count": 5,
   "id": "6c5d8943",
   "metadata": {},
   "outputs": [],
   "source": [
    "import matplotlib.pyplot as plt"
   ]
  },
  {
   "cell_type": "code",
   "execution_count": 6,
   "id": "a9c5b703",
   "metadata": {},
   "outputs": [
    {
     "data": {
      "text/html": [
       "<div>\n",
       "<style scoped>\n",
       "    .dataframe tbody tr th:only-of-type {\n",
       "        vertical-align: middle;\n",
       "    }\n",
       "\n",
       "    .dataframe tbody tr th {\n",
       "        vertical-align: top;\n",
       "    }\n",
       "\n",
       "    .dataframe thead th {\n",
       "        text-align: right;\n",
       "    }\n",
       "</style>\n",
       "<table border=\"1\" class=\"dataframe\">\n",
       "  <thead>\n",
       "    <tr style=\"text-align: right;\">\n",
       "      <th></th>\n",
       "      <th>Class</th>\n",
       "      <th>Alcohol</th>\n",
       "      <th>Malic acid</th>\n",
       "      <th>Attribute</th>\n",
       "      <th>Unnamed: 4</th>\n",
       "      <th>Unnamed: 5</th>\n",
       "      <th>Unnamed: 6</th>\n",
       "      <th>Unnamed: 7</th>\n",
       "      <th>Unnamed: 8</th>\n",
       "      <th>Unnamed: 9</th>\n",
       "      <th>Unnamed: 10</th>\n",
       "      <th>Unnamed: 11</th>\n",
       "      <th>Unnamed: 12</th>\n",
       "      <th>Unnamed: 13</th>\n",
       "    </tr>\n",
       "  </thead>\n",
       "  <tbody>\n",
       "    <tr>\n",
       "      <th>0</th>\n",
       "      <td>1</td>\n",
       "      <td>14.23</td>\n",
       "      <td>1.71</td>\n",
       "      <td>2.43</td>\n",
       "      <td>15.6</td>\n",
       "      <td>127</td>\n",
       "      <td>2.80</td>\n",
       "      <td>3.06</td>\n",
       "      <td>0.28</td>\n",
       "      <td>2.29</td>\n",
       "      <td>5.64</td>\n",
       "      <td>1.04</td>\n",
       "      <td>3.92</td>\n",
       "      <td>1065</td>\n",
       "    </tr>\n",
       "    <tr>\n",
       "      <th>1</th>\n",
       "      <td>1</td>\n",
       "      <td>13.20</td>\n",
       "      <td>1.78</td>\n",
       "      <td>2.14</td>\n",
       "      <td>11.2</td>\n",
       "      <td>100</td>\n",
       "      <td>2.65</td>\n",
       "      <td>2.76</td>\n",
       "      <td>0.26</td>\n",
       "      <td>1.28</td>\n",
       "      <td>4.38</td>\n",
       "      <td>1.05</td>\n",
       "      <td>3.40</td>\n",
       "      <td>1050</td>\n",
       "    </tr>\n",
       "    <tr>\n",
       "      <th>2</th>\n",
       "      <td>1</td>\n",
       "      <td>13.16</td>\n",
       "      <td>2.36</td>\n",
       "      <td>2.67</td>\n",
       "      <td>18.6</td>\n",
       "      <td>101</td>\n",
       "      <td>2.80</td>\n",
       "      <td>3.24</td>\n",
       "      <td>0.30</td>\n",
       "      <td>2.81</td>\n",
       "      <td>5.68</td>\n",
       "      <td>1.03</td>\n",
       "      <td>3.17</td>\n",
       "      <td>1185</td>\n",
       "    </tr>\n",
       "    <tr>\n",
       "      <th>3</th>\n",
       "      <td>1</td>\n",
       "      <td>14.37</td>\n",
       "      <td>1.95</td>\n",
       "      <td>2.50</td>\n",
       "      <td>16.8</td>\n",
       "      <td>113</td>\n",
       "      <td>3.85</td>\n",
       "      <td>3.49</td>\n",
       "      <td>0.24</td>\n",
       "      <td>2.18</td>\n",
       "      <td>7.80</td>\n",
       "      <td>0.86</td>\n",
       "      <td>3.45</td>\n",
       "      <td>1480</td>\n",
       "    </tr>\n",
       "    <tr>\n",
       "      <th>4</th>\n",
       "      <td>1</td>\n",
       "      <td>13.24</td>\n",
       "      <td>2.59</td>\n",
       "      <td>2.87</td>\n",
       "      <td>21.0</td>\n",
       "      <td>118</td>\n",
       "      <td>2.80</td>\n",
       "      <td>2.69</td>\n",
       "      <td>0.39</td>\n",
       "      <td>1.82</td>\n",
       "      <td>4.32</td>\n",
       "      <td>1.04</td>\n",
       "      <td>2.93</td>\n",
       "      <td>735</td>\n",
       "    </tr>\n",
       "  </tbody>\n",
       "</table>\n",
       "</div>"
      ],
      "text/plain": [
       "   Class  Alcohol  Malic acid  Attribute  Unnamed: 4  Unnamed: 5  Unnamed: 6  \\\n",
       "0      1    14.23        1.71       2.43        15.6         127        2.80   \n",
       "1      1    13.20        1.78       2.14        11.2         100        2.65   \n",
       "2      1    13.16        2.36       2.67        18.6         101        2.80   \n",
       "3      1    14.37        1.95       2.50        16.8         113        3.85   \n",
       "4      1    13.24        2.59       2.87        21.0         118        2.80   \n",
       "\n",
       "   Unnamed: 7  Unnamed: 8  Unnamed: 9  Unnamed: 10  Unnamed: 11  Unnamed: 12  \\\n",
       "0        3.06        0.28        2.29         5.64         1.04         3.92   \n",
       "1        2.76        0.26        1.28         4.38         1.05         3.40   \n",
       "2        3.24        0.30        2.81         5.68         1.03         3.17   \n",
       "3        3.49        0.24        2.18         7.80         0.86         3.45   \n",
       "4        2.69        0.39        1.82         4.32         1.04         2.93   \n",
       "\n",
       "   Unnamed: 13  \n",
       "0         1065  \n",
       "1         1050  \n",
       "2         1185  \n",
       "3         1480  \n",
       "4          735  "
      ]
     },
     "execution_count": 6,
     "metadata": {},
     "output_type": "execute_result"
    }
   ],
   "source": [
    "# 导入数据\n",
    "wine = pd.read_csv(\"D:/input/wine.csv\")\n",
    "# 查看前五行\n",
    "wine.head(5)"
   ]
  },
  {
   "cell_type": "code",
   "execution_count": 7,
   "id": "b23c4c63",
   "metadata": {},
   "outputs": [],
   "source": [
    "# 0-1标准化\n",
    "minmax_scale = preprocessing.MinMaxScaler().fit(wine[['Alcohol','Malic acid']])\n",
    "np_minmax = minmax_scale.transform(wine[['Alcohol','Malic acid']])\n",
    "\n",
    "# z-score标准化\n",
    "std_scale = preprocessing.StandardScaler().fit(wine[['Alcohol','Malic acid']])\n",
    "np_std = std_scale.transform(wine[['Alcohol','Malic acid']])"
   ]
  },
  {
   "cell_type": "code",
   "execution_count": 8,
   "id": "eaa8b73b",
   "metadata": {},
   "outputs": [
    {
     "name": "stdout",
     "output_type": "stream",
     "text": [
      "0-1标准化后两个指标的最小值：\n",
      " Alcohol最小值为 0.0 Malic acid最小值为 0.0\n"
     ]
    }
   ],
   "source": [
    "# 0-1标准化后，两个特征变量的最小值\n",
    "print(\"0-1标准化后两个指标的最小值：\\n\", \"Alcohol最小值为\", np_minmax[:, 0].min(), \"Malic acid最小值为\", np_minmax[:, 1].min())"
   ]
  },
  {
   "cell_type": "code",
   "execution_count": 9,
   "id": "7b241c89",
   "metadata": {},
   "outputs": [
    {
     "name": "stdout",
     "output_type": "stream",
     "text": [
      "0-1标准化后两个指标的最大值：\n",
      " Alcohol最大值为 1.0 Malic acid最大值为 1.0\n"
     ]
    }
   ],
   "source": [
    "# 0-1标准化后，两个特征变量的最大值\n",
    "print(\"0-1标准化后两个指标的最大值：\\n\", \"Alcohol最大值为\", np_minmax[:, 0].max(), \"Malic acid最大值为\", np_minmax[:, 1].max())"
   ]
  },
  {
   "cell_type": "code",
   "execution_count": 10,
   "id": "e5a05638",
   "metadata": {},
   "outputs": [
    {
     "name": "stdout",
     "output_type": "stream",
     "text": [
      "z-score标准化后两个指标的最小值：\n",
      " Alcohol最小值为 -2.4342353470856977 Malic acid最小值为 -1.4329830495567168\n"
     ]
    }
   ],
   "source": [
    "# z-score标准化后，两个特征变量的最小值\n",
    "print(\"z-score标准化后两个指标的最小值：\\n\", \"Alcohol最小值为\", np_std[:, 0].min(), \"Malic acid最小值为\", np_std[:, 1].min())"
   ]
  },
  {
   "cell_type": "code",
   "execution_count": 11,
   "id": "168e71de",
   "metadata": {},
   "outputs": [
    {
     "name": "stdout",
     "output_type": "stream",
     "text": [
      "z-score标准化后两个指标的最大值：\n",
      " Alcohol最大值为 2.2597715200031785 Malic acid最大值为 3.1091924671589037\n"
     ]
    }
   ],
   "source": [
    "# z-score标准化后，两个特征变量的最大值\n",
    "print(\"z-score标准化后两个指标的最大值：\\n\", \"Alcohol最大值为\", np_std[:, 0].max(), \"Malic acid最大值为\", np_std[:, 1].max())"
   ]
  },
  {
   "cell_type": "code",
   "execution_count": 12,
   "id": "54c423ed",
   "metadata": {},
   "outputs": [
    {
     "name": "stdout",
     "output_type": "stream",
     "text": [
      "0-1标准化后前五行\n",
      "[[0.84210526 0.1916996 ]\n",
      " [0.57105263 0.2055336 ]\n",
      " [0.56052632 0.3201581 ]\n",
      " [0.87894737 0.23913043]\n",
      " [0.58157895 0.36561265]]\n"
     ]
    }
   ],
   "source": [
    "# 0-1标准化后\n",
    "print(\"0-1标准化后前五行\")\n",
    "print(np_minmax[0:5,:])"
   ]
  },
  {
   "cell_type": "code",
   "execution_count": 13,
   "id": "f8136e8e",
   "metadata": {},
   "outputs": [
    {
     "name": "stdout",
     "output_type": "stream",
     "text": [
      "z-score标准化后前五行\n",
      "[[ 1.51861254 -0.5622498 ]\n",
      " [ 0.24628963 -0.49941338]\n",
      " [ 0.19687903  0.02123125]\n",
      " [ 1.69154964 -0.34681064]\n",
      " [ 0.29570023  0.22769377]]\n"
     ]
    }
   ],
   "source": [
    "# z-score标准化后\n",
    "print(\"z-score标准化后前五行\")\n",
    "print(np_std[0:5,:])"
   ]
  },
  {
   "cell_type": "code",
   "execution_count": 14,
   "id": "b55244ab",
   "metadata": {},
   "outputs": [],
   "source": [
    "# 获取数据备份\n",
    "df_minmax = wine.copy()\n",
    "df_std = wine.copy()\n",
    "# 将前面标准化后的数据替换进备份\n",
    "df_minmax[['Alcohol','Malic acid']] = np_minmax\n",
    "df_std[['Alcohol','Malic acid']] = np_std\n",
    "# 合并数据集\n",
    "wine_contrast = pd.concat([wine, df_minmax, df_std], axis=0)"
   ]
  },
  {
   "cell_type": "code",
   "execution_count": 15,
   "id": "e223fa43",
   "metadata": {},
   "outputs": [
    {
     "data": {
      "text/plain": [
       "<Figure size 720x720 with 0 Axes>"
      ]
     },
     "metadata": {},
     "output_type": "display_data"
    },
    {
     "data": {
      "image/png": "[encoded data removed]",
      "text/plain": [
       "<Figure size 222.375x180 with 1 Axes>"
      ]
     },
     "metadata": {
      "needs_background": "light"
     },
     "output_type": "display_data"
    }
   ],
   "source": [
    "# 创建画布\n",
    "plt.figure(figsize=(10, 10))\n",
    "# 指定x轴和y轴的数据集和坐标轴标识\n",
    "sns.pairplot(hue=\"Class\", data=wine_contrast, x_vars=\"Alcohol\", y_vars=\"Malic acid\")\n",
    "# 显示图像\n",
    "plt.show()"
   ]
  },
  {
   "cell_type": "code",
   "execution_count": 16,
   "id": "49850695",
   "metadata": {},
   "outputs": [
    {
     "data": {
      "text/plain": [
       "<Figure size 720x720 with 0 Axes>"
      ]
     },
     "metadata": {},
     "output_type": "display_data"
    },
    {
     "data": {
      "image/png": "[encoded data removed]",
      "text/plain": [
       "<Figure size 222.375x180 with 1 Axes>"
      ]
     },
     "metadata": {
      "needs_background": "light"
     },
     "output_type": "display_data"
    }
   ],
   "source": [
    "# 画出原数据散点图\n",
    "# 创建画布\n",
    "plt.figure(figsize=(10, 10))\n",
    "# 指定x轴和y轴的数据集和坐标轴标识\n",
    "sns.pairplot(hue=\"Class\", data=wine, x_vars=\"Alcohol\", y_vars=\"Malic acid\")\n",
    "plt.show()"
   ]
  },
  {
   "cell_type": "code",
   "execution_count": 17,
   "id": "042f3620",
   "metadata": {},
   "outputs": [
    {
     "data": {
      "text/plain": [
       "<Figure size 720x720 with 0 Axes>"
      ]
     },
     "metadata": {},
     "output_type": "display_data"
    },
    {
     "data": {
      "image/png": "[encoded data removed]",
      "text/plain": [
       "<Figure size 222.375x180 with 1 Axes>"
      ]
     },
     "metadata": {
      "needs_background": "light"
     },
     "output_type": "display_data"
    }
   ],
   "source": [
    "# 画出0-1标准化后散点图\n",
    "# 创建画布\n",
    "plt.figure(figsize=(10, 10))\n",
    "# 指定x轴和y轴的数据集和坐标轴标识\n",
    "sns.pairplot(hue=\"Class\", data=df_minmax, x_vars=\"Alcohol\", y_vars=\"Malic acid\")\n",
    "plt.show()"
   ]
  },
  {
   "cell_type": "code",
   "execution_count": 18,
   "id": "61c27f80",
   "metadata": {},
   "outputs": [
    {
     "data": {
      "text/plain": [
       "<Figure size 720x720 with 0 Axes>"
      ]
     },
     "metadata": {},
     "output_type": "display_data"
    },
    {
     "data": {
      "image/png": "[encoded data removed]",
      "text/plain": [
       "<Figure size 222.375x180 with 1 Axes>"
      ]
     },
     "metadata": {
      "needs_background": "light"
     },
     "output_type": "display_data"
    }
   ],
   "source": [
    "# 画出z-score标准化后的散点图\n",
    "# 创建画布\n",
    "plt.figure(figsize=(10, 10))\n",
    "# 指定x轴和y轴的数据集和坐标轴标识\n",
    "sns.pairplot(hue=\"Class\", data=df_std, x_vars=\"Alcohol\", y_vars=\"Malic acid\")\n",
    "plt.show()"
   ]
  },
  {
   "cell_type": "code",
   "execution_count": 19,
   "id": "2949757e",
   "metadata": {},
   "outputs": [],
   "source": [
    "# 保存0-1标准化后的数据\n",
    "df_minmax.to_csv(\"D:/output/minmax.csv\",index = False)"
   ]
  },
  {
   "cell_type": "code",
   "execution_count": 20,
   "id": "0806dba8",
   "metadata": {},
   "outputs": [],
   "source": [
    "# 保存z-score标准化后的数据\n",
    "df_std.to_csv(\"D:/output/std.csv\",index = False)"
   ]
  },
  {
   "cell_type": "code",
   "execution_count": null,
   "id": "e242c18d",
   "metadata": {},
   "outputs": [],
   "source": []
  }
 ],
 "metadata": {
  "kernelspec": {
   "display_name": "Python 3",
   "language": "python",
   "name": "python3"
  },
  "language_info": {
   "codemirror_mode": {
    "name": "ipython",
    "version": 3
   },
   "file_extension": ".py",
   "mimetype": "text/x-python",
   "name": "python",
   "nbconvert_exporter": "python",
   "pygments_lexer": "ipython3",
   "version": "3.8.8"
  }
 },
 "nbformat": 4,
 "nbformat_minor": 5
}
